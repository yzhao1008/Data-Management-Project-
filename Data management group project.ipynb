{
 "cells": [
  {
   "cell_type": "markdown",
   "metadata": {},
   "source": [
    "# Project 4"
   ]
  },
  {
   "cell_type": "markdown",
   "metadata": {},
   "source": [
    "Attestation: We conducted the project totally within group, and every member made a great contribution to the project."
   ]
  },
  {
   "cell_type": "markdown",
   "metadata": {},
   "source": [
    "# Part 1"
   ]
  },
  {
   "cell_type": "markdown",
   "metadata": {},
   "source": [
    "#### Identify and describe your dataset, its source, and what appeals to you about it:"
   ]
  },
  {
   "cell_type": "markdown",
   "metadata": {},
   "source": [
    "We used the NYPD Motor Vehicles Collision dataset found here: https://data.cityofnewyork.us/Public-Safety/NYPD-Motor-Vehicle-Collisions/h9gi-nx95\n",
    "\n",
    "The full dataset contains 29 fields and 1.4 million records of car accidents in NYC between 2011 and 2018. For our analysis, we have decided to retain data from the past two years (2017 and 2018), comprising about 430,000 records. Each record represents a collision in NYC by city, borough, precinct and cross street. \n",
    "\n",
    "This data can be used by the public to see how dangerous/safe intersections are in NYC, and we believe some interesting regional and temporal trends may emerge from our analysis. We selected this dataset because it provides a sufficient volume of transactional data, has both categorical and numeric variables, and leaves enough to be cleaned while already being relatively tidy.  "
   ]
  },
  {
   "cell_type": "markdown",
   "metadata": {},
   "source": [
    "####  Initial exploration to determine which themes you wish to explore:"
   ]
  },
  {
   "cell_type": "markdown",
   "metadata": {},
   "source": [
    "We will have a first look at DATE column, and find out how many collisions occur every single day between 1/1/2017 and 11/16/2018. We can explore trends about what date or date range has high incidence rate.\n",
    "\n",
    "In the TIME column, we want to figure out what is the time range that has high probability of motor vehicle collisions.\n",
    "\n",
    "About BOROUGH and ZIP CODE factors, we’d like to have a research about what areas have more collisions and the relationship between geography location and people injured/killed, contributing factors, etc,. This is an important theme in our project.\n",
    "\n",
    "Based on LATITUDE and LONGITUDE, we can have some visualizations of locations about collisions.\n",
    "\n",
    "ON STREET NAME and CROSS STREET NAME show the collisions that occur on the street area, OFF STREET NAME shows collisions that occur on anywhere but not the street area. We will explore the pattern of this theme.\n",
    "\n",
    "NUMBER OF PERSONS INJURED is the sum of NUMBER OF PEDESTRIANS INJURED, NUMBER OF CYCLIST INJURED and NUMBER OF MOTORIST INJURED. NUMBER OF PERSONS KILLED is the sum of NUMBER OF PEDESTRIANS KILLED, NUMBER OF CYCLIST KILLED and NUMBER OF MOTORIST KILLED. We can get statistics about people killed or injured of different kinds ,although this is a cruel theme.\n",
    "\n",
    "For CONTRIBUTING FACTOR, we will specify the reasons of every collision, and get the result of which contributing factor that happens most. The series of columns also tell us how many vehicles are included in the collision.\n",
    "\n",
    "For VEHICLE TYPE, we will figure out what kind of cars are involved in the collision. We can find the most common kind of car and make some suggestions to customers.\n"
   ]
  },
  {
   "cell_type": "markdown",
   "metadata": {},
   "source": [
    "#### Describe the questions you want to be able to answer with the data:"
   ]
  },
  {
   "cell_type": "markdown",
   "metadata": {},
   "source": [
    "We split the questions for analysis to 4 parts. \n",
    "\n",
    "The first part is date and time, includes month, day and hour. \n",
    "\n",
    "The second part related with location, includes borough, zipcode, street names. \n",
    "\n",
    "The third part deals with numbers, including number of pedestrians, cyclist and motorist that killed or injured. \n",
    "\n",
    "The forth part includes factors and vehicle types.\n",
    "\n",
    "For each part above, we have two basic questions. What is the number of collision? What is the total numnber of people killed or injured? These two questions will be analyzed by grouping by the columns from those different parts. Take the first part as an example, what is the number of collisions in Jan, in Feb ... and in Dec? What is the number of total people injured or killed in Jan, in Feb ... and in Dec? If necessary, we use vasualization to enhance the analysis, as well as the insights and potential reasons for certain results."
   ]
  },
  {
   "cell_type": "markdown",
   "metadata": {},
   "source": [
    "#### Concerns about the data:"
   ]
  },
  {
   "cell_type": "markdown",
   "metadata": {},
   "source": [
    "After checking the dataset, we found there are many missing value in borough and zip code. We concerned that null values may take bad affection about the following in-depth research about the point of collisions happened.\n",
    "\n",
    "(Language problem) As for the street names, there are three columns: ON STREET NAME, CROSS STREET NAME, OFF STREET NAME. We are little confused with the meaning of off-street name. We thought it should be the area where are not on the street, such as parking lots, yards. \n",
    "\n",
    "We roughly looked through the whole data and found that there are many zero in these columns related with facts: NUMBER OF PEDESTRIANS INJURED, NUMBER OF PEDESTRIANS KILLED, NUMBER OF CYCLIST INJURED, NUMBER OF CYCLIST KILLED, NUMBER OF MOTORIST INJURED and NUMBER OF MOTORIST KILLED. \n",
    "\n",
    "We found there are many unspecified contributing factor in columns and there are more than one factors for a car accident in different columns, which may make some troubles on analyzing the factors of traffic collisions.  Moreover, many null values in the columns: CONTRIBUTING FACTOR VEHICLE 3,4,5, although these null values are reasonable, because most of collisions just having 2 vehicles.\n",
    "\n",
    "In a collision, there may be not only two cars, so it’s easy to understand there are five columns about vehicle type code. However, we concerned about if we want to get similar car accident event, we need to know the vehicle type. It’s not easy to combine two or more type in one car accident, for different number of vehicles participated in different collisions. \n"
   ]
  },
  {
   "cell_type": "markdown",
   "metadata": {},
   "source": [
    "#### Challenges:"
   ]
  },
  {
   "cell_type": "markdown",
   "metadata": {},
   "source": [
    "Since analysis by borough is an important component of our project, the large number of accidents where boroughs are missing can be a problem. But we decide not to delete them. These may cause a challenge to our analysis, but we can remove the records have null value in borough from our results to overcome it.\n",
    "\n",
    "We may have problems that keys are not successfully insert into another table from its orginal table. We need to replace the null value in some columns to realize inserting keys into fact table. This is a precess that runs slowly. Be patient.\n",
    "\n",
    "It's challenging to use suitable kind of visualization to empover our analysis, as well as analyze the potential reasons for some results that beyond our expectation.\n",
    "\n",
    "In our dataset, most collisions only involve two cars, which leave us with six columns in which most values would be null or unspecified. If we simply delete all those columns, we might miss some important information. But if we don’t, how should we deal with that much null values? If we merge them with other related columns, how should we conduct analyzing? There could also be technical problems when merging those columns together.\n"
   ]
  },
  {
   "cell_type": "markdown",
   "metadata": {},
   "source": [
    "# Part 2"
   ]
  },
  {
   "cell_type": "markdown",
   "metadata": {},
   "source": [
    "#### Recipe for the wrangling part from Trifacta"
   ]
  },
  {
   "cell_type": "markdown",
   "metadata": {},
   "source": [
    "filter type: missing missing: LATITUDE action: Delete\n",
    "filter type: missing missing: LONGITUDE action: Delete\n",
    "drop col: LOCATION action: Drop\n",
    "drop col: {CONTRIBUTING FACTOR VEHICLE 2} action: Drop\n",
    "drop col: {CONTRIBUTING FACTOR VEHICLE 3} action: Drop\n",
    "drop col: {CONTRIBUTING FACTOR VEHICLE 4} action: Drop\n",
    "drop col: {CONTRIBUTING FACTOR VEHICLE 5} action: Drop\n",
    "merge col: {VEHICLE TYPE CODE 1},{VEHICLE TYPE CODE 2},{VEHICLE TYPE CODE 3},{VEHICLE TYPE CODE 4},{VEHICLE TYPE CODE 5} with: ' ' as: 'column1'\n",
    "rename type: manual mapping: [column1,'ALL VEHICLE']\n",
    "merge col: DATE,TIME with: ' ' as: 'column1'\n",
    "dateformat col: column1 type: longslashdatetime\n",
    "rename type: manual mapping: [column1,'DATETIME']\n"
   ]
  },
  {
   "cell_type": "markdown",
   "metadata": {},
   "source": [
    "#### Decisions for modify or remove data:"
   ]
  },
  {
   "cell_type": "markdown",
   "metadata": {},
   "source": [
    "1.We drop the columns CONTRIBUTING FACTOR VEHICLE 2,3,4,5 because we regard factor1 as the main factor, and most of values in factor 2,3,4,5 are unspecified or null, so we decide to drop these.\n",
    "\n",
    "2.We combine the VEHICLE TYPE CODE1,2,3,4,5 into one column, so that we can analyze the combination of vehicle data that has most frequency of collision.\n",
    "\n",
    "3.We drop LOCATION column, because it includes information of latitude and longitude, that have already in the dataset.\n",
    "\n",
    "4.We were originally planning to delete all rows that contain null values in borough and zip code columns. However, we ultimately decided to retain them because we would be scrapping too much valuable data, and we decided having nulls in those fields was not a big issue.\n",
    "\n",
    "5.We merge the date and time column into one, so that we can easily format it for sql queries.\n",
    "\n",
    "6.We delete the rows that don't have x/y coordinates, because it is important factor and we even can't show them in map.\n"
   ]
  },
  {
   "cell_type": "markdown",
   "metadata": {},
   "source": [
    "#### How you overcame any challenges:"
   ]
  },
  {
   "cell_type": "markdown",
   "metadata": {},
   "source": [
    "1.When merging 5 columns together, we used ‘,’ as the separator at first, but this caused confliction when inserting data into sql data table. Thus, we rewrangled the dataset by substituting the separator with ‘/’.\n",
    "\n",
    "2.We take some reasonable assumptions to deal with too many unspecified values in factors.\n",
    "\n",
    "3.x/y coordinates are all little different and hard to group by, so we make them in a map to show it.\n",
    "\n",
    "4.Other chagllenges can be overcame by wrangling data and assumption part."
   ]
  },
  {
   "cell_type": "markdown",
   "metadata": {},
   "source": [
    "#### Assumptions  about the meaning of variables and their values"
   ]
  },
  {
   "cell_type": "markdown",
   "metadata": {},
   "source": [
    "We assume that the column CONTRIBUTING FACTOR VEHICLE 1 as the main factors of causing collisions, so we renamed this column as CONTRIBUTING FACTOR and deleted other four factor columns. \n",
    "\n",
    "We assume new column ALL VEHICLE collected all vehicle type codes happened in one collision.  \n",
    "\n",
    "We assume the first column in vehicle type is the vehicle that takes main responsibility for its collision.\n",
    "\n",
    "ON STREET NAME, CROSS STREET NAME, OFF STREET NAME. We are little confused with the meaning of off-street name. We thought it should be the area where are not on the street, such as parking lots, yards. \n"
   ]
  },
  {
   "cell_type": "markdown",
   "metadata": {},
   "source": [
    "#### Verify that your wrangling steps have succeeded:"
   ]
  },
  {
   "cell_type": "markdown",
   "metadata": {},
   "source": [
    "The verification part is conducted for several times below."
   ]
  },
  {
   "cell_type": "markdown",
   "metadata": {},
   "source": [
    "### Star schema"
   ]
  },
  {
   "cell_type": "code",
   "execution_count": 1,
   "metadata": {},
   "outputs": [
    {
     "data": {
      "text/html": [
       "<img src=\"https://raw.githubusercontent.com/yzhao84/123/2e66146aba249bcdb8f562607258f9415e3cf011/schema.jpg\"/>"
      ],
      "text/plain": [
       "<IPython.core.display.Image object>"
      ]
     },
     "execution_count": 1,
     "metadata": {},
     "output_type": "execute_result"
    }
   ],
   "source": [
    "from IPython.display import Image \n",
    "Image(url=\"https://raw.githubusercontent.com/yzhao84/123/2e66146aba249bcdb8f562607258f9415e3cf011/schema.jpg\")"
   ]
  },
  {
   "cell_type": "markdown",
   "metadata": {},
   "source": [
    "#### Summary: We have 4 tables in our model. The collision table is fact table, alltime, participants and location table are dimension tables. Those 8 fact columns in collision table have totally same characteristics and timing, so we combine them into the same fact table, which can be analyzed successfully."
   ]
  },
  {
   "cell_type": "code",
   "execution_count": 2,
   "metadata": {},
   "outputs": [],
   "source": [
    "%load_ext sql"
   ]
  },
  {
   "cell_type": "code",
   "execution_count": 3,
   "metadata": {},
   "outputs": [],
   "source": [
    "!dropdb -U student project4"
   ]
  },
  {
   "cell_type": "code",
   "execution_count": 4,
   "metadata": {},
   "outputs": [],
   "source": [
    "!createdb -U student project4"
   ]
  },
  {
   "cell_type": "code",
   "execution_count": 5,
   "metadata": {},
   "outputs": [
    {
     "data": {
      "text/plain": [
       "'Connected: student@project4'"
      ]
     },
     "execution_count": 5,
     "metadata": {},
     "output_type": "execute_result"
    }
   ],
   "source": [
    "%sql postgresql://student@/project4"
   ]
  },
  {
   "cell_type": "code",
   "execution_count": 6,
   "metadata": {},
   "outputs": [
    {
     "name": "stdout",
     "output_type": "stream",
     "text": [
      "400359 collision.csv\n"
     ]
    }
   ],
   "source": [
    "!wc -l collision.csv"
   ]
  },
  {
   "cell_type": "markdown",
   "metadata": {},
   "source": [
    "#### Set up Spark to verify the file"
   ]
  },
  {
   "cell_type": "code",
   "execution_count": 7,
   "metadata": {},
   "outputs": [],
   "source": [
    "import findspark\n",
    "from pyspark import SparkContext\n",
    "spark = SparkContext(appName='project4')"
   ]
  },
  {
   "cell_type": "code",
   "execution_count": 8,
   "metadata": {},
   "outputs": [],
   "source": [
    "from pyspark import SQLContext\n",
    "sqlc = SQLContext(spark)\n",
    "colli = sqlc.read.csv(\"collision.csv\")"
   ]
  },
  {
   "cell_type": "code",
   "execution_count": 9,
   "metadata": {},
   "outputs": [
    {
     "data": {
      "text/plain": [
       "400359"
      ]
     },
     "execution_count": 9,
     "metadata": {},
     "output_type": "execute_result"
    }
   ],
   "source": [
    "colli.rdd.count()"
   ]
  },
  {
   "cell_type": "markdown",
   "metadata": {},
   "source": [
    "#### 400359 rows(including headers row) verifies that the file has been loaded right."
   ]
  },
  {
   "cell_type": "markdown",
   "metadata": {},
   "source": [
    "#### Headers for the dataset"
   ]
  },
  {
   "cell_type": "code",
   "execution_count": 7,
   "metadata": {},
   "outputs": [
    {
     "name": "stdout",
     "output_type": "stream",
     "text": [
      "  1: DATE\n",
      "  2: TIME\n",
      "  3: DATETIME\n",
      "  4: BOROUGH\n",
      "  5: ZIP CODE\n",
      "  6: LATITUDE\n",
      "  7: LONGITUDE\n",
      "  8: ON STREET NAME\n",
      "  9: CROSS STREET NAME\n",
      " 10: OFF STREET NAME\n",
      " 11: NUMBER OF PERSONS INJURED\n",
      " 12: NUMBER OF PERSONS KILLED\n",
      " 13: NUMBER OF PEDESTRIANS INJURED\n",
      " 14: NUMBER OF PEDESTRIANS KILLED\n",
      " 15: NUMBER OF CYCLIST INJURED\n",
      " 16: NUMBER OF CYCLIST KILLED\n",
      " 17: NUMBER OF MOTORIST INJURED\n",
      " 18: NUMBER OF MOTORIST KILLED\n",
      " 19: CONTRIBUTING FACTOR VEHICLE 1\n",
      " 20: UNIQUE KEY\n",
      " 21: VEHICLE TYPE CODE 1\n",
      " 22: VEHICLE TYPE CODE 2\n",
      " 23: VEHICLE TYPE CODE 3\n",
      " 24: VEHICLE TYPE CODE 4\n",
      " 25: VEHICLE TYPE CODE 5\n",
      " 26: ALL VEHICLE\n"
     ]
    }
   ],
   "source": [
    "!csvcut -n collision.csv"
   ]
  },
  {
   "cell_type": "code",
   "execution_count": null,
   "metadata": {},
   "outputs": [],
   "source": [
    "!head -n 10000 collision.csv | csvstat"
   ]
  },
  {
   "cell_type": "markdown",
   "metadata": {},
   "source": [
    "#### Create collision table(includes facts)"
   ]
  },
  {
   "cell_type": "code",
   "execution_count": 10,
   "metadata": {},
   "outputs": [
    {
     "name": "stdout",
     "output_type": "stream",
     "text": [
      " * postgresql://student@/project4\n",
      "Done.\n",
      "Done.\n"
     ]
    },
    {
     "data": {
      "text/plain": [
       "[]"
      ]
     },
     "execution_count": 10,
     "metadata": {},
     "output_type": "execute_result"
    }
   ],
   "source": [
    "%%sql\n",
    "DROP TABLE IF EXISTS collision;\n",
    "\n",
    "CREATE TABLE collision (\n",
    "    Date DATE,\n",
    "    Time TIME,\n",
    "    Datetime TIMESTAMP,\n",
    "    Borough VARCHAR(100),\n",
    "    Zipcode VARCHAR(100),\n",
    "    Latitude VARCHAR(100),\n",
    "    Longitude VARCHAR(100),\n",
    "    On_Street_Name VARCHAR(500),\n",
    "    Cross_Street_Name VARCHAR(500),\n",
    "    Off_Street_Name VARCHAR(500),\n",
    "    Persons_Injured INTEGER NOT NULL,\n",
    "    Persons_Killed INTEGER NOT NULL,\n",
    "    Pedestrian_Injured INTEGER NOT NULL,\n",
    "    Pedestrian_Killed INTEGER NOT NULL,\n",
    "    Cyclist_Injured INTEGER NOT NULL,\n",
    "    Cyclist_Killed INTEGER NOT NULL,\n",
    "    Motorist_Injured INTEGER NOT NULL,\n",
    "    Motorist_Killed INTEGER NOT NULL,\n",
    "    Contributing_Factor VARCHAR(500),\n",
    "    unique_key INTEGER NOT NULL,\n",
    "    Vehicle_Type_Code_1 VARCHAR(500),\n",
    "    Vehicle_Type_Code_2 VARCHAR(500),\n",
    "    Vehicle_Type_Code_3 VARCHAR(500),\n",
    "    Vehicle_Type_Code_4 VARCHAR(500),\n",
    "    Vehicle_Type_Code_5 VARCHAR(500),\n",
    "    All_Vehicles VARCHAR(500)\n",
    ")"
   ]
  },
  {
   "cell_type": "code",
   "execution_count": 11,
   "metadata": {},
   "outputs": [
    {
     "name": "stdout",
     "output_type": "stream",
     "text": [
      "/home/ubuntu/Project4\n"
     ]
    }
   ],
   "source": [
    "!pwd"
   ]
  },
  {
   "cell_type": "code",
   "execution_count": 11,
   "metadata": {},
   "outputs": [
    {
     "name": "stdout",
     "output_type": "stream",
     "text": [
      " * postgresql://student@/project4\n",
      "400358 rows affected.\n"
     ]
    },
    {
     "data": {
      "text/plain": [
       "[]"
      ]
     },
     "execution_count": 11,
     "metadata": {},
     "output_type": "execute_result"
    }
   ],
   "source": [
    "%%sql\n",
    "COPY collision FROM '/home/ubuntu/Project4/collision.csv'\n",
    "CSV\n",
    "HEADER;"
   ]
  },
  {
   "cell_type": "markdown",
   "metadata": {},
   "source": [
    "#### The number of rows affected is right."
   ]
  },
  {
   "cell_type": "code",
   "execution_count": 13,
   "metadata": {},
   "outputs": [
    {
     "name": "stdout",
     "output_type": "stream",
     "text": [
      " * postgresql://student@/project4\n",
      "10 rows affected.\n"
     ]
    },
    {
     "data": {
      "text/html": [
       "<table>\n",
       "    <tr>\n",
       "        <th>date</th>\n",
       "        <th>time</th>\n",
       "        <th>datetime</th>\n",
       "        <th>borough</th>\n",
       "        <th>zipcode</th>\n",
       "        <th>latitude</th>\n",
       "        <th>longitude</th>\n",
       "        <th>on_street_name</th>\n",
       "        <th>cross_street_name</th>\n",
       "        <th>off_street_name</th>\n",
       "        <th>persons_injured</th>\n",
       "        <th>persons_killed</th>\n",
       "        <th>pedestrian_injured</th>\n",
       "        <th>pedestrian_killed</th>\n",
       "        <th>cyclist_injured</th>\n",
       "        <th>cyclist_killed</th>\n",
       "        <th>motorist_injured</th>\n",
       "        <th>motorist_killed</th>\n",
       "        <th>contributing_factor</th>\n",
       "        <th>unique_key</th>\n",
       "        <th>vehicle_type_code_1</th>\n",
       "        <th>vehicle_type_code_2</th>\n",
       "        <th>vehicle_type_code_3</th>\n",
       "        <th>vehicle_type_code_4</th>\n",
       "        <th>vehicle_type_code_5</th>\n",
       "        <th>all_vehicles</th>\n",
       "    </tr>\n",
       "    <tr>\n",
       "        <td>2018-11-16</td>\n",
       "        <td>00:10:00</td>\n",
       "        <td>2018-11-16 00:10:00</td>\n",
       "        <td>MANHATTAN</td>\n",
       "        <td>10010</td>\n",
       "        <td>40.742275</td>\n",
       "        <td>-73.988914</td>\n",
       "        <td>5 AVENUE                        </td>\n",
       "        <td>BROADWAY</td>\n",
       "        <td>None</td>\n",
       "        <td>0</td>\n",
       "        <td>0</td>\n",
       "        <td>0</td>\n",
       "        <td>0</td>\n",
       "        <td>0</td>\n",
       "        <td>0</td>\n",
       "        <td>0</td>\n",
       "        <td>0</td>\n",
       "        <td>Unspecified</td>\n",
       "        <td>4021880</td>\n",
       "        <td>Station Wagon/Sport Utility Vehicle</td>\n",
       "        <td>Station Wagon/Sport Utility Vehicle</td>\n",
       "        <td>None</td>\n",
       "        <td>None</td>\n",
       "        <td>None</td>\n",
       "        <td>Station Wagon/Sport Utility Vehicle Station Wagon/Sport Utility Vehicle   </td>\n",
       "    </tr>\n",
       "    <tr>\n",
       "        <td>2018-11-16</td>\n",
       "        <td>00:40:00</td>\n",
       "        <td>2018-11-16 00:40:00</td>\n",
       "        <td>None</td>\n",
       "        <td>None</td>\n",
       "        <td>40.76272</td>\n",
       "        <td>-73.72817</td>\n",
       "        <td>LONG ISLAND EXPRESSWAY          </td>\n",
       "        <td>None</td>\n",
       "        <td>None</td>\n",
       "        <td>0</td>\n",
       "        <td>0</td>\n",
       "        <td>0</td>\n",
       "        <td>0</td>\n",
       "        <td>0</td>\n",
       "        <td>0</td>\n",
       "        <td>0</td>\n",
       "        <td>0</td>\n",
       "        <td>Pavement Slippery</td>\n",
       "        <td>4021727</td>\n",
       "        <td>Sedan</td>\n",
       "        <td>Pick-up Truck</td>\n",
       "        <td>None</td>\n",
       "        <td>None</td>\n",
       "        <td>None</td>\n",
       "        <td>Sedan Pick-up Truck   </td>\n",
       "    </tr>\n",
       "    <tr>\n",
       "        <td>2018-11-16</td>\n",
       "        <td>00:45:00</td>\n",
       "        <td>2018-11-16 00:45:00</td>\n",
       "        <td>BROOKLYN</td>\n",
       "        <td>11211</td>\n",
       "        <td>40.710197</td>\n",
       "        <td>-73.95843</td>\n",
       "        <td>BORINQUEN PLACE                 </td>\n",
       "        <td>HAVEMEYER STREET</td>\n",
       "        <td>None</td>\n",
       "        <td>4</td>\n",
       "        <td>0</td>\n",
       "        <td>0</td>\n",
       "        <td>0</td>\n",
       "        <td>0</td>\n",
       "        <td>0</td>\n",
       "        <td>4</td>\n",
       "        <td>0</td>\n",
       "        <td>Driver Inattention/Distraction</td>\n",
       "        <td>4021791</td>\n",
       "        <td>Taxi</td>\n",
       "        <td>Taxi</td>\n",
       "        <td>None</td>\n",
       "        <td>None</td>\n",
       "        <td>None</td>\n",
       "        <td>Taxi Taxi   </td>\n",
       "    </tr>\n",
       "    <tr>\n",
       "        <td>2018-11-16</td>\n",
       "        <td>01:00:00</td>\n",
       "        <td>2018-11-16 01:00:00</td>\n",
       "        <td>BRONX</td>\n",
       "        <td>10454</td>\n",
       "        <td>40.803555</td>\n",
       "        <td>-73.91184</td>\n",
       "        <td>EAST 137 STREET                 </td>\n",
       "        <td>WILLOW AVENUE</td>\n",
       "        <td>None</td>\n",
       "        <td>0</td>\n",
       "        <td>0</td>\n",
       "        <td>0</td>\n",
       "        <td>0</td>\n",
       "        <td>0</td>\n",
       "        <td>0</td>\n",
       "        <td>0</td>\n",
       "        <td>0</td>\n",
       "        <td>Pavement Slippery</td>\n",
       "        <td>4021878</td>\n",
       "        <td>Garbage or Refuse</td>\n",
       "        <td>Station Wagon/Sport Utility Vehicle</td>\n",
       "        <td>None</td>\n",
       "        <td>None</td>\n",
       "        <td>None</td>\n",
       "        <td>Garbage or Refuse Station Wagon/Sport Utility Vehicle   </td>\n",
       "    </tr>\n",
       "    <tr>\n",
       "        <td>2018-11-16</td>\n",
       "        <td>01:00:00</td>\n",
       "        <td>2018-11-16 01:00:00</td>\n",
       "        <td>BROOKLYN</td>\n",
       "        <td>11221</td>\n",
       "        <td>40.694923</td>\n",
       "        <td>-73.915565</td>\n",
       "        <td>WILSON AVENUE                   </td>\n",
       "        <td>PALMETTO STREET</td>\n",
       "        <td>None</td>\n",
       "        <td>0</td>\n",
       "        <td>0</td>\n",
       "        <td>0</td>\n",
       "        <td>0</td>\n",
       "        <td>0</td>\n",
       "        <td>0</td>\n",
       "        <td>0</td>\n",
       "        <td>0</td>\n",
       "        <td>Pavement Slippery</td>\n",
       "        <td>4021848</td>\n",
       "        <td>Station Wagon/Sport Utility Vehicle</td>\n",
       "        <td>Station Wagon/Sport Utility Vehicle</td>\n",
       "        <td>None</td>\n",
       "        <td>None</td>\n",
       "        <td>None</td>\n",
       "        <td>Station Wagon/Sport Utility Vehicle Station Wagon/Sport Utility Vehicle   </td>\n",
       "    </tr>\n",
       "    <tr>\n",
       "        <td>2018-11-16</td>\n",
       "        <td>01:20:00</td>\n",
       "        <td>2018-11-16 01:20:00</td>\n",
       "        <td>None</td>\n",
       "        <td>None</td>\n",
       "        <td>40.8047</td>\n",
       "        <td>-73.91243</td>\n",
       "        <td>EAST 138 STREET                 </td>\n",
       "        <td>BRUCKNER BOULEVARD</td>\n",
       "        <td>None</td>\n",
       "        <td>1</td>\n",
       "        <td>0</td>\n",
       "        <td>1</td>\n",
       "        <td>0</td>\n",
       "        <td>0</td>\n",
       "        <td>0</td>\n",
       "        <td>0</td>\n",
       "        <td>0</td>\n",
       "        <td>None</td>\n",
       "        <td>4021877</td>\n",
       "        <td>None</td>\n",
       "        <td>None</td>\n",
       "        <td>None</td>\n",
       "        <td>None</td>\n",
       "        <td>None</td>\n",
       "        <td>&nbsp;&nbsp;&nbsp;&nbsp;</td>\n",
       "    </tr>\n",
       "    <tr>\n",
       "        <td>2018-11-16</td>\n",
       "        <td>01:41:00</td>\n",
       "        <td>2018-11-16 01:41:00</td>\n",
       "        <td>None</td>\n",
       "        <td>None</td>\n",
       "        <td>40.737682</td>\n",
       "        <td>-73.85206</td>\n",
       "        <td>108 STREET                      </td>\n",
       "        <td>HORACE HARDING EXPRESSWAY</td>\n",
       "        <td>None</td>\n",
       "        <td>0</td>\n",
       "        <td>0</td>\n",
       "        <td>0</td>\n",
       "        <td>0</td>\n",
       "        <td>0</td>\n",
       "        <td>0</td>\n",
       "        <td>0</td>\n",
       "        <td>0</td>\n",
       "        <td>Following Too Closely</td>\n",
       "        <td>4021798</td>\n",
       "        <td>Sedan</td>\n",
       "        <td>Sedan</td>\n",
       "        <td>None</td>\n",
       "        <td>None</td>\n",
       "        <td>None</td>\n",
       "        <td>Sedan Sedan   </td>\n",
       "    </tr>\n",
       "    <tr>\n",
       "        <td>2018-11-16</td>\n",
       "        <td>02:50:00</td>\n",
       "        <td>2018-11-16 02:50:00</td>\n",
       "        <td>BRONX</td>\n",
       "        <td>10451</td>\n",
       "        <td>40.819057</td>\n",
       "        <td>-73.92923</td>\n",
       "        <td>EAST 149 STREET                 </td>\n",
       "        <td>GERARD AVENUE</td>\n",
       "        <td>None</td>\n",
       "        <td>0</td>\n",
       "        <td>0</td>\n",
       "        <td>0</td>\n",
       "        <td>0</td>\n",
       "        <td>0</td>\n",
       "        <td>0</td>\n",
       "        <td>0</td>\n",
       "        <td>0</td>\n",
       "        <td>Driver Inattention/Distraction</td>\n",
       "        <td>4021864</td>\n",
       "        <td>Taxi</td>\n",
       "        <td>Taxi</td>\n",
       "        <td>None</td>\n",
       "        <td>None</td>\n",
       "        <td>None</td>\n",
       "        <td>Taxi Taxi   </td>\n",
       "    </tr>\n",
       "    <tr>\n",
       "        <td>2018-11-16</td>\n",
       "        <td>04:22:00</td>\n",
       "        <td>2018-11-16 04:22:00</td>\n",
       "        <td>None</td>\n",
       "        <td>None</td>\n",
       "        <td>40.81175</td>\n",
       "        <td>-73.93144</td>\n",
       "        <td>MAJOR DEEGAN EXPRESSWAY         </td>\n",
       "        <td>None</td>\n",
       "        <td>None</td>\n",
       "        <td>0</td>\n",
       "        <td>0</td>\n",
       "        <td>0</td>\n",
       "        <td>0</td>\n",
       "        <td>0</td>\n",
       "        <td>0</td>\n",
       "        <td>0</td>\n",
       "        <td>0</td>\n",
       "        <td>Unsafe Speed</td>\n",
       "        <td>4021857</td>\n",
       "        <td>Station Wagon/Sport Utility Vehicle</td>\n",
       "        <td>Station Wagon/Sport Utility Vehicle</td>\n",
       "        <td>None</td>\n",
       "        <td>None</td>\n",
       "        <td>None</td>\n",
       "        <td>Station Wagon/Sport Utility Vehicle Station Wagon/Sport Utility Vehicle   </td>\n",
       "    </tr>\n",
       "    <tr>\n",
       "        <td>2018-11-16</td>\n",
       "        <td>05:30:00</td>\n",
       "        <td>2018-11-16 05:30:00</td>\n",
       "        <td>QUEENS</td>\n",
       "        <td>11417</td>\n",
       "        <td>40.67887</td>\n",
       "        <td>-73.83419</td>\n",
       "        <td>ROCKAWAY BOULEVARD              </td>\n",
       "        <td>CENTREVILLE AVENUE</td>\n",
       "        <td>None</td>\n",
       "        <td>1</td>\n",
       "        <td>0</td>\n",
       "        <td>1</td>\n",
       "        <td>0</td>\n",
       "        <td>0</td>\n",
       "        <td>0</td>\n",
       "        <td>0</td>\n",
       "        <td>0</td>\n",
       "        <td>Driver Inattention/Distraction</td>\n",
       "        <td>4021833</td>\n",
       "        <td>None</td>\n",
       "        <td>None</td>\n",
       "        <td>None</td>\n",
       "        <td>None</td>\n",
       "        <td>None</td>\n",
       "        <td>&nbsp;&nbsp;&nbsp;&nbsp;</td>\n",
       "    </tr>\n",
       "</table>"
      ],
      "text/plain": [
       "[(datetime.date(2018, 11, 16), datetime.time(0, 10), datetime.datetime(2018, 11, 16, 0, 10), 'MANHATTAN', '10010', '40.742275', '-73.988914', '5 AVENUE                        ', 'BROADWAY', None, 0, 0, 0, 0, 0, 0, 0, 0, 'Unspecified', 4021880, 'Station Wagon/Sport Utility Vehicle', 'Station Wagon/Sport Utility Vehicle', None, None, None, 'Station Wagon/Sport Utility Vehicle Station Wagon/Sport Utility Vehicle   '),\n",
       " (datetime.date(2018, 11, 16), datetime.time(0, 40), datetime.datetime(2018, 11, 16, 0, 40), None, None, '40.76272', '-73.72817', 'LONG ISLAND EXPRESSWAY          ', None, None, 0, 0, 0, 0, 0, 0, 0, 0, 'Pavement Slippery', 4021727, 'Sedan', 'Pick-up Truck', None, None, None, 'Sedan Pick-up Truck   '),\n",
       " (datetime.date(2018, 11, 16), datetime.time(0, 45), datetime.datetime(2018, 11, 16, 0, 45), 'BROOKLYN', '11211', '40.710197', '-73.95843', 'BORINQUEN PLACE                 ', 'HAVEMEYER STREET', None, 4, 0, 0, 0, 0, 0, 4, 0, 'Driver Inattention/Distraction', 4021791, 'Taxi', 'Taxi', None, None, None, 'Taxi Taxi   '),\n",
       " (datetime.date(2018, 11, 16), datetime.time(1, 0), datetime.datetime(2018, 11, 16, 1, 0), 'BRONX', '10454', '40.803555', '-73.91184', 'EAST 137 STREET                 ', 'WILLOW AVENUE', None, 0, 0, 0, 0, 0, 0, 0, 0, 'Pavement Slippery', 4021878, 'Garbage or Refuse', 'Station Wagon/Sport Utility Vehicle', None, None, None, 'Garbage or Refuse Station Wagon/Sport Utility Vehicle   '),\n",
       " (datetime.date(2018, 11, 16), datetime.time(1, 0), datetime.datetime(2018, 11, 16, 1, 0), 'BROOKLYN', '11221', '40.694923', '-73.915565', 'WILSON AVENUE                   ', 'PALMETTO STREET', None, 0, 0, 0, 0, 0, 0, 0, 0, 'Pavement Slippery', 4021848, 'Station Wagon/Sport Utility Vehicle', 'Station Wagon/Sport Utility Vehicle', None, None, None, 'Station Wagon/Sport Utility Vehicle Station Wagon/Sport Utility Vehicle   '),\n",
       " (datetime.date(2018, 11, 16), datetime.time(1, 20), datetime.datetime(2018, 11, 16, 1, 20), None, None, '40.8047', '-73.91243', 'EAST 138 STREET                 ', 'BRUCKNER BOULEVARD', None, 1, 0, 1, 0, 0, 0, 0, 0, None, 4021877, None, None, None, None, None, '    '),\n",
       " (datetime.date(2018, 11, 16), datetime.time(1, 41), datetime.datetime(2018, 11, 16, 1, 41), None, None, '40.737682', '-73.85206', '108 STREET                      ', 'HORACE HARDING EXPRESSWAY', None, 0, 0, 0, 0, 0, 0, 0, 0, 'Following Too Closely', 4021798, 'Sedan', 'Sedan', None, None, None, 'Sedan Sedan   '),\n",
       " (datetime.date(2018, 11, 16), datetime.time(2, 50), datetime.datetime(2018, 11, 16, 2, 50), 'BRONX', '10451', '40.819057', '-73.92923', 'EAST 149 STREET                 ', 'GERARD AVENUE', None, 0, 0, 0, 0, 0, 0, 0, 0, 'Driver Inattention/Distraction', 4021864, 'Taxi', 'Taxi', None, None, None, 'Taxi Taxi   '),\n",
       " (datetime.date(2018, 11, 16), datetime.time(4, 22), datetime.datetime(2018, 11, 16, 4, 22), None, None, '40.81175', '-73.93144', 'MAJOR DEEGAN EXPRESSWAY         ', None, None, 0, 0, 0, 0, 0, 0, 0, 0, 'Unsafe Speed', 4021857, 'Station Wagon/Sport Utility Vehicle', 'Station Wagon/Sport Utility Vehicle', None, None, None, 'Station Wagon/Sport Utility Vehicle Station Wagon/Sport Utility Vehicle   '),\n",
       " (datetime.date(2018, 11, 16), datetime.time(5, 30), datetime.datetime(2018, 11, 16, 5, 30), 'QUEENS', '11417', '40.67887', '-73.83419', 'ROCKAWAY BOULEVARD              ', 'CENTREVILLE AVENUE', None, 1, 0, 1, 0, 0, 0, 0, 0, 'Driver Inattention/Distraction', 4021833, None, None, None, None, None, '    ')]"
      ]
     },
     "execution_count": 13,
     "metadata": {},
     "output_type": "execute_result"
    }
   ],
   "source": [
    "%%sql\n",
    "SELECT * FROM collision\n",
    "LIMIT 10"
   ]
  },
  {
   "cell_type": "markdown",
   "metadata": {},
   "source": [
    "#### Divide date and time into month, day, hour"
   ]
  },
  {
   "cell_type": "code",
   "execution_count": 12,
   "metadata": {},
   "outputs": [
    {
     "name": "stdout",
     "output_type": "stream",
     "text": [
      " * postgresql://student@/project4\n",
      "10 rows affected.\n"
     ]
    },
    {
     "data": {
      "text/html": [
       "<table>\n",
       "    <tr>\n",
       "        <th>date_time</th>\n",
       "        <th>year</th>\n",
       "        <th>month</th>\n",
       "        <th>month_year</th>\n",
       "        <th>day</th>\n",
       "        <th>day_week</th>\n",
       "        <th>allhour</th>\n",
       "        <th>hour</th>\n",
       "    </tr>\n",
       "    <tr>\n",
       "        <td>08/05/2018 17:00:00</td>\n",
       "        <td>2018</td>\n",
       "        <td>08</td>\n",
       "        <td>August   </td>\n",
       "        <td>05</td>\n",
       "        <td>Sunday   </td>\n",
       "        <td>17:00:00</td>\n",
       "        <td>17</td>\n",
       "    </tr>\n",
       "    <tr>\n",
       "        <td>04/13/2018 10:00:00</td>\n",
       "        <td>2018</td>\n",
       "        <td>04</td>\n",
       "        <td>April    </td>\n",
       "        <td>13</td>\n",
       "        <td>Friday   </td>\n",
       "        <td>10:00:00</td>\n",
       "        <td>10</td>\n",
       "    </tr>\n",
       "    <tr>\n",
       "        <td>03/08/2018 11:00:00</td>\n",
       "        <td>2018</td>\n",
       "        <td>03</td>\n",
       "        <td>March    </td>\n",
       "        <td>08</td>\n",
       "        <td>Thursday </td>\n",
       "        <td>11:00:00</td>\n",
       "        <td>11</td>\n",
       "    </tr>\n",
       "    <tr>\n",
       "        <td>08/04/2018 08:00:00</td>\n",
       "        <td>2018</td>\n",
       "        <td>08</td>\n",
       "        <td>August   </td>\n",
       "        <td>04</td>\n",
       "        <td>Saturday </td>\n",
       "        <td>08:00:00</td>\n",
       "        <td>08</td>\n",
       "    </tr>\n",
       "    <tr>\n",
       "        <td>09/01/2018 21:00:00</td>\n",
       "        <td>2018</td>\n",
       "        <td>09</td>\n",
       "        <td>September</td>\n",
       "        <td>01</td>\n",
       "        <td>Saturday </td>\n",
       "        <td>21:00:00</td>\n",
       "        <td>21</td>\n",
       "    </tr>\n",
       "    <tr>\n",
       "        <td>01/18/2018 03:00:00</td>\n",
       "        <td>2018</td>\n",
       "        <td>01</td>\n",
       "        <td>January  </td>\n",
       "        <td>18</td>\n",
       "        <td>Thursday </td>\n",
       "        <td>03:00:00</td>\n",
       "        <td>03</td>\n",
       "    </tr>\n",
       "    <tr>\n",
       "        <td>09/25/2018 12:00:00</td>\n",
       "        <td>2018</td>\n",
       "        <td>09</td>\n",
       "        <td>September</td>\n",
       "        <td>25</td>\n",
       "        <td>Tuesday  </td>\n",
       "        <td>12:00:00</td>\n",
       "        <td>12</td>\n",
       "    </tr>\n",
       "    <tr>\n",
       "        <td>04/10/2018 03:00:00</td>\n",
       "        <td>2018</td>\n",
       "        <td>04</td>\n",
       "        <td>April    </td>\n",
       "        <td>10</td>\n",
       "        <td>Tuesday  </td>\n",
       "        <td>03:00:00</td>\n",
       "        <td>03</td>\n",
       "    </tr>\n",
       "    <tr>\n",
       "        <td>02/02/2017 06:00:00</td>\n",
       "        <td>2017</td>\n",
       "        <td>02</td>\n",
       "        <td>February </td>\n",
       "        <td>02</td>\n",
       "        <td>Thursday </td>\n",
       "        <td>06:00:00</td>\n",
       "        <td>06</td>\n",
       "    </tr>\n",
       "    <tr>\n",
       "        <td>07/25/2017 16:00:00</td>\n",
       "        <td>2017</td>\n",
       "        <td>07</td>\n",
       "        <td>July     </td>\n",
       "        <td>25</td>\n",
       "        <td>Tuesday  </td>\n",
       "        <td>16:00:00</td>\n",
       "        <td>16</td>\n",
       "    </tr>\n",
       "</table>"
      ],
      "text/plain": [
       "[('08/05/2018 17:00:00', '2018', '08', 'August   ', '05', 'Sunday   ', '17:00:00', '17'),\n",
       " ('04/13/2018 10:00:00', '2018', '04', 'April    ', '13', 'Friday   ', '10:00:00', '10'),\n",
       " ('03/08/2018 11:00:00', '2018', '03', 'March    ', '08', 'Thursday ', '11:00:00', '11'),\n",
       " ('08/04/2018 08:00:00', '2018', '08', 'August   ', '04', 'Saturday ', '08:00:00', '08'),\n",
       " ('09/01/2018 21:00:00', '2018', '09', 'September', '01', 'Saturday ', '21:00:00', '21'),\n",
       " ('01/18/2018 03:00:00', '2018', '01', 'January  ', '18', 'Thursday ', '03:00:00', '03'),\n",
       " ('09/25/2018 12:00:00', '2018', '09', 'September', '25', 'Tuesday  ', '12:00:00', '12'),\n",
       " ('04/10/2018 03:00:00', '2018', '04', 'April    ', '10', 'Tuesday  ', '03:00:00', '03'),\n",
       " ('02/02/2017 06:00:00', '2017', '02', 'February ', '02', 'Thursday ', '06:00:00', '06'),\n",
       " ('07/25/2017 16:00:00', '2017', '07', 'July     ', '25', 'Tuesday  ', '16:00:00', '16')]"
      ]
     },
     "execution_count": 12,
     "metadata": {},
     "output_type": "execute_result"
    }
   ],
   "source": [
    "%%sql\n",
    "SELECT DISTINCT TO_CHAR(datetime, 'MM/DD/YYYY HH24:00:00') AS date_time,\n",
    "    TO_CHAR(datetime, 'YYYY') AS year, \n",
    "    TO_CHAR(datetime, 'MM') AS month,\n",
    "    TO_CHAR(datetime, 'Month') AS month_year,\n",
    "    TO_CHAR(datetime, 'DD') AS day,\n",
    "    TO_CHAR(datetime, 'Day') AS day_week,\n",
    "    TO_CHAR(datetime, 'HH24:00:00') AS allhour,\n",
    "    TO_CHAR(datetime, 'HH24') AS hour\n",
    "From collision\n",
    "limit 10"
   ]
  },
  {
   "cell_type": "markdown",
   "metadata": {},
   "source": [
    "#### Create dimension table alltime"
   ]
  },
  {
   "cell_type": "code",
   "execution_count": 13,
   "metadata": {},
   "outputs": [
    {
     "name": "stdout",
     "output_type": "stream",
     "text": [
      " * postgresql://student@/project4\n",
      "Done.\n",
      "Done.\n"
     ]
    },
    {
     "data": {
      "text/plain": [
       "[]"
      ]
     },
     "execution_count": 13,
     "metadata": {},
     "output_type": "execute_result"
    }
   ],
   "source": [
    "%%sql\n",
    "DROP TABLE IF EXISTS alltime;\n",
    "\n",
    "CREATE TABLE alltime (\n",
    "    alltime_key SERIAL PRIMARY KEY,\n",
    "    date_time VARCHAR(50),\n",
    "    year VARCHAR(15),\n",
    "    month VARCHAR(15),\n",
    "    month_year VARCHAR(15),\n",
    "    day VARCHAR(15),\n",
    "    day_week VARCHAR(15),\n",
    "    allhour VARCHAR(15),\n",
    "    hour VARCHAR(15)\n",
    ");"
   ]
  },
  {
   "cell_type": "code",
   "execution_count": 14,
   "metadata": {},
   "outputs": [
    {
     "name": "stdout",
     "output_type": "stream",
     "text": [
      " * postgresql://student@/project4\n",
      "16370 rows affected.\n"
     ]
    },
    {
     "data": {
      "text/plain": [
       "[]"
      ]
     },
     "execution_count": 14,
     "metadata": {},
     "output_type": "execute_result"
    }
   ],
   "source": [
    "%%sql\n",
    "INSERT INTO alltime (date_time,year,month,month_year,day,day_week,allhour,hour)\n",
    "SELECT DISTINCT \n",
    "    TO_CHAR(datetime, 'MM/DD/YYYY HH24:00:00') AS date_time,\n",
    "    TO_CHAR(datetime, 'YYYY') AS year, \n",
    "    TO_CHAR(datetime, 'MM') AS month,\n",
    "    TO_CHAR(datetime, 'Month') AS month_year,\n",
    "    TO_CHAR(datetime, 'DD') AS day,\n",
    "    TO_CHAR(datetime, 'Day') AS day_week,\n",
    "    TO_CHAR(datetime, 'HH24:00:00') AS allhour,\n",
    "    TO_CHAR(datetime, 'HH24') AS hour\n",
    "From collision;\n"
   ]
  },
  {
   "cell_type": "code",
   "execution_count": 15,
   "metadata": {},
   "outputs": [
    {
     "name": "stdout",
     "output_type": "stream",
     "text": [
      " * postgresql://student@/project4\n",
      "10 rows affected.\n"
     ]
    },
    {
     "data": {
      "text/html": [
       "<table>\n",
       "    <tr>\n",
       "        <th>alltime_key</th>\n",
       "        <th>date_time</th>\n",
       "        <th>year</th>\n",
       "        <th>month</th>\n",
       "        <th>month_year</th>\n",
       "        <th>day</th>\n",
       "        <th>day_week</th>\n",
       "        <th>allhour</th>\n",
       "        <th>hour</th>\n",
       "    </tr>\n",
       "    <tr>\n",
       "        <td>1</td>\n",
       "        <td>08/05/2018 17:00:00</td>\n",
       "        <td>2018</td>\n",
       "        <td>08</td>\n",
       "        <td>August   </td>\n",
       "        <td>05</td>\n",
       "        <td>Sunday   </td>\n",
       "        <td>17:00:00</td>\n",
       "        <td>17</td>\n",
       "    </tr>\n",
       "    <tr>\n",
       "        <td>2</td>\n",
       "        <td>04/13/2018 10:00:00</td>\n",
       "        <td>2018</td>\n",
       "        <td>04</td>\n",
       "        <td>April    </td>\n",
       "        <td>13</td>\n",
       "        <td>Friday   </td>\n",
       "        <td>10:00:00</td>\n",
       "        <td>10</td>\n",
       "    </tr>\n",
       "    <tr>\n",
       "        <td>3</td>\n",
       "        <td>03/08/2018 11:00:00</td>\n",
       "        <td>2018</td>\n",
       "        <td>03</td>\n",
       "        <td>March    </td>\n",
       "        <td>08</td>\n",
       "        <td>Thursday </td>\n",
       "        <td>11:00:00</td>\n",
       "        <td>11</td>\n",
       "    </tr>\n",
       "    <tr>\n",
       "        <td>4</td>\n",
       "        <td>08/04/2018 08:00:00</td>\n",
       "        <td>2018</td>\n",
       "        <td>08</td>\n",
       "        <td>August   </td>\n",
       "        <td>04</td>\n",
       "        <td>Saturday </td>\n",
       "        <td>08:00:00</td>\n",
       "        <td>08</td>\n",
       "    </tr>\n",
       "    <tr>\n",
       "        <td>5</td>\n",
       "        <td>09/01/2018 21:00:00</td>\n",
       "        <td>2018</td>\n",
       "        <td>09</td>\n",
       "        <td>September</td>\n",
       "        <td>01</td>\n",
       "        <td>Saturday </td>\n",
       "        <td>21:00:00</td>\n",
       "        <td>21</td>\n",
       "    </tr>\n",
       "    <tr>\n",
       "        <td>6</td>\n",
       "        <td>01/18/2018 03:00:00</td>\n",
       "        <td>2018</td>\n",
       "        <td>01</td>\n",
       "        <td>January  </td>\n",
       "        <td>18</td>\n",
       "        <td>Thursday </td>\n",
       "        <td>03:00:00</td>\n",
       "        <td>03</td>\n",
       "    </tr>\n",
       "    <tr>\n",
       "        <td>7</td>\n",
       "        <td>09/25/2018 12:00:00</td>\n",
       "        <td>2018</td>\n",
       "        <td>09</td>\n",
       "        <td>September</td>\n",
       "        <td>25</td>\n",
       "        <td>Tuesday  </td>\n",
       "        <td>12:00:00</td>\n",
       "        <td>12</td>\n",
       "    </tr>\n",
       "    <tr>\n",
       "        <td>8</td>\n",
       "        <td>04/10/2018 03:00:00</td>\n",
       "        <td>2018</td>\n",
       "        <td>04</td>\n",
       "        <td>April    </td>\n",
       "        <td>10</td>\n",
       "        <td>Tuesday  </td>\n",
       "        <td>03:00:00</td>\n",
       "        <td>03</td>\n",
       "    </tr>\n",
       "    <tr>\n",
       "        <td>9</td>\n",
       "        <td>02/02/2017 06:00:00</td>\n",
       "        <td>2017</td>\n",
       "        <td>02</td>\n",
       "        <td>February </td>\n",
       "        <td>02</td>\n",
       "        <td>Thursday </td>\n",
       "        <td>06:00:00</td>\n",
       "        <td>06</td>\n",
       "    </tr>\n",
       "    <tr>\n",
       "        <td>10</td>\n",
       "        <td>07/25/2017 16:00:00</td>\n",
       "        <td>2017</td>\n",
       "        <td>07</td>\n",
       "        <td>July     </td>\n",
       "        <td>25</td>\n",
       "        <td>Tuesday  </td>\n",
       "        <td>16:00:00</td>\n",
       "        <td>16</td>\n",
       "    </tr>\n",
       "</table>"
      ],
      "text/plain": [
       "[(1, '08/05/2018 17:00:00', '2018', '08', 'August   ', '05', 'Sunday   ', '17:00:00', '17'),\n",
       " (2, '04/13/2018 10:00:00', '2018', '04', 'April    ', '13', 'Friday   ', '10:00:00', '10'),\n",
       " (3, '03/08/2018 11:00:00', '2018', '03', 'March    ', '08', 'Thursday ', '11:00:00', '11'),\n",
       " (4, '08/04/2018 08:00:00', '2018', '08', 'August   ', '04', 'Saturday ', '08:00:00', '08'),\n",
       " (5, '09/01/2018 21:00:00', '2018', '09', 'September', '01', 'Saturday ', '21:00:00', '21'),\n",
       " (6, '01/18/2018 03:00:00', '2018', '01', 'January  ', '18', 'Thursday ', '03:00:00', '03'),\n",
       " (7, '09/25/2018 12:00:00', '2018', '09', 'September', '25', 'Tuesday  ', '12:00:00', '12'),\n",
       " (8, '04/10/2018 03:00:00', '2018', '04', 'April    ', '10', 'Tuesday  ', '03:00:00', '03'),\n",
       " (9, '02/02/2017 06:00:00', '2017', '02', 'February ', '02', 'Thursday ', '06:00:00', '06'),\n",
       " (10, '07/25/2017 16:00:00', '2017', '07', 'July     ', '25', 'Tuesday  ', '16:00:00', '16')]"
      ]
     },
     "execution_count": 15,
     "metadata": {},
     "output_type": "execute_result"
    }
   ],
   "source": [
    "%%sql\n",
    "SELECT * FROM alltime\n",
    "LIMIT 10;"
   ]
  },
  {
   "cell_type": "code",
   "execution_count": 16,
   "metadata": {},
   "outputs": [
    {
     "name": "stdout",
     "output_type": "stream",
     "text": [
      " * postgresql://student@/project4\n",
      "Done.\n"
     ]
    },
    {
     "data": {
      "text/plain": [
       "[]"
      ]
     },
     "execution_count": 16,
     "metadata": {},
     "output_type": "execute_result"
    }
   ],
   "source": [
    "%%sql\n",
    "ALTER TABLE collision\n",
    "ADD COLUMN alltime_key INTEGER,\n",
    "ADD CONSTRAINT fk_alltime_key\n",
    "    FOREIGN KEY (alltime_key)\n",
    "    REFERENCES alltime (alltime_key);"
   ]
  },
  {
   "cell_type": "code",
   "execution_count": 17,
   "metadata": {},
   "outputs": [
    {
     "name": "stdout",
     "output_type": "stream",
     "text": [
      " * postgresql://student@/project4\n",
      "10 rows affected.\n"
     ]
    },
    {
     "data": {
      "text/html": [
       "<table>\n",
       "    <tr>\n",
       "        <th>alltime_key</th>\n",
       "    </tr>\n",
       "    <tr>\n",
       "        <td>None</td>\n",
       "    </tr>\n",
       "    <tr>\n",
       "        <td>None</td>\n",
       "    </tr>\n",
       "    <tr>\n",
       "        <td>None</td>\n",
       "    </tr>\n",
       "    <tr>\n",
       "        <td>None</td>\n",
       "    </tr>\n",
       "    <tr>\n",
       "        <td>None</td>\n",
       "    </tr>\n",
       "    <tr>\n",
       "        <td>None</td>\n",
       "    </tr>\n",
       "    <tr>\n",
       "        <td>None</td>\n",
       "    </tr>\n",
       "    <tr>\n",
       "        <td>None</td>\n",
       "    </tr>\n",
       "    <tr>\n",
       "        <td>None</td>\n",
       "    </tr>\n",
       "    <tr>\n",
       "        <td>None</td>\n",
       "    </tr>\n",
       "</table>"
      ],
      "text/plain": [
       "[(None,),\n",
       " (None,),\n",
       " (None,),\n",
       " (None,),\n",
       " (None,),\n",
       " (None,),\n",
       " (None,),\n",
       " (None,),\n",
       " (None,),\n",
       " (None,)]"
      ]
     },
     "execution_count": 17,
     "metadata": {},
     "output_type": "execute_result"
    }
   ],
   "source": [
    "%%sql\n",
    "SELECT alltime_key FROM collision\n",
    "LIMIT 10;"
   ]
  },
  {
   "cell_type": "markdown",
   "metadata": {},
   "source": [
    "#### The key is not inserted into collision table, we need to fix it."
   ]
  },
  {
   "cell_type": "code",
   "execution_count": 18,
   "metadata": {},
   "outputs": [
    {
     "name": "stdout",
     "output_type": "stream",
     "text": [
      " * postgresql://student@/project4\n",
      "Done.\n",
      "Done.\n"
     ]
    },
    {
     "data": {
      "text/plain": [
       "[]"
      ]
     },
     "execution_count": 18,
     "metadata": {},
     "output_type": "execute_result"
    }
   ],
   "source": [
    "%%sql\n",
    "DROP INDEX IF EXISTS idx_alltime;\n",
    "\n",
    "CREATE INDEX idx_alltime ON alltime (date_time,year,month,month_year,day,day_week,allhour,hour);"
   ]
  },
  {
   "cell_type": "code",
   "execution_count": 19,
   "metadata": {},
   "outputs": [
    {
     "name": "stdout",
     "output_type": "stream",
     "text": [
      " * postgresql://student@/project4\n",
      "400358 rows affected.\n"
     ]
    },
    {
     "data": {
      "text/plain": [
       "[]"
      ]
     },
     "execution_count": 19,
     "metadata": {},
     "output_type": "execute_result"
    }
   ],
   "source": [
    "%%sql\n",
    "UPDATE collision\n",
    "SET alltime_key = alltime.alltime_key\n",
    "FROM alltime\n",
    "WHERE TO_CHAR(collision.datetime, 'MM/DD/YYYY HH24:00:00') = alltime.date_time;"
   ]
  },
  {
   "cell_type": "code",
   "execution_count": 20,
   "metadata": {},
   "outputs": [
    {
     "name": "stdout",
     "output_type": "stream",
     "text": [
      " * postgresql://student@/project4\n",
      "10 rows affected.\n"
     ]
    },
    {
     "data": {
      "text/html": [
       "<table>\n",
       "    <tr>\n",
       "        <th>alltime_key</th>\n",
       "    </tr>\n",
       "    <tr>\n",
       "        <td>742</td>\n",
       "    </tr>\n",
       "    <tr>\n",
       "        <td>7429</td>\n",
       "    </tr>\n",
       "    <tr>\n",
       "        <td>11483</td>\n",
       "    </tr>\n",
       "    <tr>\n",
       "        <td>3939</td>\n",
       "    </tr>\n",
       "    <tr>\n",
       "        <td>12685</td>\n",
       "    </tr>\n",
       "    <tr>\n",
       "        <td>10466</td>\n",
       "    </tr>\n",
       "    <tr>\n",
       "        <td>12480</td>\n",
       "    </tr>\n",
       "    <tr>\n",
       "        <td>9261</td>\n",
       "    </tr>\n",
       "    <tr>\n",
       "        <td>14719</td>\n",
       "    </tr>\n",
       "    <tr>\n",
       "        <td>14440</td>\n",
       "    </tr>\n",
       "</table>"
      ],
      "text/plain": [
       "[(742,),\n",
       " (7429,),\n",
       " (11483,),\n",
       " (3939,),\n",
       " (12685,),\n",
       " (10466,),\n",
       " (12480,),\n",
       " (9261,),\n",
       " (14719,),\n",
       " (14440,)]"
      ]
     },
     "execution_count": 20,
     "metadata": {},
     "output_type": "execute_result"
    }
   ],
   "source": [
    "%%sql\n",
    "SELECT alltime_key FROM collision\n",
    "LIMIT 10;"
   ]
  },
  {
   "cell_type": "markdown",
   "metadata": {},
   "source": [
    "#### Create dimension table-- location"
   ]
  },
  {
   "cell_type": "code",
   "execution_count": 21,
   "metadata": {},
   "outputs": [
    {
     "name": "stdout",
     "output_type": "stream",
     "text": [
      " * postgresql://student@/project4\n",
      "Done.\n",
      "Done.\n"
     ]
    },
    {
     "data": {
      "text/plain": [
       "[]"
      ]
     },
     "execution_count": 21,
     "metadata": {},
     "output_type": "execute_result"
    }
   ],
   "source": [
    "%%sql\n",
    "DROP TABLE IF EXISTS location;\n",
    "\n",
    "CREATE TABLE location (\n",
    "    location_key SERIAL PRIMARY KEY,\n",
    "    Borough VARCHAR(100),\n",
    "    Zipcode VARCHAR(100),\n",
    "    Latitude VARCHAR(100),\n",
    "    Longitude VARCHAR(100),\n",
    "    On_Street_Name VARCHAR(500),\n",
    "    Cross_Street_Name VARCHAR(500),\n",
    "    Off_Street_Name VARCHAR(500)\n",
    ");"
   ]
  },
  {
   "cell_type": "code",
   "execution_count": 22,
   "metadata": {},
   "outputs": [
    {
     "name": "stdout",
     "output_type": "stream",
     "text": [
      " * postgresql://student@/project4\n",
      "161113 rows affected.\n"
     ]
    },
    {
     "data": {
      "text/plain": [
       "[]"
      ]
     },
     "execution_count": 22,
     "metadata": {},
     "output_type": "execute_result"
    }
   ],
   "source": [
    "%%sql\n",
    "INSERT INTO location (Borough, Zipcode, Latitude, Longitude, On_Street_Name, Cross_Street_Name, Off_Street_Name)\n",
    "SELECT DISTINCT Borough, Zipcode, Latitude, Longitude, On_Street_Name, Cross_Street_Name, Off_Street_Name\n",
    "FROM collision;"
   ]
  },
  {
   "cell_type": "code",
   "execution_count": 23,
   "metadata": {},
   "outputs": [
    {
     "name": "stdout",
     "output_type": "stream",
     "text": [
      " * postgresql://student@/project4\n",
      "Done.\n"
     ]
    },
    {
     "data": {
      "text/plain": [
       "[]"
      ]
     },
     "execution_count": 23,
     "metadata": {},
     "output_type": "execute_result"
    }
   ],
   "source": [
    "%%sql\n",
    "ALTER TABLE collision\n",
    "ADD COLUMN location_key INTEGER,\n",
    "ADD CONSTRAINT fk_location_key\n",
    "    FOREIGN KEY (location_key)\n",
    "    REFERENCES location (location_key);"
   ]
  },
  {
   "cell_type": "code",
   "execution_count": 24,
   "metadata": {},
   "outputs": [
    {
     "name": "stdout",
     "output_type": "stream",
     "text": [
      " * postgresql://student@/project4\n",
      "10 rows affected.\n"
     ]
    },
    {
     "data": {
      "text/html": [
       "<table>\n",
       "    <tr>\n",
       "        <th>location_key</th>\n",
       "        <th>borough</th>\n",
       "        <th>zipcode</th>\n",
       "        <th>latitude</th>\n",
       "        <th>longitude</th>\n",
       "        <th>on_street_name</th>\n",
       "        <th>cross_street_name</th>\n",
       "        <th>off_street_name</th>\n",
       "    </tr>\n",
       "    <tr>\n",
       "        <td>3</td>\n",
       "        <td>BRONX</td>\n",
       "        <td>10451</td>\n",
       "        <td>40.65878</td>\n",
       "        <td>-73.960526</td>\n",
       "        <td>EAST 138 STREET                 </td>\n",
       "        <td>EXTERIOR STREET</td>\n",
       "        <td>None</td>\n",
       "    </tr>\n",
       "    <tr>\n",
       "        <td>4</td>\n",
       "        <td>BRONX</td>\n",
       "        <td>10451</td>\n",
       "        <td>40.715153</td>\n",
       "        <td>-73.77345</td>\n",
       "        <td>None</td>\n",
       "        <td>None</td>\n",
       "        <td>370       MORRIS AVENUE                 </td>\n",
       "    </tr>\n",
       "    <tr>\n",
       "        <td>5</td>\n",
       "        <td>BRONX</td>\n",
       "        <td>10451</td>\n",
       "        <td>40.808056</td>\n",
       "        <td>-73.93141</td>\n",
       "        <td>None</td>\n",
       "        <td>None</td>\n",
       "        <td>2417      3 AVENUE                      </td>\n",
       "    </tr>\n",
       "    <tr>\n",
       "        <td>6</td>\n",
       "        <td>BRONX</td>\n",
       "        <td>10451</td>\n",
       "        <td>40.80901</td>\n",
       "        <td>-73.929955</td>\n",
       "        <td>None</td>\n",
       "        <td>None</td>\n",
       "        <td>2443      3 AVENUE                      </td>\n",
       "    </tr>\n",
       "    <tr>\n",
       "        <td>7</td>\n",
       "        <td>BRONX</td>\n",
       "        <td>10451</td>\n",
       "        <td>40.809174</td>\n",
       "        <td>-73.93054</td>\n",
       "        <td>None</td>\n",
       "        <td>None</td>\n",
       "        <td>224       EAST 134 STREET               </td>\n",
       "    </tr>\n",
       "    <tr>\n",
       "        <td>8</td>\n",
       "        <td>BRONX</td>\n",
       "        <td>10451</td>\n",
       "        <td>40.809242</td>\n",
       "        <td>-73.93063</td>\n",
       "        <td>None</td>\n",
       "        <td>None</td>\n",
       "        <td>220       EAST 134 STREET               </td>\n",
       "    </tr>\n",
       "    <tr>\n",
       "        <td>9</td>\n",
       "        <td>BRONX</td>\n",
       "        <td>10451</td>\n",
       "        <td>40.80976</td>\n",
       "        <td>-73.929</td>\n",
       "        <td>None</td>\n",
       "        <td>None</td>\n",
       "        <td>2477      3 AVENUE                      </td>\n",
       "    </tr>\n",
       "    <tr>\n",
       "        <td>10</td>\n",
       "        <td>BRONX</td>\n",
       "        <td>10451</td>\n",
       "        <td>40.8099</td>\n",
       "        <td>-73.92881</td>\n",
       "        <td>3 AVENUE                        </td>\n",
       "        <td>EAST 136 STREET</td>\n",
       "        <td>None</td>\n",
       "    </tr>\n",
       "    <tr>\n",
       "        <td>11</td>\n",
       "        <td>BRONX</td>\n",
       "        <td>10451</td>\n",
       "        <td>40.8099</td>\n",
       "        <td>-73.92881</td>\n",
       "        <td>EAST 136 STREET                 </td>\n",
       "        <td>3 AVENUE</td>\n",
       "        <td>None</td>\n",
       "    </tr>\n",
       "    <tr>\n",
       "        <td>12</td>\n",
       "        <td>BRONX</td>\n",
       "        <td>10451</td>\n",
       "        <td>40.810196</td>\n",
       "        <td>-73.93068</td>\n",
       "        <td>None</td>\n",
       "        <td>None</td>\n",
       "        <td>200       EAST 135 STREET               </td>\n",
       "    </tr>\n",
       "</table>"
      ],
      "text/plain": [
       "[(3, 'BRONX', '10451', '40.65878', '-73.960526', 'EAST 138 STREET                 ', 'EXTERIOR STREET', None),\n",
       " (4, 'BRONX', '10451', '40.715153', '-73.77345', None, None, '370       MORRIS AVENUE                 '),\n",
       " (5, 'BRONX', '10451', '40.808056', '-73.93141', None, None, '2417      3 AVENUE                      '),\n",
       " (6, 'BRONX', '10451', '40.80901', '-73.929955', None, None, '2443      3 AVENUE                      '),\n",
       " (7, 'BRONX', '10451', '40.809174', '-73.93054', None, None, '224       EAST 134 STREET               '),\n",
       " (8, 'BRONX', '10451', '40.809242', '-73.93063', None, None, '220       EAST 134 STREET               '),\n",
       " (9, 'BRONX', '10451', '40.80976', '-73.929', None, None, '2477      3 AVENUE                      '),\n",
       " (10, 'BRONX', '10451', '40.8099', '-73.92881', '3 AVENUE                        ', 'EAST 136 STREET', None),\n",
       " (11, 'BRONX', '10451', '40.8099', '-73.92881', 'EAST 136 STREET                 ', '3 AVENUE', None),\n",
       " (12, 'BRONX', '10451', '40.810196', '-73.93068', None, None, '200       EAST 135 STREET               ')]"
      ]
     },
     "execution_count": 24,
     "metadata": {},
     "output_type": "execute_result"
    }
   ],
   "source": [
    "%%sql\n",
    "SELECT * FROM location\n",
    "WHERE latitude not in ('0') and longitude not in ('0')\n",
    "limit 10"
   ]
  },
  {
   "cell_type": "markdown",
   "metadata": {},
   "source": [
    "#### on_street_name and cross_street_name are pair data which appear at the same time. off_street_name is the opposite to that pair, so they don't appear at the same time."
   ]
  },
  {
   "cell_type": "markdown",
   "metadata": {},
   "source": [
    "#### Build the index"
   ]
  },
  {
   "cell_type": "code",
   "execution_count": 25,
   "metadata": {},
   "outputs": [
    {
     "name": "stdout",
     "output_type": "stream",
     "text": [
      " * postgresql://student@/project4\n",
      "Done.\n",
      "Done.\n"
     ]
    },
    {
     "data": {
      "text/plain": [
       "[]"
      ]
     },
     "execution_count": 25,
     "metadata": {},
     "output_type": "execute_result"
    }
   ],
   "source": [
    "%%sql\n",
    "DROP INDEX IF EXISTS idx_location;\n",
    "\n",
    "CREATE INDEX idx_location ON location (Borough, Zipcode, Latitude, Longitude, On_Street_Name, Cross_Street_Name, Off_Street_Name);"
   ]
  },
  {
   "cell_type": "code",
   "execution_count": 26,
   "metadata": {},
   "outputs": [
    {
     "name": "stdout",
     "output_type": "stream",
     "text": [
      " * postgresql://student@/project4\n",
      "123152 rows affected.\n",
      "210069 rows affected.\n",
      "303018 rows affected.\n",
      "138013 rows affected.\n",
      "138082 rows affected.\n"
     ]
    },
    {
     "data": {
      "text/plain": [
       "[]"
      ]
     },
     "execution_count": 26,
     "metadata": {},
     "output_type": "execute_result"
    }
   ],
   "source": [
    "%%sql\n",
    "UPDATE collision\n",
    "SET on_street_name = 'MISS'\n",
    "WHERE on_street_name is NULL;\n",
    "\n",
    "UPDATE collision\n",
    "SET cross_street_name = 'MISS'\n",
    "WHERE cross_street_name is NULL;\n",
    "\n",
    "UPDATE collision\n",
    "SET off_street_name = 'MISS'\n",
    "WHERE off_street_name is NULL;\n",
    "\n",
    "UPDATE collision\n",
    "SET borough = 'MISS'\n",
    "WHERE borough is NULL;\n",
    "\n",
    "UPDATE collision\n",
    "SET zipcode = '0'\n",
    "WHERE zipcode is NULL;"
   ]
  },
  {
   "cell_type": "code",
   "execution_count": 27,
   "metadata": {},
   "outputs": [
    {
     "name": "stdout",
     "output_type": "stream",
     "text": [
      " * postgresql://student@/project4\n",
      "74752 rows affected.\n",
      "108221 rows affected.\n",
      "90483 rows affected.\n",
      "44818 rows affected.\n",
      "44835 rows affected.\n"
     ]
    },
    {
     "data": {
      "text/plain": [
       "[]"
      ]
     },
     "execution_count": 27,
     "metadata": {},
     "output_type": "execute_result"
    }
   ],
   "source": [
    "%%sql\n",
    "UPDATE location\n",
    "SET on_street_name = 'MISS'\n",
    "WHERE on_street_name is NULL;\n",
    "\n",
    "UPDATE location\n",
    "SET cross_street_name = 'MISS'\n",
    "WHERE cross_street_name is NULL;\n",
    "\n",
    "UPDATE location\n",
    "SET off_street_name = 'MISS'\n",
    "WHERE off_street_name is NULL;\n",
    "\n",
    "UPDATE location\n",
    "SET borough = 'MISS'\n",
    "WHERE borough is NULL;\n",
    "\n",
    "UPDATE location\n",
    "SET zipcode = '0'\n",
    "WHERE zipcode is NULL;"
   ]
  },
  {
   "cell_type": "markdown",
   "metadata": {},
   "source": [
    "#### Replace the null values in certain columns in location and collision table, to insert key into collision."
   ]
  },
  {
   "cell_type": "code",
   "execution_count": 28,
   "metadata": {},
   "outputs": [
    {
     "name": "stdout",
     "output_type": "stream",
     "text": [
      " * postgresql://student@/project4\n",
      "400358 rows affected.\n"
     ]
    },
    {
     "data": {
      "text/plain": [
       "[]"
      ]
     },
     "execution_count": 28,
     "metadata": {},
     "output_type": "execute_result"
    }
   ],
   "source": [
    "%%sql\n",
    "UPDATE collision\n",
    "SET location_key = location.location_key\n",
    "FROM location\n",
    "WHERE collision.Borough = location.borough\n",
    "    AND collision.Zipcode = location.zipcode\n",
    "    AND collision.Latitude = location.latitude\n",
    "    AND collision.Longitude = location.longitude\n",
    "    AND collision.On_Street_Name = location.on_street_name\n",
    "    AND collision.Cross_Street_Name = location.cross_street_name\n",
    "    AND collision.Off_Street_Name = location.off_street_name"
   ]
  },
  {
   "cell_type": "code",
   "execution_count": 29,
   "metadata": {},
   "outputs": [
    {
     "name": "stdout",
     "output_type": "stream",
     "text": [
      " * postgresql://student@/project4\n",
      "10 rows affected.\n"
     ]
    },
    {
     "data": {
      "text/html": [
       "<table>\n",
       "    <tr>\n",
       "        <th>location_key</th>\n",
       "    </tr>\n",
       "    <tr>\n",
       "        <td>148782</td>\n",
       "    </tr>\n",
       "    <tr>\n",
       "        <td>116764</td>\n",
       "    </tr>\n",
       "    <tr>\n",
       "        <td>132452</td>\n",
       "    </tr>\n",
       "    <tr>\n",
       "        <td>136954</td>\n",
       "    </tr>\n",
       "    <tr>\n",
       "        <td>157522</td>\n",
       "    </tr>\n",
       "    <tr>\n",
       "        <td>116641</td>\n",
       "    </tr>\n",
       "    <tr>\n",
       "        <td>156428</td>\n",
       "    </tr>\n",
       "    <tr>\n",
       "        <td>132025</td>\n",
       "    </tr>\n",
       "    <tr>\n",
       "        <td>147370</td>\n",
       "    </tr>\n",
       "    <tr>\n",
       "        <td>121165</td>\n",
       "    </tr>\n",
       "</table>"
      ],
      "text/plain": [
       "[(148782,),\n",
       " (116764,),\n",
       " (132452,),\n",
       " (136954,),\n",
       " (157522,),\n",
       " (116641,),\n",
       " (156428,),\n",
       " (132025,),\n",
       " (147370,),\n",
       " (121165,)]"
      ]
     },
     "execution_count": 29,
     "metadata": {},
     "output_type": "execute_result"
    }
   ],
   "source": [
    "%%sql\n",
    "SELECT location_key FROM collision\n",
    "LIMIT 10;"
   ]
  },
  {
   "cell_type": "markdown",
   "metadata": {},
   "source": [
    "#### Create dimension table-- participants "
   ]
  },
  {
   "cell_type": "code",
   "execution_count": 30,
   "metadata": {},
   "outputs": [
    {
     "name": "stdout",
     "output_type": "stream",
     "text": [
      " * postgresql://student@/project4\n",
      "Done.\n",
      "Done.\n"
     ]
    },
    {
     "data": {
      "text/plain": [
       "[]"
      ]
     },
     "execution_count": 30,
     "metadata": {},
     "output_type": "execute_result"
    }
   ],
   "source": [
    "%%sql\n",
    "DROP TABLE IF EXISTS participants;\n",
    "\n",
    "CREATE TABLE participants (\n",
    "    participants_key SERIAL PRIMARY KEY,\n",
    "    Contributing_Factor VARCHAR(500),\n",
    "    Vehicle_Type_Code_1 VARCHAR(500),\n",
    "    Vehicle_Type_Code_2 VARCHAR(500),\n",
    "    Vehicle_Type_Code_3 VARCHAR(500),\n",
    "    Vehicle_Type_Code_4 VARCHAR(500),\n",
    "    Vehicle_Type_Code_5 VARCHAR(500),\n",
    "    All_Vehicles VARCHAR(500)\n",
    ");"
   ]
  },
  {
   "cell_type": "code",
   "execution_count": 31,
   "metadata": {},
   "outputs": [
    {
     "name": "stdout",
     "output_type": "stream",
     "text": [
      " * postgresql://student@/project4\n",
      "15475 rows affected.\n"
     ]
    },
    {
     "data": {
      "text/plain": [
       "[]"
      ]
     },
     "execution_count": 31,
     "metadata": {},
     "output_type": "execute_result"
    }
   ],
   "source": [
    "%%sql\n",
    "INSERT INTO participants (Contributing_Factor, Vehicle_Type_Code_1, Vehicle_Type_Code_2, Vehicle_Type_Code_3,\n",
    "                      Vehicle_Type_Code_4, Vehicle_Type_Code_5, All_Vehicles)\n",
    "SELECT DISTINCT Contributing_Factor, Vehicle_Type_Code_1, Vehicle_Type_Code_2, Vehicle_Type_Code_3,\n",
    "                      Vehicle_Type_Code_4, Vehicle_Type_Code_5, All_Vehicles\n",
    "FROM collision;"
   ]
  },
  {
   "cell_type": "code",
   "execution_count": 32,
   "metadata": {},
   "outputs": [
    {
     "name": "stdout",
     "output_type": "stream",
     "text": [
      " * postgresql://student@/project4\n",
      "Done.\n"
     ]
    },
    {
     "data": {
      "text/plain": [
       "[]"
      ]
     },
     "execution_count": 32,
     "metadata": {},
     "output_type": "execute_result"
    }
   ],
   "source": [
    "%%sql\n",
    "ALTER TABLE collision\n",
    "ADD COLUMN participants_key INTEGER,\n",
    "ADD CONSTRAINT fk_participants_key\n",
    "    FOREIGN KEY (participants_key)\n",
    "    REFERENCES participants (participants_key);"
   ]
  },
  {
   "cell_type": "markdown",
   "metadata": {},
   "source": [
    "#### Build the index"
   ]
  },
  {
   "cell_type": "code",
   "execution_count": 33,
   "metadata": {},
   "outputs": [
    {
     "name": "stdout",
     "output_type": "stream",
     "text": [
      " * postgresql://student@/project4\n",
      "Done.\n",
      "Done.\n"
     ]
    },
    {
     "data": {
      "text/plain": [
       "[]"
      ]
     },
     "execution_count": 33,
     "metadata": {},
     "output_type": "execute_result"
    }
   ],
   "source": [
    "%%sql\n",
    "DROP INDEX IF EXISTS idx_participants;\n",
    "\n",
    "CREATE INDEX idx_participants ON participants (Contributing_Factor, Vehicle_Type_Code_1, Vehicle_Type_Code_2, Vehicle_Type_Code_3,\n",
    "                      Vehicle_Type_Code_4, Vehicle_Type_Code_5, All_Vehicles);"
   ]
  },
  {
   "cell_type": "code",
   "execution_count": 34,
   "metadata": {},
   "outputs": [
    {
     "name": "stdout",
     "output_type": "stream",
     "text": [
      " * postgresql://student@/project4\n",
      "5 rows affected.\n"
     ]
    },
    {
     "data": {
      "text/html": [
       "<table>\n",
       "    <tr>\n",
       "        <th>participants_key</th>\n",
       "        <th>contributing_factor</th>\n",
       "        <th>vehicle_type_code_1</th>\n",
       "        <th>vehicle_type_code_2</th>\n",
       "        <th>vehicle_type_code_3</th>\n",
       "        <th>vehicle_type_code_4</th>\n",
       "        <th>vehicle_type_code_5</th>\n",
       "        <th>all_vehicles</th>\n",
       "    </tr>\n",
       "    <tr>\n",
       "        <td>1</td>\n",
       "        <td>Accelerator Defective</td>\n",
       "        <td>BU</td>\n",
       "        <td>TK</td>\n",
       "        <td>None</td>\n",
       "        <td>None</td>\n",
       "        <td>None</td>\n",
       "        <td>BU TK   </td>\n",
       "    </tr>\n",
       "    <tr>\n",
       "        <td>2</td>\n",
       "        <td>Accelerator Defective</td>\n",
       "        <td>Bus</td>\n",
       "        <td>Dump</td>\n",
       "        <td>None</td>\n",
       "        <td>None</td>\n",
       "        <td>None</td>\n",
       "        <td>Bus Dump   </td>\n",
       "    </tr>\n",
       "    <tr>\n",
       "        <td>3</td>\n",
       "        <td>Accelerator Defective</td>\n",
       "        <td>Convertible</td>\n",
       "        <td>Sedan</td>\n",
       "        <td>None</td>\n",
       "        <td>None</td>\n",
       "        <td>None</td>\n",
       "        <td>Convertible Sedan   </td>\n",
       "    </tr>\n",
       "    <tr>\n",
       "        <td>4</td>\n",
       "        <td>Accelerator Defective</td>\n",
       "        <td>Convertible</td>\n",
       "        <td>Station Wagon/Sport Utility Vehicle</td>\n",
       "        <td>Station Wagon/Sport Utility Vehicle</td>\n",
       "        <td>None</td>\n",
       "        <td>None</td>\n",
       "        <td>Convertible Station Wagon/Sport Utility Vehicle Station Wagon/Sport Utility Vehicle  </td>\n",
       "    </tr>\n",
       "    <tr>\n",
       "        <td>5</td>\n",
       "        <td>Accelerator Defective</td>\n",
       "        <td>DP</td>\n",
       "        <td>PASSENGER VEHICLE</td>\n",
       "        <td>PASSENGER VEHICLE</td>\n",
       "        <td>PASSENGER VEHICLE</td>\n",
       "        <td>None</td>\n",
       "        <td>DP PASSENGER VEHICLE PASSENGER VEHICLE PASSENGER VEHICLE </td>\n",
       "    </tr>\n",
       "</table>"
      ],
      "text/plain": [
       "[(1, 'Accelerator Defective', 'BU', 'TK', None, None, None, 'BU TK   '),\n",
       " (2, 'Accelerator Defective', 'Bus', 'Dump', None, None, None, 'Bus Dump   '),\n",
       " (3, 'Accelerator Defective', 'Convertible', 'Sedan', None, None, None, 'Convertible Sedan   '),\n",
       " (4, 'Accelerator Defective', 'Convertible', 'Station Wagon/Sport Utility Vehicle', 'Station Wagon/Sport Utility Vehicle', None, None, 'Convertible Station Wagon/Sport Utility Vehicle Station Wagon/Sport Utility Vehicle  '),\n",
       " (5, 'Accelerator Defective', 'DP', 'PASSENGER VEHICLE', 'PASSENGER VEHICLE', 'PASSENGER VEHICLE', None, 'DP PASSENGER VEHICLE PASSENGER VEHICLE PASSENGER VEHICLE ')]"
      ]
     },
     "execution_count": 34,
     "metadata": {},
     "output_type": "execute_result"
    }
   ],
   "source": [
    "%%sql\n",
    "SELECT * FROM participants\n",
    "limit 5"
   ]
  },
  {
   "cell_type": "code",
   "execution_count": 35,
   "metadata": {},
   "outputs": [
    {
     "name": "stdout",
     "output_type": "stream",
     "text": [
      " * postgresql://student@/project4\n",
      "3452 rows affected.\n",
      "6711 rows affected.\n",
      "101514 rows affected.\n",
      "372379 rows affected.\n",
      "390469 rows affected.\n",
      "398308 rows affected.\n",
      "0 rows affected.\n"
     ]
    },
    {
     "data": {
      "text/plain": [
       "[]"
      ]
     },
     "execution_count": 35,
     "metadata": {},
     "output_type": "execute_result"
    }
   ],
   "source": [
    "%%sql\n",
    "UPDATE collision\n",
    "SET contributing_factor = 'MISS'\n",
    "WHERE contributing_factor is NULL;\n",
    "\n",
    "UPDATE collision\n",
    "SET vehicle_type_code_1 = 'MISS'\n",
    "WHERE vehicle_type_code_1 is NULL;\n",
    "\n",
    "UPDATE collision\n",
    "SET vehicle_type_code_2 = 'MISS'\n",
    "WHERE vehicle_type_code_2 is NULL;\n",
    "\n",
    "UPDATE collision\n",
    "SET vehicle_type_code_3 = 'MISS'\n",
    "WHERE vehicle_type_code_3 is NULL;\n",
    "\n",
    "UPDATE collision\n",
    "SET vehicle_type_code_4 = 'MISS'\n",
    "WHERE vehicle_type_code_4 is NULL;\n",
    "\n",
    "UPDATE collision\n",
    "SET vehicle_type_code_5 = 'MISS'\n",
    "WHERE vehicle_type_code_5 is NULL;\n",
    "\n",
    "UPDATE collision\n",
    "SET all_vehicles = 'MISS'\n",
    "WHERE all_vehicles is NULL;"
   ]
  },
  {
   "cell_type": "code",
   "execution_count": 36,
   "metadata": {},
   "outputs": [
    {
     "name": "stdout",
     "output_type": "stream",
     "text": [
      " * postgresql://student@/project4\n",
      "123 rows affected.\n",
      "51 rows affected.\n",
      "1151 rows affected.\n",
      "9916 rows affected.\n",
      "12800 rows affected.\n",
      "14423 rows affected.\n",
      "0 rows affected.\n"
     ]
    },
    {
     "data": {
      "text/plain": [
       "[]"
      ]
     },
     "execution_count": 36,
     "metadata": {},
     "output_type": "execute_result"
    }
   ],
   "source": [
    "%%sql\n",
    "UPDATE participants\n",
    "SET contributing_factor = 'MISS'\n",
    "WHERE contributing_factor is NULL;\n",
    "\n",
    "UPDATE participants\n",
    "SET vehicle_type_code_1 = 'MISS'\n",
    "WHERE vehicle_type_code_1 is NULL;\n",
    "\n",
    "UPDATE participants\n",
    "SET vehicle_type_code_2 = 'MISS'\n",
    "WHERE vehicle_type_code_2 is NULL;\n",
    "\n",
    "UPDATE participants\n",
    "SET vehicle_type_code_3 = 'MISS'\n",
    "WHERE vehicle_type_code_3 is NULL;\n",
    "\n",
    "UPDATE participants\n",
    "SET vehicle_type_code_4 = 'MISS'\n",
    "WHERE vehicle_type_code_4 is NULL;\n",
    "\n",
    "UPDATE participants\n",
    "SET vehicle_type_code_5 = 'MISS'\n",
    "WHERE vehicle_type_code_5 is NULL;\n",
    "\n",
    "UPDATE participants\n",
    "SET all_vehicles = 'MISS'\n",
    "WHERE all_vehicles is NULL;"
   ]
  },
  {
   "cell_type": "markdown",
   "metadata": {},
   "source": [
    "#### Replace null values in certain columns in collision and participants table, to insert key into collision table."
   ]
  },
  {
   "cell_type": "code",
   "execution_count": 37,
   "metadata": {},
   "outputs": [
    {
     "name": "stdout",
     "output_type": "stream",
     "text": [
      " * postgresql://student@/project4\n",
      "400358 rows affected.\n"
     ]
    },
    {
     "data": {
      "text/plain": [
       "[]"
      ]
     },
     "execution_count": 37,
     "metadata": {},
     "output_type": "execute_result"
    }
   ],
   "source": [
    "%%sql\n",
    "UPDATE collision\n",
    "SET participants_key = participants.participants_key\n",
    "FROM participants\n",
    "WHERE collision.Contributing_Factor = participants.Contributing_Factor\n",
    "    AND collision.Vehicle_Type_Code_1 = participants.Vehicle_Type_Code_1\n",
    "    AND collision.Vehicle_Type_Code_2 = participants.Vehicle_Type_Code_2\n",
    "    AND collision.Vehicle_Type_Code_3 = participants.Vehicle_Type_Code_3\n",
    "    AND collision.Vehicle_Type_Code_4 = participants.Vehicle_Type_Code_4\n",
    "    AND collision.Vehicle_Type_Code_5 = participants.Vehicle_Type_Code_5\n",
    "    AND collision.All_Vehicles = participants.All_Vehicles"
   ]
  },
  {
   "cell_type": "code",
   "execution_count": 38,
   "metadata": {},
   "outputs": [
    {
     "name": "stdout",
     "output_type": "stream",
     "text": [
      " * postgresql://student@/project4\n",
      "10 rows affected.\n"
     ]
    },
    {
     "data": {
      "text/html": [
       "<table>\n",
       "    <tr>\n",
       "        <th>participants_key</th>\n",
       "    </tr>\n",
       "    <tr>\n",
       "        <td>6042</td>\n",
       "    </tr>\n",
       "    <tr>\n",
       "        <td>15475</td>\n",
       "    </tr>\n",
       "    <tr>\n",
       "        <td>13479</td>\n",
       "    </tr>\n",
       "    <tr>\n",
       "        <td>14344</td>\n",
       "    </tr>\n",
       "    <tr>\n",
       "        <td>11435</td>\n",
       "    </tr>\n",
       "    <tr>\n",
       "        <td>5541</td>\n",
       "    </tr>\n",
       "    <tr>\n",
       "        <td>14344</td>\n",
       "    </tr>\n",
       "    <tr>\n",
       "        <td>14344</td>\n",
       "    </tr>\n",
       "    <tr>\n",
       "        <td>14344</td>\n",
       "    </tr>\n",
       "    <tr>\n",
       "        <td>9973</td>\n",
       "    </tr>\n",
       "</table>"
      ],
      "text/plain": [
       "[(6042,),\n",
       " (15475,),\n",
       " (13479,),\n",
       " (14344,),\n",
       " (11435,),\n",
       " (5541,),\n",
       " (14344,),\n",
       " (14344,),\n",
       " (14344,),\n",
       " (9973,)]"
      ]
     },
     "execution_count": 38,
     "metadata": {},
     "output_type": "execute_result"
    }
   ],
   "source": [
    "%%sql\n",
    "SELECT participants_key from collision\n",
    "limit 10"
   ]
  },
  {
   "cell_type": "markdown",
   "metadata": {},
   "source": [
    "#### Drop all columns in collision table, except fact columns and keys."
   ]
  },
  {
   "cell_type": "code",
   "execution_count": 39,
   "metadata": {},
   "outputs": [
    {
     "name": "stdout",
     "output_type": "stream",
     "text": [
      " * postgresql://student@/project4\n",
      "Done.\n"
     ]
    },
    {
     "data": {
      "text/plain": [
       "[]"
      ]
     },
     "execution_count": 39,
     "metadata": {},
     "output_type": "execute_result"
    }
   ],
   "source": [
    "%%sql\n",
    "ALTER TABLE collision\n",
    "DROP COLUMN Date,\n",
    "DROP COLUMN Time,\n",
    "DROP COLUMN Datetime,\n",
    "DROP COLUMN Borough,\n",
    "DROP COLUMN Zipcode,\n",
    "DROP COLUMN Latitude,\n",
    "DROP COLUMN Longitude,\n",
    "DROP COLUMN On_Street_Name,\n",
    "DROP COLUMN Cross_Street_Name,\n",
    "DROP COLUMN Off_Street_Name,\n",
    "DROP COLUMN Contributing_Factor,\n",
    "DROP COLUMN Vehicle_Type_Code_1,\n",
    "DROP COLUMN Vehicle_Type_Code_2,\n",
    "DROP COLUMN Vehicle_Type_Code_3,\n",
    "DROP COLUMN Vehicle_Type_Code_4,\n",
    "DROP COLUMN Vehicle_Type_Code_5,\n",
    "DROP COLUMN unique_key,\n",
    "DROP COLUMN All_Vehicles"
   ]
  },
  {
   "cell_type": "code",
   "execution_count": 40,
   "metadata": {},
   "outputs": [
    {
     "name": "stdout",
     "output_type": "stream",
     "text": [
      " * postgresql://student@/project4\n",
      "10 rows affected.\n"
     ]
    },
    {
     "data": {
      "text/html": [
       "<table>\n",
       "    <tr>\n",
       "        <th>persons_injured</th>\n",
       "        <th>persons_killed</th>\n",
       "        <th>pedestrian_injured</th>\n",
       "        <th>pedestrian_killed</th>\n",
       "        <th>cyclist_injured</th>\n",
       "        <th>cyclist_killed</th>\n",
       "        <th>motorist_injured</th>\n",
       "        <th>motorist_killed</th>\n",
       "        <th>alltime_key</th>\n",
       "        <th>location_key</th>\n",
       "        <th>participants_key</th>\n",
       "    </tr>\n",
       "    <tr>\n",
       "        <td>0</td>\n",
       "        <td>0</td>\n",
       "        <td>0</td>\n",
       "        <td>0</td>\n",
       "        <td>0</td>\n",
       "        <td>0</td>\n",
       "        <td>0</td>\n",
       "        <td>0</td>\n",
       "        <td>12059</td>\n",
       "        <td>157821</td>\n",
       "        <td>14344</td>\n",
       "    </tr>\n",
       "    <tr>\n",
       "        <td>0</td>\n",
       "        <td>0</td>\n",
       "        <td>0</td>\n",
       "        <td>0</td>\n",
       "        <td>0</td>\n",
       "        <td>0</td>\n",
       "        <td>0</td>\n",
       "        <td>0</td>\n",
       "        <td>5966</td>\n",
       "        <td>158546</td>\n",
       "        <td>14344</td>\n",
       "    </tr>\n",
       "    <tr>\n",
       "        <td>1</td>\n",
       "        <td>0</td>\n",
       "        <td>0</td>\n",
       "        <td>0</td>\n",
       "        <td>0</td>\n",
       "        <td>0</td>\n",
       "        <td>1</td>\n",
       "        <td>0</td>\n",
       "        <td>7276</td>\n",
       "        <td>129585</td>\n",
       "        <td>9973</td>\n",
       "    </tr>\n",
       "    <tr>\n",
       "        <td>1</td>\n",
       "        <td>0</td>\n",
       "        <td>1</td>\n",
       "        <td>0</td>\n",
       "        <td>0</td>\n",
       "        <td>0</td>\n",
       "        <td>0</td>\n",
       "        <td>0</td>\n",
       "        <td>15900</td>\n",
       "        <td>87546</td>\n",
       "        <td>14344</td>\n",
       "    </tr>\n",
       "    <tr>\n",
       "        <td>0</td>\n",
       "        <td>0</td>\n",
       "        <td>0</td>\n",
       "        <td>0</td>\n",
       "        <td>0</td>\n",
       "        <td>0</td>\n",
       "        <td>0</td>\n",
       "        <td>0</td>\n",
       "        <td>13085</td>\n",
       "        <td>153633</td>\n",
       "        <td>8626</td>\n",
       "    </tr>\n",
       "    <tr>\n",
       "        <td>0</td>\n",
       "        <td>0</td>\n",
       "        <td>0</td>\n",
       "        <td>0</td>\n",
       "        <td>0</td>\n",
       "        <td>0</td>\n",
       "        <td>0</td>\n",
       "        <td>0</td>\n",
       "        <td>16358</td>\n",
       "        <td>92492</td>\n",
       "        <td>14344</td>\n",
       "    </tr>\n",
       "    <tr>\n",
       "        <td>1</td>\n",
       "        <td>0</td>\n",
       "        <td>1</td>\n",
       "        <td>0</td>\n",
       "        <td>0</td>\n",
       "        <td>0</td>\n",
       "        <td>0</td>\n",
       "        <td>0</td>\n",
       "        <td>13914</td>\n",
       "        <td>147582</td>\n",
       "        <td>5153</td>\n",
       "    </tr>\n",
       "    <tr>\n",
       "        <td>0</td>\n",
       "        <td>0</td>\n",
       "        <td>0</td>\n",
       "        <td>0</td>\n",
       "        <td>0</td>\n",
       "        <td>0</td>\n",
       "        <td>0</td>\n",
       "        <td>0</td>\n",
       "        <td>14954</td>\n",
       "        <td>144113</td>\n",
       "        <td>14701</td>\n",
       "    </tr>\n",
       "    <tr>\n",
       "        <td>1</td>\n",
       "        <td>0</td>\n",
       "        <td>1</td>\n",
       "        <td>0</td>\n",
       "        <td>0</td>\n",
       "        <td>0</td>\n",
       "        <td>0</td>\n",
       "        <td>0</td>\n",
       "        <td>523</td>\n",
       "        <td>147048</td>\n",
       "        <td>14344</td>\n",
       "    </tr>\n",
       "    <tr>\n",
       "        <td>0</td>\n",
       "        <td>0</td>\n",
       "        <td>0</td>\n",
       "        <td>0</td>\n",
       "        <td>0</td>\n",
       "        <td>0</td>\n",
       "        <td>0</td>\n",
       "        <td>0</td>\n",
       "        <td>3814</td>\n",
       "        <td>142212</td>\n",
       "        <td>6042</td>\n",
       "    </tr>\n",
       "</table>"
      ],
      "text/plain": [
       "[(0, 0, 0, 0, 0, 0, 0, 0, 12059, 157821, 14344),\n",
       " (0, 0, 0, 0, 0, 0, 0, 0, 5966, 158546, 14344),\n",
       " (1, 0, 0, 0, 0, 0, 1, 0, 7276, 129585, 9973),\n",
       " (1, 0, 1, 0, 0, 0, 0, 0, 15900, 87546, 14344),\n",
       " (0, 0, 0, 0, 0, 0, 0, 0, 13085, 153633, 8626),\n",
       " (0, 0, 0, 0, 0, 0, 0, 0, 16358, 92492, 14344),\n",
       " (1, 0, 1, 0, 0, 0, 0, 0, 13914, 147582, 5153),\n",
       " (0, 0, 0, 0, 0, 0, 0, 0, 14954, 144113, 14701),\n",
       " (1, 0, 1, 0, 0, 0, 0, 0, 523, 147048, 14344),\n",
       " (0, 0, 0, 0, 0, 0, 0, 0, 3814, 142212, 6042)]"
      ]
     },
     "execution_count": 40,
     "metadata": {},
     "output_type": "execute_result"
    }
   ],
   "source": [
    "%%sql\n",
    "SELECT * FROM collision\n",
    "LIMIT 10"
   ]
  },
  {
   "cell_type": "code",
   "execution_count": 41,
   "metadata": {},
   "outputs": [
    {
     "name": "stdout",
     "output_type": "stream",
     "text": [
      " * postgresql://student@/project4\n",
      "1 rows affected.\n"
     ]
    },
    {
     "data": {
      "text/html": [
       "<table>\n",
       "    <tr>\n",
       "        <th>count</th>\n",
       "    </tr>\n",
       "    <tr>\n",
       "        <td>400358</td>\n",
       "    </tr>\n",
       "</table>"
      ],
      "text/plain": [
       "[(400358,)]"
      ]
     },
     "execution_count": 41,
     "metadata": {},
     "output_type": "execute_result"
    }
   ],
   "source": [
    "%%sql\n",
    "SELECT count(*) FROM collision"
   ]
  },
  {
   "cell_type": "markdown",
   "metadata": {},
   "source": [
    "#### Verify: the number of rows in fact table is correct."
   ]
  },
  {
   "cell_type": "markdown",
   "metadata": {},
   "source": [
    "\n",
    "\n",
    "\n",
    "\n",
    "# Part 3 Analysis"
   ]
  },
  {
   "cell_type": "markdown",
   "metadata": {},
   "source": [
    "### Part 3 Analysis Part A: date and time."
   ]
  },
  {
   "cell_type": "markdown",
   "metadata": {},
   "source": [
    "#### Number of collisions happen in different days in a week"
   ]
  },
  {
   "cell_type": "code",
   "execution_count": 53,
   "metadata": {},
   "outputs": [
    {
     "name": "stdout",
     "output_type": "stream",
     "text": [
      " * postgresql://student@/project4\n",
      "7 rows affected.\n"
     ]
    },
    {
     "data": {
      "text/html": [
       "<table>\n",
       "    <tr>\n",
       "        <th>day_week</th>\n",
       "        <th>count</th>\n",
       "    </tr>\n",
       "    <tr>\n",
       "        <td>Sunday   </td>\n",
       "        <td>46801</td>\n",
       "    </tr>\n",
       "    <tr>\n",
       "        <td>Saturday </td>\n",
       "        <td>52852</td>\n",
       "    </tr>\n",
       "    <tr>\n",
       "        <td>Monday   </td>\n",
       "        <td>57302</td>\n",
       "    </tr>\n",
       "    <tr>\n",
       "        <td>Wednesday</td>\n",
       "        <td>58847</td>\n",
       "    </tr>\n",
       "    <tr>\n",
       "        <td>Tuesday  </td>\n",
       "        <td>59209</td>\n",
       "    </tr>\n",
       "    <tr>\n",
       "        <td>Thursday </td>\n",
       "        <td>61440</td>\n",
       "    </tr>\n",
       "    <tr>\n",
       "        <td>Friday   </td>\n",
       "        <td>63907</td>\n",
       "    </tr>\n",
       "</table>"
      ],
      "text/plain": [
       "[('Sunday   ', 46801),\n",
       " ('Saturday ', 52852),\n",
       " ('Monday   ', 57302),\n",
       " ('Wednesday', 58847),\n",
       " ('Tuesday  ', 59209),\n",
       " ('Thursday ', 61440),\n",
       " ('Friday   ', 63907)]"
      ]
     },
     "execution_count": 53,
     "metadata": {},
     "output_type": "execute_result"
    }
   ],
   "source": [
    "%%sql\n",
    "SELECT day_week, COUNT(*) count\n",
    "FROM collision\n",
    "JOIN alltime\n",
    "  ON collision.alltime_key = alltime.alltime_key\n",
    "GROUP BY day_week\n",
    "ORDER BY count;"
   ]
  },
  {
   "cell_type": "code",
   "execution_count": 54,
   "metadata": {},
   "outputs": [],
   "source": [
    "%matplotlib inline"
   ]
  },
  {
   "cell_type": "code",
   "execution_count": 55,
   "metadata": {},
   "outputs": [
    {
     "data": {
      "text/plain": [
       "<BarContainer object of 7 artists>"
      ]
     },
     "execution_count": 55,
     "metadata": {},
     "output_type": "execute_result"
    },
    {
     "data": {
      "image/png": "[encoded data removed]",
      "text/plain": [
       "<Figure size 432x288 with 1 Axes>"
      ]
     },
     "metadata": {
      "needs_background": "light"
     },
     "output_type": "display_data"
    }
   ],
   "source": [
    "_.bar()"
   ]
  },
  {
   "cell_type": "markdown",
   "metadata": {},
   "source": [
    "#### From the bar graph and count numbers, we can see number of collisions happen on weekdays is higher than happen on weekends. This result is in our estimate. On weekdays, people are busy with work, school and other routines, so, the percentage of journeys by motor vehicles on weekdays have increased. As usual, people prefer to stay at home to enjoy their family time on weekends, accordingly, the percentage of journeys by motor vehicles on weekends is smaller than on weekdays. In this way, the collisions happend more on weekdays."
   ]
  },
  {
   "cell_type": "markdown",
   "metadata": {},
   "source": [
    "#### Number of collisions happen in every hour"
   ]
  },
  {
   "cell_type": "code",
   "execution_count": 56,
   "metadata": {},
   "outputs": [
    {
     "name": "stdout",
     "output_type": "stream",
     "text": [
      " * postgresql://student@/project4\n",
      "24 rows affected.\n"
     ]
    },
    {
     "data": {
      "text/html": [
       "<table>\n",
       "    <tr>\n",
       "        <th>hour</th>\n",
       "        <th>count</th>\n",
       "    </tr>\n",
       "    <tr>\n",
       "        <td>00</td>\n",
       "        <td>14247</td>\n",
       "    </tr>\n",
       "    <tr>\n",
       "        <td>01</td>\n",
       "        <td>6105</td>\n",
       "    </tr>\n",
       "    <tr>\n",
       "        <td>02</td>\n",
       "        <td>4514</td>\n",
       "    </tr>\n",
       "    <tr>\n",
       "        <td>03</td>\n",
       "        <td>4012</td>\n",
       "    </tr>\n",
       "    <tr>\n",
       "        <td>04</td>\n",
       "        <td>4692</td>\n",
       "    </tr>\n",
       "    <tr>\n",
       "        <td>05</td>\n",
       "        <td>5335</td>\n",
       "    </tr>\n",
       "    <tr>\n",
       "        <td>06</td>\n",
       "        <td>8760</td>\n",
       "    </tr>\n",
       "    <tr>\n",
       "        <td>07</td>\n",
       "        <td>12878</td>\n",
       "    </tr>\n",
       "    <tr>\n",
       "        <td>08</td>\n",
       "        <td>22358</td>\n",
       "    </tr>\n",
       "    <tr>\n",
       "        <td>09</td>\n",
       "        <td>21676</td>\n",
       "    </tr>\n",
       "    <tr>\n",
       "        <td>10</td>\n",
       "        <td>20040</td>\n",
       "    </tr>\n",
       "    <tr>\n",
       "        <td>11</td>\n",
       "        <td>20993</td>\n",
       "    </tr>\n",
       "    <tr>\n",
       "        <td>12</td>\n",
       "        <td>22300</td>\n",
       "    </tr>\n",
       "    <tr>\n",
       "        <td>13</td>\n",
       "        <td>23503</td>\n",
       "    </tr>\n",
       "    <tr>\n",
       "        <td>14</td>\n",
       "        <td>27450</td>\n",
       "    </tr>\n",
       "    <tr>\n",
       "        <td>15</td>\n",
       "        <td>26057</td>\n",
       "    </tr>\n",
       "    <tr>\n",
       "        <td>16</td>\n",
       "        <td>29561</td>\n",
       "    </tr>\n",
       "    <tr>\n",
       "        <td>17</td>\n",
       "        <td>28900</td>\n",
       "    </tr>\n",
       "    <tr>\n",
       "        <td>18</td>\n",
       "        <td>24611</td>\n",
       "    </tr>\n",
       "    <tr>\n",
       "        <td>19</td>\n",
       "        <td>19766</td>\n",
       "    </tr>\n",
       "    <tr>\n",
       "        <td>20</td>\n",
       "        <td>16050</td>\n",
       "    </tr>\n",
       "    <tr>\n",
       "        <td>21</td>\n",
       "        <td>13746</td>\n",
       "    </tr>\n",
       "    <tr>\n",
       "        <td>22</td>\n",
       "        <td>12572</td>\n",
       "    </tr>\n",
       "    <tr>\n",
       "        <td>23</td>\n",
       "        <td>10232</td>\n",
       "    </tr>\n",
       "</table>"
      ],
      "text/plain": [
       "[('00', 14247),\n",
       " ('01', 6105),\n",
       " ('02', 4514),\n",
       " ('03', 4012),\n",
       " ('04', 4692),\n",
       " ('05', 5335),\n",
       " ('06', 8760),\n",
       " ('07', 12878),\n",
       " ('08', 22358),\n",
       " ('09', 21676),\n",
       " ('10', 20040),\n",
       " ('11', 20993),\n",
       " ('12', 22300),\n",
       " ('13', 23503),\n",
       " ('14', 27450),\n",
       " ('15', 26057),\n",
       " ('16', 29561),\n",
       " ('17', 28900),\n",
       " ('18', 24611),\n",
       " ('19', 19766),\n",
       " ('20', 16050),\n",
       " ('21', 13746),\n",
       " ('22', 12572),\n",
       " ('23', 10232)]"
      ]
     },
     "execution_count": 56,
     "metadata": {},
     "output_type": "execute_result"
    }
   ],
   "source": [
    "%%sql\n",
    "SELECT hour, COUNT(*) count\n",
    "FROM collision\n",
    "JOIN alltime\n",
    "  ON collision.alltime_key = alltime.alltime_key\n",
    "GROUP BY hour\n",
    "ORDER BY hour;"
   ]
  },
  {
   "cell_type": "code",
   "execution_count": 57,
   "metadata": {},
   "outputs": [
    {
     "data": {
      "text/plain": [
       "<BarContainer object of 24 artists>"
      ]
     },
     "execution_count": 57,
     "metadata": {},
     "output_type": "execute_result"
    },
    {
     "data": {
      "image/png": "[encoded data removed]",
      "text/plain": [
       "<Figure size 432x288 with 1 Axes>"
      ]
     },
     "metadata": {
      "needs_background": "light"
     },
     "output_type": "display_data"
    }
   ],
   "source": [
    "_.bar()"
   ]
  },
  {
   "cell_type": "markdown",
   "metadata": {},
   "source": [
    "#### From the bar chart, we can see more collisions happen in rush hours or we can define the rush hour of New York City from this graph. There is a very much traffic from 7am to 7pm. We found at midnight, there are also much crashes happen. The reason why is this situation is after dinner party acitivies, people always have alcohol which may cause the drinking driving. Moreover, driviers are easy tired at midnight after a long-time driving. "
   ]
  },
  {
   "cell_type": "markdown",
   "metadata": {},
   "source": [
    "#### Number of collisions happen in each month"
   ]
  },
  {
   "cell_type": "code",
   "execution_count": 58,
   "metadata": {},
   "outputs": [
    {
     "name": "stdout",
     "output_type": "stream",
     "text": [
      " * postgresql://student@/project4\n",
      "12 rows affected.\n"
     ]
    },
    {
     "data": {
      "text/html": [
       "<table>\n",
       "    <tr>\n",
       "        <th>month_year</th>\n",
       "        <th>count</th>\n",
       "    </tr>\n",
       "    <tr>\n",
       "        <td>June     </td>\n",
       "        <td>39521</td>\n",
       "    </tr>\n",
       "    <tr>\n",
       "        <td>May      </td>\n",
       "        <td>39136</td>\n",
       "    </tr>\n",
       "    <tr>\n",
       "        <td>October  </td>\n",
       "        <td>37506</td>\n",
       "    </tr>\n",
       "    <tr>\n",
       "        <td>July     </td>\n",
       "        <td>36766</td>\n",
       "    </tr>\n",
       "    <tr>\n",
       "        <td>March    </td>\n",
       "        <td>36170</td>\n",
       "    </tr>\n",
       "    <tr>\n",
       "        <td>August   </td>\n",
       "        <td>35997</td>\n",
       "    </tr>\n",
       "    <tr>\n",
       "        <td>September</td>\n",
       "        <td>35885</td>\n",
       "    </tr>\n",
       "    <tr>\n",
       "        <td>April    </td>\n",
       "        <td>33609</td>\n",
       "    </tr>\n",
       "    <tr>\n",
       "        <td>January  </td>\n",
       "        <td>30974</td>\n",
       "    </tr>\n",
       "    <tr>\n",
       "        <td>February </td>\n",
       "        <td>29683</td>\n",
       "    </tr>\n",
       "    <tr>\n",
       "        <td>November </td>\n",
       "        <td>26678</td>\n",
       "    </tr>\n",
       "    <tr>\n",
       "        <td>December </td>\n",
       "        <td>18433</td>\n",
       "    </tr>\n",
       "</table>"
      ],
      "text/plain": [
       "[('June     ', 39521),\n",
       " ('May      ', 39136),\n",
       " ('October  ', 37506),\n",
       " ('July     ', 36766),\n",
       " ('March    ', 36170),\n",
       " ('August   ', 35997),\n",
       " ('September', 35885),\n",
       " ('April    ', 33609),\n",
       " ('January  ', 30974),\n",
       " ('February ', 29683),\n",
       " ('November ', 26678),\n",
       " ('December ', 18433)]"
      ]
     },
     "execution_count": 58,
     "metadata": {},
     "output_type": "execute_result"
    }
   ],
   "source": [
    "%%sql\n",
    "SELECT month_year, COUNT(*) count\n",
    "FROM collision\n",
    "JOIN alltime\n",
    "  ON collision.alltime_key = alltime.alltime_key\n",
    "GROUP BY month_year\n",
    "ORDER BY count(*) DESC;"
   ]
  },
  {
   "cell_type": "code",
   "execution_count": 59,
   "metadata": {},
   "outputs": [
    {
     "data": {
      "text/plain": [
       "<BarContainer object of 12 artists>"
      ]
     },
     "execution_count": 59,
     "metadata": {},
     "output_type": "execute_result"
    },
    {
     "data": {
      "image/png": "[encoded data removed]",
      "text/plain": [
       "<Figure size 432x288 with 1 Axes>"
      ]
     },
     "metadata": {
      "needs_background": "light"
     },
     "output_type": "display_data"
    }
   ],
   "source": [
    "_.bar()"
   ]
  },
  {
   "cell_type": "markdown",
   "metadata": {},
   "source": [
    "#### Before we analyze this dataset, we thought there might be little difference on number of collisions happen between different months. Based on what I found in count number, we are surprised about the result because there are less collisions happen in winter, such as December, November, February and January. In our previous thoughts, because of slippery or iced ground, there should be more crashes. So, we thought about this situation and get our own conclusion about it: because there are many holidays in winter and cold weather, people prefer to stay at home to enjoy their hoildays. And even if they need to drive, they will pay attention to drive on slippery groud. "
   ]
  },
  {
   "cell_type": "markdown",
   "metadata": {},
   "source": [
    "#### Number of people injured in collisions in each day of a week "
   ]
  },
  {
   "cell_type": "code",
   "execution_count": 60,
   "metadata": {},
   "outputs": [
    {
     "name": "stdout",
     "output_type": "stream",
     "text": [
      " * postgresql://student@/project4\n",
      "7 rows affected.\n"
     ]
    },
    {
     "data": {
      "text/html": [
       "<table>\n",
       "    <tr>\n",
       "        <th>day_week</th>\n",
       "        <th>sum</th>\n",
       "    </tr>\n",
       "    <tr>\n",
       "        <td>Friday   </td>\n",
       "        <td>16257</td>\n",
       "    </tr>\n",
       "    <tr>\n",
       "        <td>Thursday </td>\n",
       "        <td>15695</td>\n",
       "    </tr>\n",
       "    <tr>\n",
       "        <td>Tuesday  </td>\n",
       "        <td>15145</td>\n",
       "    </tr>\n",
       "    <tr>\n",
       "        <td>Saturday </td>\n",
       "        <td>15018</td>\n",
       "    </tr>\n",
       "    <tr>\n",
       "        <td>Wednesday</td>\n",
       "        <td>14944</td>\n",
       "    </tr>\n",
       "    <tr>\n",
       "        <td>Monday   </td>\n",
       "        <td>14745</td>\n",
       "    </tr>\n",
       "    <tr>\n",
       "        <td>Sunday   </td>\n",
       "        <td>14205</td>\n",
       "    </tr>\n",
       "</table>"
      ],
      "text/plain": [
       "[('Friday   ', 16257),\n",
       " ('Thursday ', 15695),\n",
       " ('Tuesday  ', 15145),\n",
       " ('Saturday ', 15018),\n",
       " ('Wednesday', 14944),\n",
       " ('Monday   ', 14745),\n",
       " ('Sunday   ', 14205)]"
      ]
     },
     "execution_count": 60,
     "metadata": {},
     "output_type": "execute_result"
    }
   ],
   "source": [
    "%%sql\n",
    "SELECT day_week, SUM(persons_injured)\n",
    "FROM collision\n",
    "JOIN alltime\n",
    "  ON collision.alltime_key = alltime.alltime_key\n",
    "GROUP BY day_week\n",
    "ORDER BY SUM(persons_injured) DESC;"
   ]
  },
  {
   "cell_type": "code",
   "execution_count": 61,
   "metadata": {},
   "outputs": [
    {
     "data": {
      "image/png": "[encoded data removed]",
      "text/plain": [
       "<Figure size 432x648 with 1 Axes>"
      ]
     },
     "metadata": {},
     "output_type": "display_data"
    }
   ],
   "source": [
    "import matplotlib.pyplot as plt\n",
    "plt.figure(figsize=(6,9))\n",
    "labels = ['Monday','Tuesday','Wednesday','Thursday','Friday','Saturday','Sunday'] \n",
    "sizes = [14745,15145,14944,15695,16257,15018,14205] \n",
    "colors = ['red','yellow','green','lightskyblue','purple','blue','pink'] \n",
    "patches,text1,text2 = plt.pie(sizes,\n",
    "                      labels=labels,\n",
    "                      colors=colors,\n",
    "                      autopct = '%3.2f%%',\n",
    "                      shadow = False,\n",
    "                      startangle =90, \n",
    "                      pctdistance = 0.6) \n",
    "plt.axis('equal')\n",
    "plt.title(\"Number of people injured in collisions in each day of a week\")\n",
    "plt.show()"
   ]
  },
  {
   "cell_type": "markdown",
   "metadata": {},
   "source": [
    "#### The number of people injured in a car accident every day during the week is relatively average. Only the number of people injured on Fridays is much higher. We suspect that the reason may be that Friday is the day before weekend, people have a large amount of travel, there are many vehicles, and it is prone to accidents, causing people to be injured."
   ]
  },
  {
   "cell_type": "markdown",
   "metadata": {},
   "source": [
    "#### Number of people injured in collisions in each hour of a day"
   ]
  },
  {
   "cell_type": "code",
   "execution_count": 62,
   "metadata": {},
   "outputs": [
    {
     "name": "stdout",
     "output_type": "stream",
     "text": [
      " * postgresql://student@/project4\n",
      "24 rows affected.\n"
     ]
    },
    {
     "data": {
      "text/html": [
       "<table>\n",
       "    <tr>\n",
       "        <th>hour</th>\n",
       "        <th>sum</th>\n",
       "    </tr>\n",
       "    <tr>\n",
       "        <td>00</td>\n",
       "        <td>4282</td>\n",
       "    </tr>\n",
       "    <tr>\n",
       "        <td>01</td>\n",
       "        <td>1939</td>\n",
       "    </tr>\n",
       "    <tr>\n",
       "        <td>02</td>\n",
       "        <td>1438</td>\n",
       "    </tr>\n",
       "    <tr>\n",
       "        <td>03</td>\n",
       "        <td>1453</td>\n",
       "    </tr>\n",
       "    <tr>\n",
       "        <td>04</td>\n",
       "        <td>1758</td>\n",
       "    </tr>\n",
       "    <tr>\n",
       "        <td>05</td>\n",
       "        <td>1662</td>\n",
       "    </tr>\n",
       "    <tr>\n",
       "        <td>06</td>\n",
       "        <td>2480</td>\n",
       "    </tr>\n",
       "    <tr>\n",
       "        <td>07</td>\n",
       "        <td>3395</td>\n",
       "    </tr>\n",
       "    <tr>\n",
       "        <td>08</td>\n",
       "        <td>5348</td>\n",
       "    </tr>\n",
       "    <tr>\n",
       "        <td>09</td>\n",
       "        <td>4769</td>\n",
       "    </tr>\n",
       "    <tr>\n",
       "        <td>10</td>\n",
       "        <td>4049</td>\n",
       "    </tr>\n",
       "    <tr>\n",
       "        <td>11</td>\n",
       "        <td>4407</td>\n",
       "    </tr>\n",
       "    <tr>\n",
       "        <td>12</td>\n",
       "        <td>4956</td>\n",
       "    </tr>\n",
       "    <tr>\n",
       "        <td>13</td>\n",
       "        <td>5370</td>\n",
       "    </tr>\n",
       "    <tr>\n",
       "        <td>14</td>\n",
       "        <td>6507</td>\n",
       "    </tr>\n",
       "    <tr>\n",
       "        <td>15</td>\n",
       "        <td>6935</td>\n",
       "    </tr>\n",
       "    <tr>\n",
       "        <td>16</td>\n",
       "        <td>7105</td>\n",
       "    </tr>\n",
       "    <tr>\n",
       "        <td>17</td>\n",
       "        <td>7355</td>\n",
       "    </tr>\n",
       "    <tr>\n",
       "        <td>18</td>\n",
       "        <td>6795</td>\n",
       "    </tr>\n",
       "    <tr>\n",
       "        <td>19</td>\n",
       "        <td>5935</td>\n",
       "    </tr>\n",
       "    <tr>\n",
       "        <td>20</td>\n",
       "        <td>5089</td>\n",
       "    </tr>\n",
       "    <tr>\n",
       "        <td>21</td>\n",
       "        <td>4751</td>\n",
       "    </tr>\n",
       "    <tr>\n",
       "        <td>22</td>\n",
       "        <td>4450</td>\n",
       "    </tr>\n",
       "    <tr>\n",
       "        <td>23</td>\n",
       "        <td>3781</td>\n",
       "    </tr>\n",
       "</table>"
      ],
      "text/plain": [
       "[('00', 4282),\n",
       " ('01', 1939),\n",
       " ('02', 1438),\n",
       " ('03', 1453),\n",
       " ('04', 1758),\n",
       " ('05', 1662),\n",
       " ('06', 2480),\n",
       " ('07', 3395),\n",
       " ('08', 5348),\n",
       " ('09', 4769),\n",
       " ('10', 4049),\n",
       " ('11', 4407),\n",
       " ('12', 4956),\n",
       " ('13', 5370),\n",
       " ('14', 6507),\n",
       " ('15', 6935),\n",
       " ('16', 7105),\n",
       " ('17', 7355),\n",
       " ('18', 6795),\n",
       " ('19', 5935),\n",
       " ('20', 5089),\n",
       " ('21', 4751),\n",
       " ('22', 4450),\n",
       " ('23', 3781)]"
      ]
     },
     "execution_count": 62,
     "metadata": {},
     "output_type": "execute_result"
    }
   ],
   "source": [
    "%%sql\n",
    "SELECT hour, SUM(persons_injured)\n",
    "FROM collision\n",
    "JOIN alltime\n",
    "  ON collision.alltime_key = alltime.alltime_key\n",
    "GROUP BY hour\n",
    "ORDER BY hour;"
   ]
  },
  {
   "cell_type": "code",
   "execution_count": 63,
   "metadata": {},
   "outputs": [
    {
     "data": {
      "image/png": "[encoded data removed]",
      "text/plain": [
       "<Figure size 432x288 with 1 Axes>"
      ]
     },
     "metadata": {
      "needs_background": "light"
     },
     "output_type": "display_data"
    }
   ],
   "source": [
    "import matplotlib.pyplot as plt\n",
    "import numpy as np\n",
    "plt.xlabel('Hour')\n",
    "plt.ylabel('Number of people injured') \n",
    "x = [\"00\",\"01\",\"02\",\"03\",\"04\",\"05\",\"06\",\"07\",\"08\",\"09\",\"10\",\"11\",\"12\",\"13\",\"14\",\"15\",\"16\",\"17\",\"18\",\"19\",\"20\",\"21\",\"22\",\"23\"]\n",
    "y = [4282,1939,1438,1453,1758,1662,2480,3395,5348,4769,4049,4407,4956,5370,6507,6935,7105,7355,6795,5935,5089,4751,4450,3781]\n",
    "plt.plot(x,y)\n",
    "plt.grid()"
   ]
  },
  {
   "cell_type": "markdown",
   "metadata": {},
   "source": [
    "#### From this line chart, we can see at 8am and 5pm and midnight are three peak values. There are more people injured in collisions at morning rush hour and evening rush hour, which is positively related to the number of accidents occurring per hour. Moreover, as for midnight, because of dark night, sometimes people can't realize some motor vehicles when they walk on the streets."
   ]
  },
  {
   "cell_type": "markdown",
   "metadata": {},
   "source": [
    "#### Number of people killed in collisions in each hour of a day"
   ]
  },
  {
   "cell_type": "code",
   "execution_count": 64,
   "metadata": {},
   "outputs": [
    {
     "name": "stdout",
     "output_type": "stream",
     "text": [
      " * postgresql://student@/project4\n",
      "24 rows affected.\n"
     ]
    },
    {
     "data": {
      "text/html": [
       "<table>\n",
       "    <tr>\n",
       "        <th>hour</th>\n",
       "        <th>sum</th>\n",
       "    </tr>\n",
       "    <tr>\n",
       "        <td>00</td>\n",
       "        <td>20</td>\n",
       "    </tr>\n",
       "    <tr>\n",
       "        <td>01</td>\n",
       "        <td>12</td>\n",
       "    </tr>\n",
       "    <tr>\n",
       "        <td>02</td>\n",
       "        <td>15</td>\n",
       "    </tr>\n",
       "    <tr>\n",
       "        <td>03</td>\n",
       "        <td>20</td>\n",
       "    </tr>\n",
       "    <tr>\n",
       "        <td>04</td>\n",
       "        <td>24</td>\n",
       "    </tr>\n",
       "    <tr>\n",
       "        <td>05</td>\n",
       "        <td>15</td>\n",
       "    </tr>\n",
       "    <tr>\n",
       "        <td>06</td>\n",
       "        <td>18</td>\n",
       "    </tr>\n",
       "    <tr>\n",
       "        <td>07</td>\n",
       "        <td>13</td>\n",
       "    </tr>\n",
       "    <tr>\n",
       "        <td>08</td>\n",
       "        <td>7</td>\n",
       "    </tr>\n",
       "    <tr>\n",
       "        <td>09</td>\n",
       "        <td>9</td>\n",
       "    </tr>\n",
       "    <tr>\n",
       "        <td>10</td>\n",
       "        <td>14</td>\n",
       "    </tr>\n",
       "    <tr>\n",
       "        <td>11</td>\n",
       "        <td>10</td>\n",
       "    </tr>\n",
       "    <tr>\n",
       "        <td>12</td>\n",
       "        <td>14</td>\n",
       "    </tr>\n",
       "    <tr>\n",
       "        <td>13</td>\n",
       "        <td>10</td>\n",
       "    </tr>\n",
       "    <tr>\n",
       "        <td>14</td>\n",
       "        <td>20</td>\n",
       "    </tr>\n",
       "    <tr>\n",
       "        <td>15</td>\n",
       "        <td>24</td>\n",
       "    </tr>\n",
       "    <tr>\n",
       "        <td>16</td>\n",
       "        <td>23</td>\n",
       "    </tr>\n",
       "    <tr>\n",
       "        <td>17</td>\n",
       "        <td>15</td>\n",
       "    </tr>\n",
       "    <tr>\n",
       "        <td>18</td>\n",
       "        <td>19</td>\n",
       "    </tr>\n",
       "    <tr>\n",
       "        <td>19</td>\n",
       "        <td>15</td>\n",
       "    </tr>\n",
       "    <tr>\n",
       "        <td>20</td>\n",
       "        <td>21</td>\n",
       "    </tr>\n",
       "    <tr>\n",
       "        <td>21</td>\n",
       "        <td>23</td>\n",
       "    </tr>\n",
       "    <tr>\n",
       "        <td>22</td>\n",
       "        <td>22</td>\n",
       "    </tr>\n",
       "    <tr>\n",
       "        <td>23</td>\n",
       "        <td>19</td>\n",
       "    </tr>\n",
       "</table>"
      ],
      "text/plain": [
       "[('00', 20),\n",
       " ('01', 12),\n",
       " ('02', 15),\n",
       " ('03', 20),\n",
       " ('04', 24),\n",
       " ('05', 15),\n",
       " ('06', 18),\n",
       " ('07', 13),\n",
       " ('08', 7),\n",
       " ('09', 9),\n",
       " ('10', 14),\n",
       " ('11', 10),\n",
       " ('12', 14),\n",
       " ('13', 10),\n",
       " ('14', 20),\n",
       " ('15', 24),\n",
       " ('16', 23),\n",
       " ('17', 15),\n",
       " ('18', 19),\n",
       " ('19', 15),\n",
       " ('20', 21),\n",
       " ('21', 23),\n",
       " ('22', 22),\n",
       " ('23', 19)]"
      ]
     },
     "execution_count": 64,
     "metadata": {},
     "output_type": "execute_result"
    }
   ],
   "source": [
    "%%sql\n",
    "SELECT hour, SUM(persons_killed)\n",
    "FROM collision\n",
    "JOIN alltime\n",
    "  ON collision.alltime_key = alltime.alltime_key\n",
    "GROUP BY hour\n",
    "ORDER BY hour;"
   ]
  },
  {
   "cell_type": "code",
   "execution_count": 65,
   "metadata": {},
   "outputs": [
    {
     "data": {
      "image/png": "[encoded data removed]",
      "text/plain": [
       "<Figure size 432x288 with 1 Axes>"
      ]
     },
     "metadata": {
      "needs_background": "light"
     },
     "output_type": "display_data"
    }
   ],
   "source": [
    "import matplotlib.pyplot as plt\n",
    "plt.xlabel('Hour')\n",
    "plt.ylabel('Number of people killed') \n",
    "x = [\"00\",\"01\",\"02\",\"03\",\"04\",\"05\",\"06\",\"07\",\"08\",\"09\",\"10\",\"11\",\"12\",\"13\",\"14\",\"15\",\"16\",\"17\",\"18\",\"19\",\"20\",\"21\",\"22\",\"23\"]\n",
    "y = [20,12,15,20,24,15,13,18,7,9,14,10,14,10,20,24,23,15,19,15,21,23,22,19]\n",
    "plt.plot(x,y)\n",
    "plt.grid()"
   ]
  },
  {
   "cell_type": "markdown",
   "metadata": {},
   "source": [
    "#### Comparing with the line chart of number of people injured in collision, this graph is totally different. In our estimate, the peak values should also at the rush hour because of large traffic. However, in this line chart, the peak values are out of morning and evening rush hour. We thought because people who need to go to work drive carefully in rush hour and they don't want collisions to hander them. So the number of people killed in collision happen at 8am and 5 to 7 pm are lower than other."
   ]
  },
  {
   "cell_type": "markdown",
   "metadata": {},
   "source": [
    "#### Number of people killed in collisions in each day of a week"
   ]
  },
  {
   "cell_type": "code",
   "execution_count": 66,
   "metadata": {},
   "outputs": [
    {
     "name": "stdout",
     "output_type": "stream",
     "text": [
      " * postgresql://student@/project4\n",
      "7 rows affected.\n"
     ]
    },
    {
     "data": {
      "text/html": [
       "<table>\n",
       "    <tr>\n",
       "        <th>day_week</th>\n",
       "        <th>sum</th>\n",
       "    </tr>\n",
       "    <tr>\n",
       "        <td>Saturday </td>\n",
       "        <td>68</td>\n",
       "    </tr>\n",
       "    <tr>\n",
       "        <td>Sunday   </td>\n",
       "        <td>68</td>\n",
       "    </tr>\n",
       "    <tr>\n",
       "        <td>Monday   </td>\n",
       "        <td>61</td>\n",
       "    </tr>\n",
       "    <tr>\n",
       "        <td>Tuesday  </td>\n",
       "        <td>57</td>\n",
       "    </tr>\n",
       "    <tr>\n",
       "        <td>Thursday </td>\n",
       "        <td>54</td>\n",
       "    </tr>\n",
       "    <tr>\n",
       "        <td>Friday   </td>\n",
       "        <td>53</td>\n",
       "    </tr>\n",
       "    <tr>\n",
       "        <td>Wednesday</td>\n",
       "        <td>41</td>\n",
       "    </tr>\n",
       "</table>"
      ],
      "text/plain": [
       "[('Saturday ', 68),\n",
       " ('Sunday   ', 68),\n",
       " ('Monday   ', 61),\n",
       " ('Tuesday  ', 57),\n",
       " ('Thursday ', 54),\n",
       " ('Friday   ', 53),\n",
       " ('Wednesday', 41)]"
      ]
     },
     "execution_count": 66,
     "metadata": {},
     "output_type": "execute_result"
    }
   ],
   "source": [
    "%%sql\n",
    "SELECT day_week, SUM(persons_killed)\n",
    "FROM collision\n",
    "JOIN alltime\n",
    "  ON collision.alltime_key = alltime.alltime_key\n",
    "GROUP BY day_week\n",
    "ORDER BY SUM(persons_killed) DESC;"
   ]
  },
  {
   "cell_type": "code",
   "execution_count": 67,
   "metadata": {},
   "outputs": [
    {
     "data": {
      "image/png": "[encoded data removed]",
      "text/plain": [
       "<Figure size 432x648 with 1 Axes>"
      ]
     },
     "metadata": {},
     "output_type": "display_data"
    }
   ],
   "source": [
    "import matplotlib.pyplot as plt\n",
    "plt.figure(figsize=(6,9))\n",
    "labels = ['Monday','Tuesday','Wednesday','Thursday','Friday','Saturday','Sunday'] \n",
    "sizes = [61,57,41,54,53,68,68] \n",
    "colors = ['red','yellow','green','lightskyblue','purple','blue','pink'] \n",
    "patches,text1,text2 = plt.pie(sizes,\n",
    "                      labels=labels,\n",
    "                      colors=colors,\n",
    "                      autopct = '%3.2f%%',\n",
    "                      shadow = False,\n",
    "                      startangle =90, \n",
    "                      pctdistance = 0.6) \n",
    "plt.axis('equal')\n",
    "plt.title(\"Number of people killed in collisions in each day of a week\")\n",
    "plt.show()"
   ]
  },
  {
   "cell_type": "markdown",
   "metadata": {},
   "source": [
    "#### Number of people killed in collisions happen on weekend is higher than other days in a week "
   ]
  },
  {
   "cell_type": "markdown",
   "metadata": {},
   "source": [
    "### Part 3 Analysis Part B: location."
   ]
  },
  {
   "cell_type": "markdown",
   "metadata": {},
   "source": [
    "#### Here is a map by borough for this part."
   ]
  },
  {
   "cell_type": "code",
   "execution_count": 58,
   "metadata": {},
   "outputs": [
    {
     "data": {
      "text/html": [
       "<img src=\"https://raw.githubusercontent.com/yzhao84/123/master/borough.png\"/>"
      ],
      "text/plain": [
       "<IPython.core.display.Image object>"
      ]
     },
     "execution_count": 58,
     "metadata": {},
     "output_type": "execute_result"
    }
   ],
   "source": [
    "from IPython.display import Image \n",
    "Image(url=\"https://raw.githubusercontent.com/yzhao84/123/master/borough.png\")"
   ]
  },
  {
   "cell_type": "code",
   "execution_count": 44,
   "metadata": {},
   "outputs": [],
   "source": [
    "import matplotlib.pyplot as plt\n",
    "import numpy as np"
   ]
  },
  {
   "cell_type": "markdown",
   "metadata": {},
   "source": [
    "#### 1) Which is the borough where most collisions happen and where most deaths/injuries occur?"
   ]
  },
  {
   "cell_type": "code",
   "execution_count": 45,
   "metadata": {},
   "outputs": [
    {
     "name": "stdout",
     "output_type": "stream",
     "text": [
      " * postgresql://student@/project4\n",
      "5 rows affected.\n"
     ]
    },
    {
     "data": {
      "text/html": [
       "<table>\n",
       "    <tr>\n",
       "        <th>borough</th>\n",
       "        <th>collision_count</th>\n",
       "    </tr>\n",
       "    <tr>\n",
       "        <td>BROOKLYN</td>\n",
       "        <td>83800</td>\n",
       "    </tr>\n",
       "    <tr>\n",
       "        <td>QUEENS</td>\n",
       "        <td>72038</td>\n",
       "    </tr>\n",
       "    <tr>\n",
       "        <td>MANHATTAN</td>\n",
       "        <td>55858</td>\n",
       "    </tr>\n",
       "    <tr>\n",
       "        <td>BRONX</td>\n",
       "        <td>39466</td>\n",
       "    </tr>\n",
       "    <tr>\n",
       "        <td>STATEN ISLAND</td>\n",
       "        <td>11183</td>\n",
       "    </tr>\n",
       "</table>"
      ],
      "text/plain": [
       "[('BROOKLYN', 83800),\n",
       " ('QUEENS', 72038),\n",
       " ('MANHATTAN', 55858),\n",
       " ('BRONX', 39466),\n",
       " ('STATEN ISLAND', 11183)]"
      ]
     },
     "execution_count": 45,
     "metadata": {},
     "output_type": "execute_result"
    }
   ],
   "source": [
    "%%sql\n",
    "SELECT borough, COUNT(*) AS collision_count\n",
    "FROM collision \n",
    "JOIN location\n",
    "  ON collision.location_key = location.location_key\n",
    "WHERE borough NOT IN ('MISS')\n",
    "GROUP BY borough\n",
    "ORDER BY count(*) DESC;"
   ]
  },
  {
   "cell_type": "code",
   "execution_count": 46,
   "metadata": {},
   "outputs": [
    {
     "data": {
      "image/png": "[encoded data removed]",
      "text/plain": [
       "<Figure size 432x288 with 1 Axes>"
      ]
     },
     "metadata": {
      "needs_background": "light"
     },
     "output_type": "display_data"
    }
   ],
   "source": [
    "#data\n",
    "labels = 'Brooklyn','Queens','Manhattan','Bronx','Staten Island'\n",
    "sizes = [83800,72038,55858,39466,11183]\n",
    "y_pos = np.arange(len(labels))\n",
    "\n",
    "#plot\n",
    "plt.bar(y_pos, sizes, align='center', color = 'dodgerblue',alpha=0.8)\n",
    "plt.xticks(y_pos, labels)\n",
    "plt.ylabel('Number of accidents')\n",
    "plt.title('Road accidents in NYC borough during 2017 and 2018')\n",
    " \n",
    "plt.show()"
   ]
  },
  {
   "cell_type": "code",
   "execution_count": 47,
   "metadata": {},
   "outputs": [
    {
     "name": "stdout",
     "output_type": "stream",
     "text": [
      " * postgresql://student@/project4\n",
      "5 rows affected.\n"
     ]
    },
    {
     "data": {
      "text/html": [
       "<table>\n",
       "    <tr>\n",
       "        <th>borough</th>\n",
       "        <th>count_injured</th>\n",
       "        <th>count_killed</th>\n",
       "    </tr>\n",
       "    <tr>\n",
       "        <td>BROOKLYN</td>\n",
       "        <td>22875</td>\n",
       "        <td>68</td>\n",
       "    </tr>\n",
       "    <tr>\n",
       "        <td>QUEENS</td>\n",
       "        <td>18841</td>\n",
       "        <td>77</td>\n",
       "    </tr>\n",
       "    <tr>\n",
       "        <td>BRONX</td>\n",
       "        <td>10691</td>\n",
       "        <td>32</td>\n",
       "    </tr>\n",
       "    <tr>\n",
       "        <td>MANHATTAN</td>\n",
       "        <td>9894</td>\n",
       "        <td>41</td>\n",
       "    </tr>\n",
       "    <tr>\n",
       "        <td>STATEN ISLAND</td>\n",
       "        <td>2633</td>\n",
       "        <td>13</td>\n",
       "    </tr>\n",
       "</table>"
      ],
      "text/plain": [
       "[('BROOKLYN', 22875, 68),\n",
       " ('QUEENS', 18841, 77),\n",
       " ('BRONX', 10691, 32),\n",
       " ('MANHATTAN', 9894, 41),\n",
       " ('STATEN ISLAND', 2633, 13)]"
      ]
     },
     "execution_count": 47,
     "metadata": {},
     "output_type": "execute_result"
    }
   ],
   "source": [
    "%%sql\n",
    "SELECT borough, SUM(Persons_Injured) as count_injured, SUM(Persons_Killed) as count_killed\n",
    "FROM collision \n",
    "JOIN location\n",
    "  ON collision.location_key = location.location_key\n",
    "WHERE borough NOT IN ('MISS')\n",
    "GROUP BY borough\n",
    "ORDER BY SUM(Persons_Injured) DESC;"
   ]
  },
  {
   "cell_type": "code",
   "execution_count": 48,
   "metadata": {},
   "outputs": [
    {
     "data": {
      "image/png": "[encoded data removed]",
      "text/plain": [
       "<Figure size 792x360 with 2 Axes>"
      ]
     },
     "metadata": {
      "needs_background": "light"
     },
     "output_type": "display_data"
    }
   ],
   "source": [
    "# data\n",
    "n_groups = 5\n",
    "count_injured = (18841,22875, 10691, 9894, 2633)\n",
    "count_killed = (77, 68,32, 41, 13)\n",
    "fig, ax1 = plt.subplots(figsize=(11,5))\n",
    "index = np.arange(n_groups)\n",
    "bar_width = 0.35\n",
    "\n",
    "#bar chart of number injured\n",
    "graph1 = ax1.bar(index, count_injured, bar_width, color='b', alpha=0.7, label='Number injured')\n",
    "ax1.legend(loc=(1.15,0.8))\n",
    "plt.ylim(0,25000)\n",
    "\n",
    "#set secondary axis\n",
    "ax2 = ax1.twinx()\n",
    "#bar chart of number killed\n",
    "graph2 = ax2.bar(index + bar_width, count_killed, bar_width, alpha = 0.6, color='r', label='Number killed')\n",
    "\n",
    "# Make the y-axis labels match the color of the bar graphs\n",
    "ax1.tick_params('y', colors='b')\n",
    "ax2.tick_params('y', colors='r')\n",
    "\n",
    "plt.xlabel('Borough')\n",
    "plt.title('Traffic accident victims by borough (2017-2018)')\n",
    "plt.xticks(index + bar_width, ('Queens', 'Brooklyn', 'Manhattan', 'Bronx','Staten Island'))\n",
    "plt.legend(loc=(1.15,0.74))\n",
    "\n",
    "fig.tight_layout()\n",
    "plt.show()\n"
   ]
  },
  {
   "cell_type": "code",
   "execution_count": 49,
   "metadata": {},
   "outputs": [
    {
     "name": "stdout",
     "output_type": "stream",
     "text": [
      " * postgresql://student@/project4\n",
      "5 rows affected.\n"
     ]
    },
    {
     "data": {
      "text/html": [
       "<table>\n",
       "    <tr>\n",
       "        <th>borough</th>\n",
       "        <th>count_killed</th>\n",
       "        <th>count_injured</th>\n",
       "    </tr>\n",
       "    <tr>\n",
       "        <td>QUEENS</td>\n",
       "        <td>77</td>\n",
       "        <td>18841</td>\n",
       "    </tr>\n",
       "    <tr>\n",
       "        <td>BROOKLYN</td>\n",
       "        <td>68</td>\n",
       "        <td>22875</td>\n",
       "    </tr>\n",
       "    <tr>\n",
       "        <td>MANHATTAN</td>\n",
       "        <td>41</td>\n",
       "        <td>9894</td>\n",
       "    </tr>\n",
       "    <tr>\n",
       "        <td>BRONX</td>\n",
       "        <td>32</td>\n",
       "        <td>10691</td>\n",
       "    </tr>\n",
       "    <tr>\n",
       "        <td>STATEN ISLAND</td>\n",
       "        <td>13</td>\n",
       "        <td>2633</td>\n",
       "    </tr>\n",
       "</table>"
      ],
      "text/plain": [
       "[('QUEENS', 77, 18841),\n",
       " ('BROOKLYN', 68, 22875),\n",
       " ('MANHATTAN', 41, 9894),\n",
       " ('BRONX', 32, 10691),\n",
       " ('STATEN ISLAND', 13, 2633)]"
      ]
     },
     "execution_count": 49,
     "metadata": {},
     "output_type": "execute_result"
    }
   ],
   "source": [
    "%%sql\n",
    "SELECT borough, SUM(Persons_Killed) as count_killed, SUM(Persons_Injured) as count_injured\n",
    "FROM collision \n",
    "JOIN location\n",
    "  ON collision.location_key = location.location_key\n",
    "WHERE borough NOT IN ('MISS')\n",
    "GROUP BY borough\n",
    "ORDER BY SUM(Persons_Killed) DESC;"
   ]
  },
  {
   "cell_type": "markdown",
   "metadata": {},
   "source": [
    "#### It looks like most collisions happen in Brooklyn and Queens. Most injuries are also in Brooklyn, but the death toll is highest in Queens."
   ]
  },
  {
   "cell_type": "markdown",
   "metadata": {},
   "source": [
    "#### 2) Which is the zipcode where most collisions occur and where most deaths/injuries occur?"
   ]
  },
  {
   "cell_type": "code",
   "execution_count": 50,
   "metadata": {},
   "outputs": [
    {
     "name": "stdout",
     "output_type": "stream",
     "text": [
      " * postgresql://student@/project4\n",
      "10 rows affected.\n"
     ]
    },
    {
     "data": {
      "text/html": [
       "<table>\n",
       "    <tr>\n",
       "        <th>zipcode</th>\n",
       "        <th>collision_count</th>\n",
       "    </tr>\n",
       "    <tr>\n",
       "        <td>11207</td>\n",
       "        <td>4628</td>\n",
       "    </tr>\n",
       "    <tr>\n",
       "        <td>11236</td>\n",
       "        <td>3703</td>\n",
       "    </tr>\n",
       "    <tr>\n",
       "        <td>11234</td>\n",
       "        <td>3595</td>\n",
       "    </tr>\n",
       "    <tr>\n",
       "        <td>11101</td>\n",
       "        <td>3426</td>\n",
       "    </tr>\n",
       "    <tr>\n",
       "        <td>11226</td>\n",
       "        <td>3413</td>\n",
       "    </tr>\n",
       "    <tr>\n",
       "        <td>11203</td>\n",
       "        <td>3395</td>\n",
       "    </tr>\n",
       "    <tr>\n",
       "        <td>11385</td>\n",
       "        <td>3342</td>\n",
       "    </tr>\n",
       "    <tr>\n",
       "        <td>11212</td>\n",
       "        <td>3167</td>\n",
       "    </tr>\n",
       "    <tr>\n",
       "        <td>11434</td>\n",
       "        <td>3058</td>\n",
       "    </tr>\n",
       "    <tr>\n",
       "        <td>10001</td>\n",
       "        <td>3018</td>\n",
       "    </tr>\n",
       "</table>"
      ],
      "text/plain": [
       "[('11207', 4628),\n",
       " ('11236', 3703),\n",
       " ('11234', 3595),\n",
       " ('11101', 3426),\n",
       " ('11226', 3413),\n",
       " ('11203', 3395),\n",
       " ('11385', 3342),\n",
       " ('11212', 3167),\n",
       " ('11434', 3058),\n",
       " ('10001', 3018)]"
      ]
     },
     "execution_count": 50,
     "metadata": {},
     "output_type": "execute_result"
    }
   ],
   "source": [
    "%%sql\n",
    "SELECT Zipcode, COUNT(*) AS collision_count\n",
    "FROM collision \n",
    "JOIN location\n",
    "  ON collision.location_key = location.location_key\n",
    "WHERE Zipcode NOT IN ('0')\n",
    "GROUP BY Zipcode\n",
    "ORDER BY count(*) DESC\n",
    "LIMIT 10;"
   ]
  },
  {
   "cell_type": "code",
   "execution_count": 51,
   "metadata": {},
   "outputs": [
    {
     "data": {
      "image/png": "[encoded data removed]",
      "text/plain": [
       "<Figure size 720x360 with 1 Axes>"
      ]
     },
     "metadata": {
      "needs_background": "light"
     },
     "output_type": "display_data"
    }
   ],
   "source": [
    "#data\n",
    "labels = '11207','11236','11234','11101','11226','11203','11385','11212','11434','10001'\n",
    "sizes = [4628,3703,3595,3426,3413,3395,3342,3167,3058,3018]\n",
    "y_pos = np.arange(len(labels))\n",
    "\n",
    "#plot\n",
    "plt.figure(figsize=(10,5))\n",
    "plt.bar(y_pos, sizes, align='center', width = 0.5, color = 'dodgerblue',alpha=0.8)\n",
    "plt.xticks(y_pos, labels)\n",
    "plt.tick_params(axis='x', which='major', labelsize='medium')\n",
    "plt.ylabel('Number of accidents')\n",
    "plt.title('Road accidents in top 10 NYC zipcodes during 2017 and 2018')\n",
    "\n",
    "plt.show()"
   ]
  },
  {
   "cell_type": "code",
   "execution_count": 52,
   "metadata": {},
   "outputs": [
    {
     "name": "stdout",
     "output_type": "stream",
     "text": [
      " * postgresql://student@/project4\n",
      "10 rows affected.\n"
     ]
    },
    {
     "data": {
      "text/html": [
       "<table>\n",
       "    <tr>\n",
       "        <th>zipcode</th>\n",
       "        <th>count_injured</th>\n",
       "        <th>count_killed</th>\n",
       "    </tr>\n",
       "    <tr>\n",
       "        <td>11207</td>\n",
       "        <td>1442</td>\n",
       "        <td>4</td>\n",
       "    </tr>\n",
       "    <tr>\n",
       "        <td>11236</td>\n",
       "        <td>1368</td>\n",
       "        <td>5</td>\n",
       "    </tr>\n",
       "    <tr>\n",
       "        <td>11203</td>\n",
       "        <td>1318</td>\n",
       "        <td>0</td>\n",
       "    </tr>\n",
       "    <tr>\n",
       "        <td>11212</td>\n",
       "        <td>1150</td>\n",
       "        <td>2</td>\n",
       "    </tr>\n",
       "    <tr>\n",
       "        <td>11226</td>\n",
       "        <td>1141</td>\n",
       "        <td>1</td>\n",
       "    </tr>\n",
       "    <tr>\n",
       "        <td>11434</td>\n",
       "        <td>1041</td>\n",
       "        <td>2</td>\n",
       "    </tr>\n",
       "    <tr>\n",
       "        <td>11234</td>\n",
       "        <td>972</td>\n",
       "        <td>3</td>\n",
       "    </tr>\n",
       "    <tr>\n",
       "        <td>11208</td>\n",
       "        <td>919</td>\n",
       "        <td>1</td>\n",
       "    </tr>\n",
       "    <tr>\n",
       "        <td>11233</td>\n",
       "        <td>893</td>\n",
       "        <td>5</td>\n",
       "    </tr>\n",
       "    <tr>\n",
       "        <td>11385</td>\n",
       "        <td>793</td>\n",
       "        <td>3</td>\n",
       "    </tr>\n",
       "</table>"
      ],
      "text/plain": [
       "[('11207', 1442, 4),\n",
       " ('11236', 1368, 5),\n",
       " ('11203', 1318, 0),\n",
       " ('11212', 1150, 2),\n",
       " ('11226', 1141, 1),\n",
       " ('11434', 1041, 2),\n",
       " ('11234', 972, 3),\n",
       " ('11208', 919, 1),\n",
       " ('11233', 893, 5),\n",
       " ('11385', 793, 3)]"
      ]
     },
     "execution_count": 52,
     "metadata": {},
     "output_type": "execute_result"
    }
   ],
   "source": [
    "%%sql\n",
    "SELECT Zipcode, SUM(Persons_Injured) as count_injured, SUM(Persons_Killed) as count_killed\n",
    "FROM collision\n",
    "JOIN location\n",
    "  ON collision.location_key = location.location_key\n",
    "WHERE Zipcode NOT IN ('0')\n",
    "GROUP BY Zipcode\n",
    "ORDER BY SUM(Persons_Injured) DESC\n",
    "LIMIT 10;"
   ]
  },
  {
   "cell_type": "code",
   "execution_count": 53,
   "metadata": {},
   "outputs": [
    {
     "data": {
      "image/png": "[encoded data removed]",
      "text/plain": [
       "<Figure size 792x360 with 2 Axes>"
      ]
     },
     "metadata": {
      "needs_background": "light"
     },
     "output_type": "display_data"
    }
   ],
   "source": [
    "# data\n",
    "n_groups = 10\n",
    "count_injured = (1442,1368,1318,1150,1141,1041,972,919,893,793)\n",
    "count_killed = (4,5,0,2,1,2,3,1,5,3)\n",
    "fig, ax1 = plt.subplots(figsize=(11,5))\n",
    "index = np.arange(n_groups)\n",
    "bar_width = 0.35\n",
    "\n",
    "#bar chart of number injured\n",
    "graph1 = ax1.bar(index, count_injured, bar_width, color='b', alpha=0.7, label='Number injured')\n",
    "ax1.legend(loc =(1.1,0.8))\n",
    "plt.ylim(0,1500)\n",
    "\n",
    "#set secondary axis\n",
    "ax2 = ax1.twinx()\n",
    "#bar chart of number killed\n",
    "graph2 = ax2.bar(index + bar_width, count_killed, bar_width, alpha = 0.6, color='r', label='Number killed')\n",
    "\n",
    "# Make the y-axis labels match the color of the bar graphs\n",
    "ax1.tick_params('y', colors='b')\n",
    "ax2.tick_params('y', colors='r')\n",
    "\n",
    "plt.xlabel('Borough')\n",
    "plt.title('Traffic accident victims by zipcode (2017-2018)')\n",
    "plt.xticks(index + bar_width, ('11207','11236','11203','11212','11226','11434','11234','11208','11233','11385'))\n",
    "plt.legend(loc=(1.1,0.74))\n",
    "\n",
    "fig.tight_layout()\n",
    "plt.show()"
   ]
  },
  {
   "cell_type": "code",
   "execution_count": 54,
   "metadata": {},
   "outputs": [
    {
     "name": "stdout",
     "output_type": "stream",
     "text": [
      " * postgresql://student@/project4\n",
      "10 rows affected.\n"
     ]
    },
    {
     "data": {
      "text/html": [
       "<table>\n",
       "    <tr>\n",
       "        <th>zipcode</th>\n",
       "        <th>count_killed</th>\n",
       "        <th>count_injured</th>\n",
       "    </tr>\n",
       "    <tr>\n",
       "        <td>11354</td>\n",
       "        <td>8</td>\n",
       "        <td>468</td>\n",
       "    </tr>\n",
       "    <tr>\n",
       "        <td>10014</td>\n",
       "        <td>8</td>\n",
       "        <td>131</td>\n",
       "    </tr>\n",
       "    <tr>\n",
       "        <td>11206</td>\n",
       "        <td>6</td>\n",
       "        <td>678</td>\n",
       "    </tr>\n",
       "    <tr>\n",
       "        <td>11229</td>\n",
       "        <td>5</td>\n",
       "        <td>497</td>\n",
       "    </tr>\n",
       "    <tr>\n",
       "        <td>11233</td>\n",
       "        <td>5</td>\n",
       "        <td>893</td>\n",
       "    </tr>\n",
       "    <tr>\n",
       "        <td>11236</td>\n",
       "        <td>5</td>\n",
       "        <td>1368</td>\n",
       "    </tr>\n",
       "    <tr>\n",
       "        <td>11207</td>\n",
       "        <td>4</td>\n",
       "        <td>1442</td>\n",
       "    </tr>\n",
       "    <tr>\n",
       "        <td>11237</td>\n",
       "        <td>4</td>\n",
       "        <td>382</td>\n",
       "    </tr>\n",
       "    <tr>\n",
       "        <td>10301</td>\n",
       "        <td>4</td>\n",
       "        <td>372</td>\n",
       "    </tr>\n",
       "    <tr>\n",
       "        <td>11374</td>\n",
       "        <td>4</td>\n",
       "        <td>259</td>\n",
       "    </tr>\n",
       "</table>"
      ],
      "text/plain": [
       "[('11354', 8, 468),\n",
       " ('10014', 8, 131),\n",
       " ('11206', 6, 678),\n",
       " ('11229', 5, 497),\n",
       " ('11233', 5, 893),\n",
       " ('11236', 5, 1368),\n",
       " ('11207', 4, 1442),\n",
       " ('11237', 4, 382),\n",
       " ('10301', 4, 372),\n",
       " ('11374', 4, 259)]"
      ]
     },
     "execution_count": 54,
     "metadata": {},
     "output_type": "execute_result"
    }
   ],
   "source": [
    "%%sql\n",
    "SELECT Zipcode,SUM(Persons_Killed) as count_killed, SUM(Persons_Injured) as count_injured\n",
    "FROM collision\n",
    "JOIN location\n",
    "  ON collision.location_key = location.location_key\n",
    "WHERE Zipcode NOT IN ('0')\n",
    "GROUP BY Zipcode\n",
    "ORDER BY SUM(Persons_Killed) DESC\n",
    "LIMIT 10;"
   ]
  },
  {
   "cell_type": "markdown",
   "metadata": {},
   "source": [
    "#### It looks like zipcode 11207 is by far the most dangerous when it comes to the number of crashes and the number of injuries. However, 11354 and 10014 have a much higher number of casualties despite counting far fewer injuries."
   ]
  },
  {
   "cell_type": "code",
   "execution_count": 69,
   "metadata": {},
   "outputs": [
    {
     "data": {
      "text/html": [
       "<img src=\"https://raw.githubusercontent.com/yzhao84/123/master/map.png\"/>"
      ],
      "text/plain": [
       "<IPython.core.display.Image object>"
      ]
     },
     "execution_count": 69,
     "metadata": {},
     "output_type": "execute_result"
    }
   ],
   "source": [
    "Image(url=\"https://raw.githubusercontent.com/yzhao84/123/master/map.png\")"
   ]
  },
  {
   "cell_type": "markdown",
   "metadata": {},
   "source": [
    "#### 3) Which are the streets where most crashes occur?"
   ]
  },
  {
   "cell_type": "code",
   "execution_count": 55,
   "metadata": {},
   "outputs": [
    {
     "name": "stdout",
     "output_type": "stream",
     "text": [
      " * postgresql://student@/project4\n",
      "10 rows affected.\n"
     ]
    },
    {
     "data": {
      "text/html": [
       "<table>\n",
       "    <tr>\n",
       "        <th>on_street_name</th>\n",
       "        <th>cross_street_name</th>\n",
       "        <th>count</th>\n",
       "    </tr>\n",
       "    <tr>\n",
       "        <td>BELT PARKWAY                    </td>\n",
       "        <td>MISS</td>\n",
       "        <td>2731</td>\n",
       "    </tr>\n",
       "    <tr>\n",
       "        <td>LONG ISLAND EXPRESSWAY          </td>\n",
       "        <td>MISS</td>\n",
       "        <td>2131</td>\n",
       "    </tr>\n",
       "    <tr>\n",
       "        <td>BROOKLYN QUEENS EXPRESSWAY      </td>\n",
       "        <td>MISS</td>\n",
       "        <td>2108</td>\n",
       "    </tr>\n",
       "    <tr>\n",
       "        <td>GRAND CENTRAL PKWY              </td>\n",
       "        <td>MISS</td>\n",
       "        <td>1786</td>\n",
       "    </tr>\n",
       "    <tr>\n",
       "        <td>FDR DRIVE                       </td>\n",
       "        <td>MISS</td>\n",
       "        <td>1468</td>\n",
       "    </tr>\n",
       "    <tr>\n",
       "        <td>CROSS BRONX EXPY                </td>\n",
       "        <td>MISS</td>\n",
       "        <td>1325</td>\n",
       "    </tr>\n",
       "    <tr>\n",
       "        <td>BROADWAY                        </td>\n",
       "        <td>MISS</td>\n",
       "        <td>1224</td>\n",
       "    </tr>\n",
       "    <tr>\n",
       "        <td>MAJOR DEEGAN EXPRESSWAY         </td>\n",
       "        <td>MISS</td>\n",
       "        <td>1185</td>\n",
       "    </tr>\n",
       "    <tr>\n",
       "        <td>VAN WYCK EXPWY                  </td>\n",
       "        <td>MISS</td>\n",
       "        <td>1162</td>\n",
       "    </tr>\n",
       "    <tr>\n",
       "        <td>ATLANTIC AVENUE                 </td>\n",
       "        <td>MISS</td>\n",
       "        <td>1130</td>\n",
       "    </tr>\n",
       "</table>"
      ],
      "text/plain": [
       "[('BELT PARKWAY                    ', 'MISS', 2731),\n",
       " ('LONG ISLAND EXPRESSWAY          ', 'MISS', 2131),\n",
       " ('BROOKLYN QUEENS EXPRESSWAY      ', 'MISS', 2108),\n",
       " ('GRAND CENTRAL PKWY              ', 'MISS', 1786),\n",
       " ('FDR DRIVE                       ', 'MISS', 1468),\n",
       " ('CROSS BRONX EXPY                ', 'MISS', 1325),\n",
       " ('BROADWAY                        ', 'MISS', 1224),\n",
       " ('MAJOR DEEGAN EXPRESSWAY         ', 'MISS', 1185),\n",
       " ('VAN WYCK EXPWY                  ', 'MISS', 1162),\n",
       " ('ATLANTIC AVENUE                 ', 'MISS', 1130)]"
      ]
     },
     "execution_count": 55,
     "metadata": {},
     "output_type": "execute_result"
    }
   ],
   "source": [
    "%%sql\n",
    "SELECT On_Street_Name,Cross_Street_Name, COUNT(*) count\n",
    "FROM collision\n",
    "JOIN location\n",
    "  ON collision.location_key = location.location_key\n",
    "WHERE On_Street_Name NOT IN ('MISS')\n",
    "GROUP BY On_Street_Name, Cross_Street_Name\n",
    "ORDER BY count(*) DESC\n",
    "LIMIT 10;"
   ]
  },
  {
   "cell_type": "markdown",
   "metadata": {},
   "source": [
    "#### The most accidents in New York City tend to occur on major roadways. This makes sense because they probably see the most traffic at higher speeds, and crashes are more likely to happen. Belt parkway is a large road that goes to the JFK International Airport. Long Island Expressway is a highway that cuts through the middle of Long Island down its entire length. Broadway, Manhattan's iconic avenue, is also on this list."
   ]
  },
  {
   "cell_type": "markdown",
   "metadata": {},
   "source": [
    "#### 4) Which are the intersections where most crashes occur?"
   ]
  },
  {
   "cell_type": "code",
   "execution_count": 56,
   "metadata": {},
   "outputs": [
    {
     "name": "stdout",
     "output_type": "stream",
     "text": [
      " * postgresql://student@/project4\n",
      "10 rows affected.\n"
     ]
    },
    {
     "data": {
      "text/html": [
       "<table>\n",
       "    <tr>\n",
       "        <th>on_street_name</th>\n",
       "        <th>cross_street_name</th>\n",
       "        <th>count</th>\n",
       "    </tr>\n",
       "    <tr>\n",
       "        <td>BRUCKNER BOULEVARD              </td>\n",
       "        <td>EAST 138 STREET</td>\n",
       "        <td>140</td>\n",
       "    </tr>\n",
       "    <tr>\n",
       "        <td>WEST FORDHAM ROAD               </td>\n",
       "        <td>MAJOR DEEGAN EXPRESSWAY</td>\n",
       "        <td>117</td>\n",
       "    </tr>\n",
       "    <tr>\n",
       "        <td>WEST 41 STREET                  </td>\n",
       "        <td>10 AVENUE</td>\n",
       "        <td>117</td>\n",
       "    </tr>\n",
       "    <tr>\n",
       "        <td>FLATBUSH AVENUE EXTENSION       </td>\n",
       "        <td>TILLARY STREET</td>\n",
       "        <td>104</td>\n",
       "    </tr>\n",
       "    <tr>\n",
       "        <td>BRUCKNER BOULEVARD              </td>\n",
       "        <td>HUNTS POINT AVENUE</td>\n",
       "        <td>102</td>\n",
       "    </tr>\n",
       "    <tr>\n",
       "        <td>NORTH CONDUIT AVENUE            </td>\n",
       "        <td>COHANCY STREET</td>\n",
       "        <td>98</td>\n",
       "    </tr>\n",
       "    <tr>\n",
       "        <td>EAST HOUSTON STREET             </td>\n",
       "        <td>BOWERY</td>\n",
       "        <td>95</td>\n",
       "    </tr>\n",
       "    <tr>\n",
       "        <td>ROCKAWAY BOULEVARD              </td>\n",
       "        <td>BREWER BOULEVARD</td>\n",
       "        <td>92</td>\n",
       "    </tr>\n",
       "    <tr>\n",
       "        <td>TILLARY STREET                  </td>\n",
       "        <td>FLATBUSH AVENUE EXTENSION</td>\n",
       "        <td>91</td>\n",
       "    </tr>\n",
       "    <tr>\n",
       "        <td>WEST 40 STREET                  </td>\n",
       "        <td>11 AVENUE</td>\n",
       "        <td>90</td>\n",
       "    </tr>\n",
       "</table>"
      ],
      "text/plain": [
       "[('BRUCKNER BOULEVARD              ', 'EAST 138 STREET', 140),\n",
       " ('WEST FORDHAM ROAD               ', 'MAJOR DEEGAN EXPRESSWAY', 117),\n",
       " ('WEST 41 STREET                  ', '10 AVENUE', 117),\n",
       " ('FLATBUSH AVENUE EXTENSION       ', 'TILLARY STREET', 104),\n",
       " ('BRUCKNER BOULEVARD              ', 'HUNTS POINT AVENUE', 102),\n",
       " ('NORTH CONDUIT AVENUE            ', 'COHANCY STREET', 98),\n",
       " ('EAST HOUSTON STREET             ', 'BOWERY', 95),\n",
       " ('ROCKAWAY BOULEVARD              ', 'BREWER BOULEVARD', 92),\n",
       " ('TILLARY STREET                  ', 'FLATBUSH AVENUE EXTENSION', 91),\n",
       " ('WEST 40 STREET                  ', '11 AVENUE', 90)]"
      ]
     },
     "execution_count": 56,
     "metadata": {},
     "output_type": "execute_result"
    }
   ],
   "source": [
    "%%sql\n",
    "SELECT On_Street_Name,Cross_Street_Name, COUNT(*) count\n",
    "FROM collision\n",
    "JOIN location\n",
    "  ON collision.location_key = location.location_key\n",
    "WHERE On_Street_Name NOT IN ('MISS') AND  Cross_Street_Name NOT IN ('MISS')\n",
    "GROUP BY On_Street_Name, Cross_Street_Name\n",
    "ORDER BY count(*) DESC\n",
    "LIMIT 10;"
   ]
  },
  {
   "cell_type": "markdown",
   "metadata": {},
   "source": [
    "#### These are mostly complex, multiple-lane intersections on the outskirts of Manhattan that see a lot of traffic crossing in and out of the borough via bridges and underpasses."
   ]
  },
  {
   "cell_type": "markdown",
   "metadata": {},
   "source": [
    "#### 5) Which are the off street locations where most crashes occur?"
   ]
  },
  {
   "cell_type": "code",
   "execution_count": 57,
   "metadata": {},
   "outputs": [
    {
     "name": "stdout",
     "output_type": "stream",
     "text": [
      " * postgresql://student@/project4\n",
      "10 rows affected.\n"
     ]
    },
    {
     "data": {
      "text/html": [
       "<table>\n",
       "    <tr>\n",
       "        <th>off_street_name</th>\n",
       "        <th>zipcode</th>\n",
       "        <th>borough</th>\n",
       "        <th>count</th>\n",
       "    </tr>\n",
       "    <tr>\n",
       "        <td>772       EDGEWATER ROAD                </td>\n",
       "        <td>10474</td>\n",
       "        <td>BRONX</td>\n",
       "        <td>171</td>\n",
       "    </tr>\n",
       "    <tr>\n",
       "        <td>110-00    ROCKAWAY BOULEVARD            </td>\n",
       "        <td>11420</td>\n",
       "        <td>QUEENS</td>\n",
       "        <td>141</td>\n",
       "    </tr>\n",
       "    <tr>\n",
       "        <td>2800      VICTORY BOULEVARD             </td>\n",
       "        <td>0</td>\n",
       "        <td>MISS</td>\n",
       "        <td>118</td>\n",
       "    </tr>\n",
       "    <tr>\n",
       "        <td>2100      BARTOW AVENUE                 </td>\n",
       "        <td>10475</td>\n",
       "        <td>BRONX</td>\n",
       "        <td>79</td>\n",
       "    </tr>\n",
       "    <tr>\n",
       "        <td>2655      RICHMOND AVENUE               </td>\n",
       "        <td>0</td>\n",
       "        <td>MISS</td>\n",
       "        <td>77</td>\n",
       "    </tr>\n",
       "    <tr>\n",
       "        <td>501       GATEWAY DRIVE                 </td>\n",
       "        <td>11239</td>\n",
       "        <td>BROOKLYN</td>\n",
       "        <td>66</td>\n",
       "    </tr>\n",
       "    <tr>\n",
       "        <td>450       FLATBUSH AVENUE               </td>\n",
       "        <td>11225</td>\n",
       "        <td>BROOKLYN</td>\n",
       "        <td>65</td>\n",
       "    </tr>\n",
       "    <tr>\n",
       "        <td>625       ATLANTIC AVENUE               </td>\n",
       "        <td>11217</td>\n",
       "        <td>BROOKLYN</td>\n",
       "        <td>63</td>\n",
       "    </tr>\n",
       "    <tr>\n",
       "        <td>2795      RICHMOND AVENUE               </td>\n",
       "        <td>0</td>\n",
       "        <td>MISS</td>\n",
       "        <td>62</td>\n",
       "    </tr>\n",
       "    <tr>\n",
       "        <td>112       RICHMOND HILL ROAD            </td>\n",
       "        <td>0</td>\n",
       "        <td>MISS</td>\n",
       "        <td>61</td>\n",
       "    </tr>\n",
       "</table>"
      ],
      "text/plain": [
       "[('772       EDGEWATER ROAD                ', '10474', 'BRONX', 171),\n",
       " ('110-00    ROCKAWAY BOULEVARD            ', '11420', 'QUEENS', 141),\n",
       " ('2800      VICTORY BOULEVARD             ', '0', 'MISS', 118),\n",
       " ('2100      BARTOW AVENUE                 ', '10475', 'BRONX', 79),\n",
       " ('2655      RICHMOND AVENUE               ', '0', 'MISS', 77),\n",
       " ('501       GATEWAY DRIVE                 ', '11239', 'BROOKLYN', 66),\n",
       " ('450       FLATBUSH AVENUE               ', '11225', 'BROOKLYN', 65),\n",
       " ('625       ATLANTIC AVENUE               ', '11217', 'BROOKLYN', 63),\n",
       " ('2795      RICHMOND AVENUE               ', '0', 'MISS', 62),\n",
       " ('112       RICHMOND HILL ROAD            ', '0', 'MISS', 61)]"
      ]
     },
     "execution_count": 57,
     "metadata": {},
     "output_type": "execute_result"
    }
   ],
   "source": [
    "%%sql\n",
    "SELECT Off_Street_Name, Zipcode, borough, COUNT(*) count\n",
    "FROM collision\n",
    "JOIN location\n",
    "  ON collision.location_key = location.location_key\n",
    "WHERE Off_Street_Name NOT IN ('MISS')\n",
    "GROUP BY Off_Street_Name, Zipcode, borough\n",
    "ORDER BY count(*) DESC\n",
    "LIMIT 10;"
   ]
  },
  {
   "cell_type": "markdown",
   "metadata": {},
   "source": [
    "#### 772 Edgewater road in the Bronx is a large market for farm products with small streets. It is often visited by mantrucks and large vans that deliver fresh produce to restaurants in the city. 110-00 Rockaway Boulevard is the parking of a large hotel and entertainment resort. 2800 Victory Boulevard is located on the campus of CUNY at Staten Island, and 2100 Bartow Avenue is the parking of an AMC movie theatre. \n",
    "\n",
    "#### Most of these off street locations seem to be parking lots of places that attract many people and cars."
   ]
  },
  {
   "cell_type": "markdown",
   "metadata": {},
   "source": [
    "### Part 3 Analysis Part C: numbers of people."
   ]
  },
  {
   "cell_type": "markdown",
   "metadata": {},
   "source": [
    "#### 1. In general, how many cases do not involve injuries? How many involve one, two, and more persons injured?"
   ]
  },
  {
   "cell_type": "code",
   "execution_count": 59,
   "metadata": {},
   "outputs": [
    {
     "name": "stdout",
     "output_type": "stream",
     "text": [
      " * postgresql://student@/project4\n",
      "22 rows affected.\n"
     ]
    },
    {
     "data": {
      "text/html": [
       "<table>\n",
       "    <tr>\n",
       "        <th>persons_injured</th>\n",
       "        <th>count</th>\n",
       "    </tr>\n",
       "    <tr>\n",
       "        <td>0</td>\n",
       "        <td>322390</td>\n",
       "    </tr>\n",
       "    <tr>\n",
       "        <td>1</td>\n",
       "        <td>60343</td>\n",
       "    </tr>\n",
       "    <tr>\n",
       "        <td>2</td>\n",
       "        <td>11523</td>\n",
       "    </tr>\n",
       "    <tr>\n",
       "        <td>3</td>\n",
       "        <td>3703</td>\n",
       "    </tr>\n",
       "    <tr>\n",
       "        <td>4</td>\n",
       "        <td>1406</td>\n",
       "    </tr>\n",
       "    <tr>\n",
       "        <td>5</td>\n",
       "        <td>581</td>\n",
       "    </tr>\n",
       "    <tr>\n",
       "        <td>6</td>\n",
       "        <td>224</td>\n",
       "    </tr>\n",
       "    <tr>\n",
       "        <td>7</td>\n",
       "        <td>90</td>\n",
       "    </tr>\n",
       "    <tr>\n",
       "        <td>8</td>\n",
       "        <td>42</td>\n",
       "    </tr>\n",
       "    <tr>\n",
       "        <td>9</td>\n",
       "        <td>14</td>\n",
       "    </tr>\n",
       "    <tr>\n",
       "        <td>10</td>\n",
       "        <td>12</td>\n",
       "    </tr>\n",
       "    <tr>\n",
       "        <td>11</td>\n",
       "        <td>7</td>\n",
       "    </tr>\n",
       "    <tr>\n",
       "        <td>12</td>\n",
       "        <td>5</td>\n",
       "    </tr>\n",
       "    <tr>\n",
       "        <td>13</td>\n",
       "        <td>6</td>\n",
       "    </tr>\n",
       "    <tr>\n",
       "        <td>14</td>\n",
       "        <td>2</td>\n",
       "    </tr>\n",
       "    <tr>\n",
       "        <td>15</td>\n",
       "        <td>1</td>\n",
       "    </tr>\n",
       "    <tr>\n",
       "        <td>16</td>\n",
       "        <td>3</td>\n",
       "    </tr>\n",
       "    <tr>\n",
       "        <td>17</td>\n",
       "        <td>2</td>\n",
       "    </tr>\n",
       "    <tr>\n",
       "        <td>18</td>\n",
       "        <td>1</td>\n",
       "    </tr>\n",
       "    <tr>\n",
       "        <td>19</td>\n",
       "        <td>1</td>\n",
       "    </tr>\n",
       "    <tr>\n",
       "        <td>22</td>\n",
       "        <td>1</td>\n",
       "    </tr>\n",
       "    <tr>\n",
       "        <td>27</td>\n",
       "        <td>1</td>\n",
       "    </tr>\n",
       "</table>"
      ],
      "text/plain": [
       "[(0, 322390),\n",
       " (1, 60343),\n",
       " (2, 11523),\n",
       " (3, 3703),\n",
       " (4, 1406),\n",
       " (5, 581),\n",
       " (6, 224),\n",
       " (7, 90),\n",
       " (8, 42),\n",
       " (9, 14),\n",
       " (10, 12),\n",
       " (11, 7),\n",
       " (12, 5),\n",
       " (13, 6),\n",
       " (14, 2),\n",
       " (15, 1),\n",
       " (16, 3),\n",
       " (17, 2),\n",
       " (18, 1),\n",
       " (19, 1),\n",
       " (22, 1),\n",
       " (27, 1)]"
      ]
     },
     "execution_count": 59,
     "metadata": {},
     "output_type": "execute_result"
    }
   ],
   "source": [
    "%%sql\n",
    "SELECT Persons_Injured, COUNT(*) count\n",
    "FROM collision\n",
    "GROUP BY Persons_Injured\n",
    "ORDER BY Persons_Injured"
   ]
  },
  {
   "cell_type": "code",
   "execution_count": 60,
   "metadata": {},
   "outputs": [
    {
     "data": {
      "text/plain": [
       "<BarContainer object of 22 artists>"
      ]
     },
     "execution_count": 60,
     "metadata": {},
     "output_type": "execute_result"
    },
    {
     "data": {
      "image/png": "[encoded data removed]",
      "text/plain": [
       "<Figure size 432x288 with 1 Axes>"
      ]
     },
     "metadata": {
      "needs_background": "light"
     },
     "output_type": "display_data"
    }
   ],
   "source": [
    "%matplotlib inline\n",
    "_.bar()"
   ]
  },
  {
   "cell_type": "code",
   "execution_count": 61,
   "metadata": {},
   "outputs": [
    {
     "name": "stdout",
     "output_type": "stream",
     "text": [
      " * postgresql://student@/project4\n",
      "22 rows affected.\n"
     ]
    },
    {
     "data": {
      "text/html": [
       "<table>\n",
       "    <tr>\n",
       "        <th>persons_injured</th>\n",
       "        <th>percentage</th>\n",
       "    </tr>\n",
       "    <tr>\n",
       "        <td>0</td>\n",
       "        <td>80.0000</td>\n",
       "    </tr>\n",
       "    <tr>\n",
       "        <td>1</td>\n",
       "        <td>15.0000</td>\n",
       "    </tr>\n",
       "    <tr>\n",
       "        <td>2</td>\n",
       "        <td>2.0000</td>\n",
       "    </tr>\n",
       "    <tr>\n",
       "        <td>3</td>\n",
       "        <td>0.0000</td>\n",
       "    </tr>\n",
       "    <tr>\n",
       "        <td>4</td>\n",
       "        <td>0.0000</td>\n",
       "    </tr>\n",
       "    <tr>\n",
       "        <td>5</td>\n",
       "        <td>0.0000</td>\n",
       "    </tr>\n",
       "    <tr>\n",
       "        <td>6</td>\n",
       "        <td>0.0000</td>\n",
       "    </tr>\n",
       "    <tr>\n",
       "        <td>7</td>\n",
       "        <td>0.0000</td>\n",
       "    </tr>\n",
       "    <tr>\n",
       "        <td>8</td>\n",
       "        <td>0.0000</td>\n",
       "    </tr>\n",
       "    <tr>\n",
       "        <td>9</td>\n",
       "        <td>0.0000</td>\n",
       "    </tr>\n",
       "    <tr>\n",
       "        <td>10</td>\n",
       "        <td>0.0000</td>\n",
       "    </tr>\n",
       "    <tr>\n",
       "        <td>11</td>\n",
       "        <td>0.0000</td>\n",
       "    </tr>\n",
       "    <tr>\n",
       "        <td>12</td>\n",
       "        <td>0.0000</td>\n",
       "    </tr>\n",
       "    <tr>\n",
       "        <td>13</td>\n",
       "        <td>0.0000</td>\n",
       "    </tr>\n",
       "    <tr>\n",
       "        <td>14</td>\n",
       "        <td>0.0000</td>\n",
       "    </tr>\n",
       "    <tr>\n",
       "        <td>15</td>\n",
       "        <td>0.0000</td>\n",
       "    </tr>\n",
       "    <tr>\n",
       "        <td>16</td>\n",
       "        <td>0.0000</td>\n",
       "    </tr>\n",
       "    <tr>\n",
       "        <td>17</td>\n",
       "        <td>0.0000</td>\n",
       "    </tr>\n",
       "    <tr>\n",
       "        <td>18</td>\n",
       "        <td>0.0000</td>\n",
       "    </tr>\n",
       "    <tr>\n",
       "        <td>19</td>\n",
       "        <td>0.0000</td>\n",
       "    </tr>\n",
       "    <tr>\n",
       "        <td>22</td>\n",
       "        <td>0.0000</td>\n",
       "    </tr>\n",
       "    <tr>\n",
       "        <td>27</td>\n",
       "        <td>0.0000</td>\n",
       "    </tr>\n",
       "</table>"
      ],
      "text/plain": [
       "[(0, Decimal('80.0000')),\n",
       " (1, Decimal('15.0000')),\n",
       " (2, Decimal('2.0000')),\n",
       " (3, Decimal('0.0000')),\n",
       " (4, Decimal('0.0000')),\n",
       " (5, Decimal('0.0000')),\n",
       " (6, Decimal('0.0000')),\n",
       " (7, Decimal('0.0000')),\n",
       " (8, Decimal('0.0000')),\n",
       " (9, Decimal('0.0000')),\n",
       " (10, Decimal('0.0000')),\n",
       " (11, Decimal('0.0000')),\n",
       " (12, Decimal('0.0000')),\n",
       " (13, Decimal('0.0000')),\n",
       " (14, Decimal('0.0000')),\n",
       " (15, Decimal('0.0000')),\n",
       " (16, Decimal('0.0000')),\n",
       " (17, Decimal('0.0000')),\n",
       " (18, Decimal('0.0000')),\n",
       " (19, Decimal('0.0000')),\n",
       " (22, Decimal('0.0000')),\n",
       " (27, Decimal('0.0000'))]"
      ]
     },
     "execution_count": 61,
     "metadata": {},
     "output_type": "execute_result"
    }
   ],
   "source": [
    "%%sql\n",
    "Select Persons_Injured, round((Count(Persons_Injured)* 100 / (Select Count(*) From collision)),4) as percentage\n",
    "From collision\n",
    "Group By Persons_Injured\n",
    "ORDER BY Persons_Injured"
   ]
  },
  {
   "cell_type": "code",
   "execution_count": 62,
   "metadata": {},
   "outputs": [
    {
     "name": "stdout",
     "output_type": "stream",
     "text": [
      " * postgresql://student@/project4\n",
      "1 rows affected.\n"
     ]
    },
    {
     "data": {
      "text/html": [
       "<table>\n",
       "    <tr>\n",
       "        <th>total_persons_injured</th>\n",
       "    </tr>\n",
       "    <tr>\n",
       "        <td>106009</td>\n",
       "    </tr>\n",
       "</table>"
      ],
      "text/plain": [
       "[(Decimal('106009'),)]"
      ]
     },
     "execution_count": 62,
     "metadata": {},
     "output_type": "execute_result"
    }
   ],
   "source": [
    "%%sql\n",
    "Select sum(sub.total) as total_persons_injured\n",
    "From(\n",
    "    Select Persons_Injured, Count(Persons_Injured)* Persons_Injured as total\n",
    "    From collision\n",
    "    Where Persons_Injured > 0\n",
    "    Group By Persons_Injured\n",
    "    ORDER BY Persons_Injured\n",
    "    ) sub"
   ]
  },
  {
   "cell_type": "markdown",
   "metadata": {},
   "source": [
    "#### Fortunately, in about 80% collisions there's no injuries involved. Approximately 15% of the collisions does have one person injured. Also, there's still 10 rarely happened terrible accidents that involve 15 or more injuries in the recent two years. In total, there's 106009 persons injured."
   ]
  },
  {
   "cell_type": "markdown",
   "metadata": {},
   "source": [
    "#### 2. What proportion of accidents do not involve persons killed?"
   ]
  },
  {
   "cell_type": "code",
   "execution_count": 63,
   "metadata": {},
   "outputs": [
    {
     "name": "stdout",
     "output_type": "stream",
     "text": [
      " * postgresql://student@/project4\n",
      "1 rows affected.\n"
     ]
    },
    {
     "data": {
      "text/html": [
       "<table>\n",
       "    <tr>\n",
       "        <th>persons_killed</th>\n",
       "        <th>percentage</th>\n",
       "    </tr>\n",
       "    <tr>\n",
       "        <td>0</td>\n",
       "        <td>99.0000</td>\n",
       "    </tr>\n",
       "</table>"
      ],
      "text/plain": [
       "[(0, Decimal('99.0000'))]"
      ]
     },
     "execution_count": 63,
     "metadata": {},
     "output_type": "execute_result"
    }
   ],
   "source": [
    "%%sql\n",
    "Select Persons_Killed, round((Count(Persons_Killed)* 100 / (Select Count(*) From collision)),4) as percentage\n",
    "From collision\n",
    "Where Persons_Killed = 0\n",
    "Group By Persons_Killed\n",
    "ORDER BY Persons_Killed"
   ]
  },
  {
   "cell_type": "code",
   "execution_count": 64,
   "metadata": {},
   "outputs": [
    {
     "name": "stdout",
     "output_type": "stream",
     "text": [
      " * postgresql://student@/project4\n",
      "1 rows affected.\n"
     ]
    },
    {
     "data": {
      "text/html": [
       "<table>\n",
       "    <tr>\n",
       "        <th>total_persons_killed</th>\n",
       "    </tr>\n",
       "    <tr>\n",
       "        <td>402</td>\n",
       "    </tr>\n",
       "</table>"
      ],
      "text/plain": [
       "[(Decimal('402'),)]"
      ]
     },
     "execution_count": 64,
     "metadata": {},
     "output_type": "execute_result"
    }
   ],
   "source": [
    "%%sql\n",
    "Select sum(sub.total) as total_persons_killed\n",
    "From(\n",
    "    Select Persons_Killed, Count(Persons_Killed)* Persons_Killed as total\n",
    "    From collision\n",
    "    Where Persons_Killed > 0\n",
    "    Group By Persons_Killed\n",
    "    ORDER BY Persons_Killed\n",
    "    ) sub"
   ]
  },
  {
   "cell_type": "markdown",
   "metadata": {},
   "source": [
    "#### It's good to know that no people were killed in about 99% of collisions. However, a total number of 402 people lost their lives in car collisions in New York City over the past two years."
   ]
  },
  {
   "cell_type": "markdown",
   "metadata": {},
   "source": [
    "#### Which type of people are most likely to get injured in an accident?"
   ]
  },
  {
   "cell_type": "code",
   "execution_count": 65,
   "metadata": {},
   "outputs": [
    {
     "name": "stdout",
     "output_type": "stream",
     "text": [
      " * postgresql://student@/project4\n",
      "1 rows affected.\n"
     ]
    },
    {
     "data": {
      "text/html": [
       "<table>\n",
       "    <tr>\n",
       "        <th>pedestrian</th>\n",
       "        <th>cyclist</th>\n",
       "        <th>motorist</th>\n",
       "    </tr>\n",
       "    <tr>\n",
       "        <td>19619</td>\n",
       "        <td>8536</td>\n",
       "        <td>78499</td>\n",
       "    </tr>\n",
       "</table>"
      ],
      "text/plain": [
       "[(19619, 8536, 78499)]"
      ]
     },
     "execution_count": 65,
     "metadata": {},
     "output_type": "execute_result"
    }
   ],
   "source": [
    "%%sql\n",
    "SELECT sum(Pedestrian_Injured) as pedestrian, sum(Cyclist_Injured) as cyclist, sum(Motorist_Injured) as motorist\n",
    "FROM collision"
   ]
  },
  {
   "cell_type": "code",
   "execution_count": 66,
   "metadata": {},
   "outputs": [
    {
     "data": {
      "image/png": "[encoded data removed]",
      "text/plain": [
       "<Figure size 432x288 with 1 Axes>"
      ]
     },
     "metadata": {},
     "output_type": "display_data"
    }
   ],
   "source": [
    "import matplotlib.pyplot as plt\n",
    "\n",
    "labels = 'pedestrian', 'cyclist', 'motorist'\n",
    "sizes = [18.4, 8, 73.6]\n",
    "explode = (0, 0, 0.1) \n",
    "\n",
    "fig1, ax1 = plt.subplots()\n",
    "ax1.pie(sizes, explode=explode, labels=labels, autopct='%1.1f%%',\n",
    "        shadow=True, startangle=90)\n",
    "ax1.axis('equal')  \n",
    "\n",
    "plt.show()"
   ]
  },
  {
   "cell_type": "markdown",
   "metadata": {},
   "source": [
    "#### The majority of injuries occured to motorists, accounting for 73.6%"
   ]
  },
  {
   "cell_type": "markdown",
   "metadata": {},
   "source": [
    "#### Which type people is most likely to get killed in an accident?"
   ]
  },
  {
   "cell_type": "code",
   "execution_count": 67,
   "metadata": {},
   "outputs": [
    {
     "name": "stdout",
     "output_type": "stream",
     "text": [
      " * postgresql://student@/project4\n",
      "1 rows affected.\n"
     ]
    },
    {
     "data": {
      "text/html": [
       "<table>\n",
       "    <tr>\n",
       "        <th>pedestrian</th>\n",
       "        <th>cyclist</th>\n",
       "        <th>motorist</th>\n",
       "    </tr>\n",
       "    <tr>\n",
       "        <td>201</td>\n",
       "        <td>32</td>\n",
       "        <td>170</td>\n",
       "    </tr>\n",
       "</table>"
      ],
      "text/plain": [
       "[(201, 32, 170)]"
      ]
     },
     "execution_count": 67,
     "metadata": {},
     "output_type": "execute_result"
    }
   ],
   "source": [
    "%%sql\n",
    "SELECT sum(Pedestrian_Killed) as pedestrian, sum(Cyclist_Killed) as cyclist, sum(Motorist_Killed) as motorist\n",
    "FROM collision"
   ]
  },
  {
   "cell_type": "code",
   "execution_count": 68,
   "metadata": {},
   "outputs": [
    {
     "data": {
      "image/png": "[encoded data removed]",
      "text/plain": [
       "<Figure size 432x288 with 1 Axes>"
      ]
     },
     "metadata": {},
     "output_type": "display_data"
    }
   ],
   "source": [
    "import matplotlib.pyplot as plt\n",
    "\n",
    "labels = 'pedestrian', 'cyclist', 'motorist'\n",
    "sizes = [49.9, 7.9, 42.2]\n",
    "explode = (0, 0.1, 0)  \n",
    "\n",
    "fig1, ax1 = plt.subplots()\n",
    "ax1.pie(sizes, explode=explode, labels=labels, autopct='%1.1f%%',\n",
    "        shadow=True, startangle=90)\n",
    "ax1.axis('equal') \n",
    "plt.show()"
   ]
  },
  {
   "cell_type": "markdown",
   "metadata": {},
   "source": [
    "#### However, pedestrians are the most likely to be killed in an accident instead of motorists. It could be because that pedestrians are more vulnerable compared to motorists sitting in vehicles."
   ]
  },
  {
   "cell_type": "markdown",
   "metadata": {},
   "source": [
    "### Part 3 Analysis Part D: factors and vehicles."
   ]
  },
  {
   "cell_type": "markdown",
   "metadata": {},
   "source": [
    "#### What's the TOP 15 contributing factor of all collisions."
   ]
  },
  {
   "cell_type": "code",
   "execution_count": 65,
   "metadata": {},
   "outputs": [
    {
     "name": "stdout",
     "output_type": "stream",
     "text": [
      " * postgresql://student@/project4\n",
      "15 rows affected.\n"
     ]
    },
    {
     "data": {
      "text/html": [
       "<table>\n",
       "    <tr>\n",
       "        <th>contributing_factor</th>\n",
       "        <th>count</th>\n",
       "    </tr>\n",
       "    <tr>\n",
       "        <td>Driver Inattention/Distraction</td>\n",
       "        <td>94879</td>\n",
       "    </tr>\n",
       "    <tr>\n",
       "        <td>Following Too Closely</td>\n",
       "        <td>38981</td>\n",
       "    </tr>\n",
       "    <tr>\n",
       "        <td>Failure to Yield Right-of-Way</td>\n",
       "        <td>28181</td>\n",
       "    </tr>\n",
       "    <tr>\n",
       "        <td>Backing Unsafely</td>\n",
       "        <td>19613</td>\n",
       "    </tr>\n",
       "    <tr>\n",
       "        <td>Passing or Lane Usage Improper</td>\n",
       "        <td>18149</td>\n",
       "    </tr>\n",
       "    <tr>\n",
       "        <td>Unsafe Lane Changing</td>\n",
       "        <td>14748</td>\n",
       "    </tr>\n",
       "    <tr>\n",
       "        <td>Other Vehicular</td>\n",
       "        <td>10448</td>\n",
       "    </tr>\n",
       "    <tr>\n",
       "        <td>Turning Improperly</td>\n",
       "        <td>10067</td>\n",
       "    </tr>\n",
       "    <tr>\n",
       "        <td>Traffic Control Disregarded</td>\n",
       "        <td>7233</td>\n",
       "    </tr>\n",
       "    <tr>\n",
       "        <td>Driver Inexperience</td>\n",
       "        <td>6755</td>\n",
       "    </tr>\n",
       "    <tr>\n",
       "        <td>Unsafe Speed</td>\n",
       "        <td>5837</td>\n",
       "    </tr>\n",
       "    <tr>\n",
       "        <td>Reaction to Other Uninvolved Vehicle</td>\n",
       "        <td>4792</td>\n",
       "    </tr>\n",
       "    <tr>\n",
       "        <td>Passing Too Closely</td>\n",
       "        <td>4273</td>\n",
       "    </tr>\n",
       "    <tr>\n",
       "        <td>Alcohol Involvement</td>\n",
       "        <td>4235</td>\n",
       "    </tr>\n",
       "    <tr>\n",
       "        <td>Pavement Slippery</td>\n",
       "        <td>3831</td>\n",
       "    </tr>\n",
       "</table>"
      ],
      "text/plain": [
       "[('Driver Inattention/Distraction', 94879),\n",
       " ('Following Too Closely', 38981),\n",
       " ('Failure to Yield Right-of-Way', 28181),\n",
       " ('Backing Unsafely', 19613),\n",
       " ('Passing or Lane Usage Improper', 18149),\n",
       " ('Unsafe Lane Changing', 14748),\n",
       " ('Other Vehicular', 10448),\n",
       " ('Turning Improperly', 10067),\n",
       " ('Traffic Control Disregarded', 7233),\n",
       " ('Driver Inexperience', 6755),\n",
       " ('Unsafe Speed', 5837),\n",
       " ('Reaction to Other Uninvolved Vehicle', 4792),\n",
       " ('Passing Too Closely', 4273),\n",
       " ('Alcohol Involvement', 4235),\n",
       " ('Pavement Slippery', 3831)]"
      ]
     },
     "execution_count": 65,
     "metadata": {},
     "output_type": "execute_result"
    }
   ],
   "source": [
    "%%sql\n",
    "SELECT contributing_factor, COUNT(*) count\n",
    "FROM collision\n",
    "JOIN participants\n",
    "  ON collision.participants_key = participants.participants_key\n",
    "WHERE contributing_factor not in('Unspecified') \n",
    "GROUP BY contributing_factor\n",
    "ORDER BY count(*) DESC\n",
    "LIMIT 15;"
   ]
  },
  {
   "cell_type": "markdown",
   "metadata": {},
   "source": [
    "#### From the analysis, ignoring the unspecified factor, we find that the most frequent factor is Driver Inattention/Distraction, following too closely and Failure to Yield Right-of-Way. This shows that the most collisions are caused by mistakes from drivers, but not natural factors, like pavement slippery, just ranked 15th. This is kind of beyond our expectation."
   ]
  },
  {
   "cell_type": "markdown",
   "metadata": {},
   "source": [
    "#### How many people injured or killed in different kind of factors."
   ]
  },
  {
   "cell_type": "code",
   "execution_count": 56,
   "metadata": {},
   "outputs": [
    {
     "name": "stdout",
     "output_type": "stream",
     "text": [
      " * postgresql://student@/project4\n",
      "15 rows affected.\n"
     ]
    },
    {
     "data": {
      "text/html": [
       "<table>\n",
       "    <tr>\n",
       "        <th>total_injured</th>\n",
       "        <th>total_killed</th>\n",
       "        <th>contributing_factor</th>\n",
       "    </tr>\n",
       "    <tr>\n",
       "        <td>25883</td>\n",
       "        <td>61</td>\n",
       "        <td>Driver Inattention/Distraction</td>\n",
       "    </tr>\n",
       "    <tr>\n",
       "        <td>12251</td>\n",
       "        <td>41</td>\n",
       "        <td>Failure to Yield Right-of-Way</td>\n",
       "    </tr>\n",
       "    <tr>\n",
       "        <td>12107</td>\n",
       "        <td>4</td>\n",
       "        <td>Following Too Closely</td>\n",
       "    </tr>\n",
       "    <tr>\n",
       "        <td>4675</td>\n",
       "        <td>13</td>\n",
       "        <td>Traffic Control Disregarded</td>\n",
       "    </tr>\n",
       "    <tr>\n",
       "        <td>3708</td>\n",
       "        <td>66</td>\n",
       "        <td>Unsafe Speed</td>\n",
       "    </tr>\n",
       "    <tr>\n",
       "        <td>2348</td>\n",
       "        <td>10</td>\n",
       "        <td>Other Vehicular</td>\n",
       "    </tr>\n",
       "    <tr>\n",
       "        <td>2302</td>\n",
       "        <td>5</td>\n",
       "        <td>Passing or Lane Usage Improper</td>\n",
       "    </tr>\n",
       "    <tr>\n",
       "        <td>2165</td>\n",
       "        <td>5</td>\n",
       "        <td>Unsafe Lane Changing</td>\n",
       "    </tr>\n",
       "    <tr>\n",
       "        <td>2099</td>\n",
       "        <td>3</td>\n",
       "        <td>Turning Improperly</td>\n",
       "    </tr>\n",
       "    <tr>\n",
       "        <td>2016</td>\n",
       "        <td>12</td>\n",
       "        <td>Alcohol Involvement</td>\n",
       "    </tr>\n",
       "    <tr>\n",
       "        <td>1943</td>\n",
       "        <td>5</td>\n",
       "        <td>Backing Unsafely</td>\n",
       "    </tr>\n",
       "    <tr>\n",
       "        <td>1907</td>\n",
       "        <td>20</td>\n",
       "        <td>Pedestrian/Bicyclist/Other Pedestrian Error/Confusion</td>\n",
       "    </tr>\n",
       "    <tr>\n",
       "        <td>1548</td>\n",
       "        <td>4</td>\n",
       "        <td>MISS</td>\n",
       "    </tr>\n",
       "    <tr>\n",
       "        <td>1533</td>\n",
       "        <td>9</td>\n",
       "        <td>Driver Inexperience</td>\n",
       "    </tr>\n",
       "    <tr>\n",
       "        <td>1258</td>\n",
       "        <td>1</td>\n",
       "        <td>Reaction to Other Uninvolved Vehicle</td>\n",
       "    </tr>\n",
       "</table>"
      ],
      "text/plain": [
       "[(25883, 61, 'Driver Inattention/Distraction'),\n",
       " (12251, 41, 'Failure to Yield Right-of-Way'),\n",
       " (12107, 4, 'Following Too Closely'),\n",
       " (4675, 13, 'Traffic Control Disregarded'),\n",
       " (3708, 66, 'Unsafe Speed'),\n",
       " (2348, 10, 'Other Vehicular'),\n",
       " (2302, 5, 'Passing or Lane Usage Improper'),\n",
       " (2165, 5, 'Unsafe Lane Changing'),\n",
       " (2099, 3, 'Turning Improperly'),\n",
       " (2016, 12, 'Alcohol Involvement'),\n",
       " (1943, 5, 'Backing Unsafely'),\n",
       " (1907, 20, 'Pedestrian/Bicyclist/Other Pedestrian Error/Confusion'),\n",
       " (1548, 4, 'MISS'),\n",
       " (1533, 9, 'Driver Inexperience'),\n",
       " (1258, 1, 'Reaction to Other Uninvolved Vehicle')]"
      ]
     },
     "execution_count": 56,
     "metadata": {},
     "output_type": "execute_result"
    }
   ],
   "source": [
    "%%sql\n",
    "SELECT sum(persons_injured) as total_injured,sum(persons_killed) as total_killed, contributing_factor\n",
    "FROM collision\n",
    "JOIN participants\n",
    "  ON collision.participants_key = participants.participants_key\n",
    "WHERE contributing_factor not in('Unspecified') \n",
    "GROUP BY contributing_factor\n",
    "ORDER BY total_injured DESC\n",
    "LIMIT 15;"
   ]
  },
  {
   "cell_type": "code",
   "execution_count": 57,
   "metadata": {},
   "outputs": [
    {
     "data": {
      "text/plain": [
       "<BarContainer object of 15 artists>"
      ]
     },
     "execution_count": 57,
     "metadata": {},
     "output_type": "execute_result"
    },
    {
     "data": {
      "image/png": "[encoded data removed]",
      "text/plain": [
       "<Figure size 432x288 with 1 Axes>"
      ]
     },
     "metadata": {
      "needs_background": "light"
     },
     "output_type": "display_data"
    }
   ],
   "source": [
    "_.bar()"
   ]
  },
  {
   "cell_type": "markdown",
   "metadata": {},
   "source": [
    "#### FROM the result, we find that most people(more than 10,000) injured due to Driver Inattention/Distraction,Failure to Yield Right-of-Way,Following Too Closely. And most people(more than 30) killed due to Driver Inattention/Distraction, Failure to Yield Right-of-Way, Unsafe Speed. We really should pay attention to safe driving."
   ]
  },
  {
   "cell_type": "markdown",
   "metadata": {},
   "source": [
    "#### What's the TOP 10 vehicle type combination of collisions  ?"
   ]
  },
  {
   "cell_type": "code",
   "execution_count": 54,
   "metadata": {},
   "outputs": [
    {
     "name": "stdout",
     "output_type": "stream",
     "text": [
      " * postgresql://student@/project4\n",
      "10 rows affected.\n"
     ]
    },
    {
     "data": {
      "text/html": [
       "<table>\n",
       "    <tr>\n",
       "        <th>all_vehicles</th>\n",
       "        <th>count</th>\n",
       "    </tr>\n",
       "    <tr>\n",
       "        <td>PASSENGER VEHICLE PASSENGER VEHICLE   </td>\n",
       "        <td>48844</td>\n",
       "    </tr>\n",
       "    <tr>\n",
       "        <td>PASSENGER VEHICLE    </td>\n",
       "        <td>39420</td>\n",
       "    </tr>\n",
       "    <tr>\n",
       "        <td>PASSENGER VEHICLE SPORT UTILITY / STATION WAGON   </td>\n",
       "        <td>29458</td>\n",
       "    </tr>\n",
       "    <tr>\n",
       "        <td>SPORT UTILITY / STATION WAGON PASSENGER VEHICLE   </td>\n",
       "        <td>29090</td>\n",
       "    </tr>\n",
       "    <tr>\n",
       "        <td>SPORT UTILITY / STATION WAGON SPORT UTILITY / STATION WAGON   </td>\n",
       "        <td>28618</td>\n",
       "    </tr>\n",
       "    <tr>\n",
       "        <td>SPORT UTILITY / STATION WAGON    </td>\n",
       "        <td>25080</td>\n",
       "    </tr>\n",
       "    <tr>\n",
       "        <td>Sedan Sedan   </td>\n",
       "        <td>18130</td>\n",
       "    </tr>\n",
       "    <tr>\n",
       "        <td>Station Wagon/Sport Utility Vehicle Station Wagon/Sport Utility Vehicle   </td>\n",
       "        <td>12302</td>\n",
       "    </tr>\n",
       "    <tr>\n",
       "        <td>Station Wagon/Sport Utility Vehicle Sedan   </td>\n",
       "        <td>12093</td>\n",
       "    </tr>\n",
       "    <tr>\n",
       "        <td>Sedan Station Wagon/Sport Utility Vehicle   </td>\n",
       "        <td>12039</td>\n",
       "    </tr>\n",
       "</table>"
      ],
      "text/plain": [
       "[('PASSENGER VEHICLE PASSENGER VEHICLE   ', 48844),\n",
       " ('PASSENGER VEHICLE    ', 39420),\n",
       " ('PASSENGER VEHICLE SPORT UTILITY / STATION WAGON   ', 29458),\n",
       " ('SPORT UTILITY / STATION WAGON PASSENGER VEHICLE   ', 29090),\n",
       " ('SPORT UTILITY / STATION WAGON SPORT UTILITY / STATION WAGON   ', 28618),\n",
       " ('SPORT UTILITY / STATION WAGON    ', 25080),\n",
       " ('Sedan Sedan   ', 18130),\n",
       " ('Station Wagon/Sport Utility Vehicle Station Wagon/Sport Utility Vehicle   ', 12302),\n",
       " ('Station Wagon/Sport Utility Vehicle Sedan   ', 12093),\n",
       " ('Sedan Station Wagon/Sport Utility Vehicle   ', 12039)]"
      ]
     },
     "execution_count": 54,
     "metadata": {},
     "output_type": "execute_result"
    }
   ],
   "source": [
    "%%sql\n",
    "SELECT all_vehicles, COUNT(*) count\n",
    "FROM collision\n",
    "JOIN participants\n",
    "  ON collision.participants_key = participants.participants_key\n",
    "GROUP BY all_vehicles\n",
    "ORDER BY count(*) DESC\n",
    "LIMIT 10;"
   ]
  },
  {
   "cell_type": "code",
   "execution_count": 55,
   "metadata": {},
   "outputs": [
    {
     "data": {
      "text/plain": [
       "([<matplotlib.patches.Wedge at 0x7f84a5abb898>,\n",
       "  <matplotlib.patches.Wedge at 0x7f84a5abbd68>,\n",
       "  <matplotlib.patches.Wedge at 0x7f84a5ac22e8>,\n",
       "  <matplotlib.patches.Wedge at 0x7f84a5ac2828>,\n",
       "  <matplotlib.patches.Wedge at 0x7f84a5ac2d68>,\n",
       "  <matplotlib.patches.Wedge at 0x7f84a5ac82e8>,\n",
       "  <matplotlib.patches.Wedge at 0x7f84a5ac8828>,\n",
       "  <matplotlib.patches.Wedge at 0x7f84a5ac8d68>,\n",
       "  <matplotlib.patches.Wedge at 0x7f84a5ace2e8>,\n",
       "  <matplotlib.patches.Wedge at 0x7f84a5ace828>],\n",
       " [Text(0.906885,0.622542,'PASSENGER VEHICLE PASSENGER VEHICLE   '),\n",
       "  Text(-0.129368,1.09237,'PASSENGER VEHICLE    '),\n",
       "  Text(-0.90501,0.625265,'PASSENGER VEHICLE SPORT UTILITY / STATION WAGON   '),\n",
       "  Text(-1.09254,-0.127875,'SPORT UTILITY / STATION WAGON PASSENGER VEHICLE   '),\n",
       "  Text(-0.744578,-0.809693,'SPORT UTILITY / STATION WAGON SPORT UTILITY / STATION WAGON   '),\n",
       "  Text(-0.0902773,-1.09629,'SPORT UTILITY / STATION WAGON    '),\n",
       "  Text(0.478491,-0.990478,'Sedan Sedan   '),\n",
       "  Text(0.807884,-0.746541,'Station Wagon/Sport Utility Vehicle Station Wagon/Sport Utility Vehicle   '),\n",
       "  Text(0.992637,-0.473996,'Station Wagon/Sport Utility Vehicle Sedan   '),\n",
       "  Text(1.08793,-0.162508,'Sedan Station Wagon/Sport Utility Vehicle   ')])"
      ]
     },
     "execution_count": 55,
     "metadata": {},
     "output_type": "execute_result"
    },
    {
     "data": {
      "image/png": "[encoded data removed]",
      "text/plain": [
       "<Figure size 432x288 with 1 Axes>"
      ]
     },
     "metadata": {},
     "output_type": "display_data"
    }
   ],
   "source": [
    "_.pie()"
   ]
  },
  {
   "cell_type": "markdown",
   "metadata": {},
   "source": [
    "#### From this we find that all top 4 vehicle type combination that includes PASSENGER VEHICLE. This may due to the largest number of passenger vehicles, and the lowest requirement to get a passenger vehicle license.  "
   ]
  },
  {
   "cell_type": "markdown",
   "metadata": {},
   "source": [
    "#### How many people injured or killed in different kind of vehicle combination."
   ]
  },
  {
   "cell_type": "code",
   "execution_count": 84,
   "metadata": {},
   "outputs": [
    {
     "name": "stdout",
     "output_type": "stream",
     "text": [
      " * postgresql://student@/project4\n",
      "10 rows affected.\n"
     ]
    },
    {
     "data": {
      "text/html": [
       "<table>\n",
       "    <tr>\n",
       "        <th>total_injured</th>\n",
       "        <th>total_killed</th>\n",
       "        <th>all_vehicles</th>\n",
       "    </tr>\n",
       "    <tr>\n",
       "        <td>11163</td>\n",
       "        <td>5</td>\n",
       "        <td>PASSENGER VEHICLE PASSENGER VEHICLE   </td>\n",
       "    </tr>\n",
       "    <tr>\n",
       "        <td>9100</td>\n",
       "        <td>53</td>\n",
       "        <td>PASSENGER VEHICLE    </td>\n",
       "    </tr>\n",
       "    <tr>\n",
       "        <td>6152</td>\n",
       "        <td>10</td>\n",
       "        <td>PASSENGER VEHICLE SPORT UTILITY / STATION WAGON   </td>\n",
       "    </tr>\n",
       "    <tr>\n",
       "        <td>6238</td>\n",
       "        <td>4</td>\n",
       "        <td>SPORT UTILITY / STATION WAGON PASSENGER VEHICLE   </td>\n",
       "    </tr>\n",
       "    <tr>\n",
       "        <td>5621</td>\n",
       "        <td>10</td>\n",
       "        <td>SPORT UTILITY / STATION WAGON SPORT UTILITY / STATION WAGON   </td>\n",
       "    </tr>\n",
       "    <tr>\n",
       "        <td>6381</td>\n",
       "        <td>40</td>\n",
       "        <td>SPORT UTILITY / STATION WAGON    </td>\n",
       "    </tr>\n",
       "    <tr>\n",
       "        <td>4526</td>\n",
       "        <td>3</td>\n",
       "        <td>Sedan Sedan   </td>\n",
       "    </tr>\n",
       "    <tr>\n",
       "        <td>2507</td>\n",
       "        <td>3</td>\n",
       "        <td>Station Wagon/Sport Utility Vehicle Station Wagon/Sport Utility Vehicle   </td>\n",
       "    </tr>\n",
       "    <tr>\n",
       "        <td>2822</td>\n",
       "        <td>1</td>\n",
       "        <td>Station Wagon/Sport Utility Vehicle Sedan   </td>\n",
       "    </tr>\n",
       "    <tr>\n",
       "        <td>2760</td>\n",
       "        <td>4</td>\n",
       "        <td>Sedan Station Wagon/Sport Utility Vehicle   </td>\n",
       "    </tr>\n",
       "</table>"
      ],
      "text/plain": [
       "[(11163, 5, 'PASSENGER VEHICLE PASSENGER VEHICLE   '),\n",
       " (9100, 53, 'PASSENGER VEHICLE    '),\n",
       " (6152, 10, 'PASSENGER VEHICLE SPORT UTILITY / STATION WAGON   '),\n",
       " (6238, 4, 'SPORT UTILITY / STATION WAGON PASSENGER VEHICLE   '),\n",
       " (5621, 10, 'SPORT UTILITY / STATION WAGON SPORT UTILITY / STATION WAGON   '),\n",
       " (6381, 40, 'SPORT UTILITY / STATION WAGON    '),\n",
       " (4526, 3, 'Sedan Sedan   '),\n",
       " (2507, 3, 'Station Wagon/Sport Utility Vehicle Station Wagon/Sport Utility Vehicle   '),\n",
       " (2822, 1, 'Station Wagon/Sport Utility Vehicle Sedan   '),\n",
       " (2760, 4, 'Sedan Station Wagon/Sport Utility Vehicle   ')]"
      ]
     },
     "execution_count": 84,
     "metadata": {},
     "output_type": "execute_result"
    }
   ],
   "source": [
    "%%sql\n",
    "SELECT sum(persons_injured) as total_injured,sum(persons_killed) as total_killed, all_vehicles\n",
    "FROM collision\n",
    "JOIN participants\n",
    "  ON collision.participants_key = participants.participants_key\n",
    "\n",
    "GROUP BY all_vehicles\n",
    "ORDER BY count(*) DESC\n",
    "LIMIT 10;"
   ]
  },
  {
   "cell_type": "markdown",
   "metadata": {},
   "source": [
    "#### PASSENGER VEHICLE makes most people killed or injured, also SPORT UTILITY / STATION WAGON related collision kills many people. We should pay attention to these vehicle types."
   ]
  },
  {
   "cell_type": "markdown",
   "metadata": {},
   "source": [
    "#### TOP vehicle type in vehicle1 (which takes the main responsibility)"
   ]
  },
  {
   "cell_type": "code",
   "execution_count": 70,
   "metadata": {},
   "outputs": [
    {
     "name": "stdout",
     "output_type": "stream",
     "text": [
      " * postgresql://student@/project4\n",
      "10 rows affected.\n"
     ]
    },
    {
     "data": {
      "text/html": [
       "<table>\n",
       "    <tr>\n",
       "        <th>vehicle_type_code_1</th>\n",
       "        <th>count</th>\n",
       "    </tr>\n",
       "    <tr>\n",
       "        <td>PASSENGER VEHICLE</td>\n",
       "        <td>143619</td>\n",
       "    </tr>\n",
       "    <tr>\n",
       "        <td>SPORT UTILITY / STATION WAGON</td>\n",
       "        <td>100288</td>\n",
       "    </tr>\n",
       "    <tr>\n",
       "        <td>Sedan</td>\n",
       "        <td>52856</td>\n",
       "    </tr>\n",
       "    <tr>\n",
       "        <td>Station Wagon/Sport Utility Vehicle</td>\n",
       "        <td>40703</td>\n",
       "    </tr>\n",
       "    <tr>\n",
       "        <td>TAXI</td>\n",
       "        <td>14085</td>\n",
       "    </tr>\n",
       "    <tr>\n",
       "        <td>PICK-UP TRUCK</td>\n",
       "        <td>8511</td>\n",
       "    </tr>\n",
       "    <tr>\n",
       "        <td>MISS</td>\n",
       "        <td>6711</td>\n",
       "    </tr>\n",
       "    <tr>\n",
       "        <td>Taxi</td>\n",
       "        <td>5468</td>\n",
       "    </tr>\n",
       "    <tr>\n",
       "        <td>Pick-up Truck</td>\n",
       "        <td>3637</td>\n",
       "    </tr>\n",
       "    <tr>\n",
       "        <td>Box Truck</td>\n",
       "        <td>2466</td>\n",
       "    </tr>\n",
       "</table>"
      ],
      "text/plain": [
       "[('PASSENGER VEHICLE', 143619),\n",
       " ('SPORT UTILITY / STATION WAGON', 100288),\n",
       " ('Sedan', 52856),\n",
       " ('Station Wagon/Sport Utility Vehicle', 40703),\n",
       " ('TAXI', 14085),\n",
       " ('PICK-UP TRUCK', 8511),\n",
       " ('MISS', 6711),\n",
       " ('Taxi', 5468),\n",
       " ('Pick-up Truck', 3637),\n",
       " ('Box Truck', 2466)]"
      ]
     },
     "execution_count": 70,
     "metadata": {},
     "output_type": "execute_result"
    }
   ],
   "source": [
    "%%sql\n",
    "SELECT Vehicle_Type_Code_1, COUNT(*) count\n",
    "FROM collision\n",
    "JOIN participants\n",
    "  ON collision.participants_key = participants.participants_key\n",
    "GROUP BY Vehicle_Type_Code_1\n",
    "ORDER BY count(*) DESC\n",
    "LIMIT 10;"
   ]
  },
  {
   "cell_type": "markdown",
   "metadata": {},
   "source": [
    "#### The vehicle types that occurs most collisions are PASSENGER VEHICLE, SPORT UTILITY / STATION WAGON and Sedan."
   ]
  },
  {
   "cell_type": "markdown",
   "metadata": {},
   "source": [
    "## Bonus Part"
   ]
  },
  {
   "cell_type": "markdown",
   "metadata": {},
   "source": [
    "We choose a dataset about weather in new york city between 1/1/2017 to 10/27/2017, 10 months in total about humidity, pressure, temperature, wind and description. We can use this new data to combined our original data, to analyze whether the number of collisions, people injured and people killed are related to the weather condition of NYC."
   ]
  },
  {
   "cell_type": "code",
   "execution_count": 42,
   "metadata": {},
   "outputs": [
    {
     "name": "stdout",
     "output_type": "stream",
     "text": [
      " * postgresql://student@/project4\n",
      "Done.\n",
      "Done.\n"
     ]
    },
    {
     "data": {
      "text/plain": [
       "[]"
      ]
     },
     "execution_count": 42,
     "metadata": {},
     "output_type": "execute_result"
    }
   ],
   "source": [
    "%%sql\n",
    "DROP TABLE IF EXISTS weather;\n",
    "\n",
    "CREATE TABLE weather (\n",
    "\n",
    "    datetime timestamp,\n",
    "    humidity INTEGER ,\n",
    "    pressure INTEGER ,\n",
    "    temperature numeric ,\n",
    "    wind INTEGER ,\n",
    "    description VARCHAR(50)\n",
    ")"
   ]
  },
  {
   "cell_type": "code",
   "execution_count": 43,
   "metadata": {},
   "outputs": [
    {
     "name": "stdout",
     "output_type": "stream",
     "text": [
      " * postgresql://student@/project4\n",
      "7201 rows affected.\n"
     ]
    },
    {
     "data": {
      "text/plain": [
       "[]"
      ]
     },
     "execution_count": 43,
     "metadata": {},
     "output_type": "execute_result"
    }
   ],
   "source": [
    "%%sql\n",
    "COPY weather FROM '/home/ubuntu/Project4/weather.csv'\n",
    "CSV\n",
    "HEADER;"
   ]
  },
  {
   "cell_type": "markdown",
   "metadata": {},
   "source": [
    "#### Verify that all rows from weather.csv are affected."
   ]
  },
  {
   "cell_type": "code",
   "execution_count": 44,
   "metadata": {},
   "outputs": [
    {
     "name": "stdout",
     "output_type": "stream",
     "text": [
      " * postgresql://student@/project4\n",
      "5 rows affected.\n"
     ]
    },
    {
     "data": {
      "text/html": [
       "<table>\n",
       "    <tr>\n",
       "        <th>datetime</th>\n",
       "        <th>humidity</th>\n",
       "        <th>pressure</th>\n",
       "        <th>temperature</th>\n",
       "        <th>wind</th>\n",
       "        <th>description</th>\n",
       "    </tr>\n",
       "    <tr>\n",
       "        <td>2017-01-01 00:00:00</td>\n",
       "        <td>44</td>\n",
       "        <td>1014</td>\n",
       "        <td>278.76</td>\n",
       "        <td>4</td>\n",
       "        <td>broken clouds</td>\n",
       "    </tr>\n",
       "    <tr>\n",
       "        <td>2017-01-01 01:00:00</td>\n",
       "        <td>48</td>\n",
       "        <td>1014</td>\n",
       "        <td>278.69</td>\n",
       "        <td>4</td>\n",
       "        <td>broken clouds</td>\n",
       "    </tr>\n",
       "    <tr>\n",
       "        <td>2017-01-01 02:00:00</td>\n",
       "        <td>48</td>\n",
       "        <td>1013</td>\n",
       "        <td>278.92</td>\n",
       "        <td>3</td>\n",
       "        <td>broken clouds</td>\n",
       "    </tr>\n",
       "    <tr>\n",
       "        <td>2017-01-01 03:00:00</td>\n",
       "        <td>48</td>\n",
       "        <td>1013</td>\n",
       "        <td>278.65</td>\n",
       "        <td>2</td>\n",
       "        <td>overcast clouds</td>\n",
       "    </tr>\n",
       "    <tr>\n",
       "        <td>2017-01-01 04:00:00</td>\n",
       "        <td>45</td>\n",
       "        <td>1013</td>\n",
       "        <td>278.84</td>\n",
       "        <td>1</td>\n",
       "        <td>light snow</td>\n",
       "    </tr>\n",
       "</table>"
      ],
      "text/plain": [
       "[(datetime.datetime(2017, 1, 1, 0, 0), 44, 1014, Decimal('278.76'), 4, 'broken clouds'),\n",
       " (datetime.datetime(2017, 1, 1, 1, 0), 48, 1014, Decimal('278.69'), 4, 'broken clouds'),\n",
       " (datetime.datetime(2017, 1, 1, 2, 0), 48, 1013, Decimal('278.92'), 3, 'broken clouds'),\n",
       " (datetime.datetime(2017, 1, 1, 3, 0), 48, 1013, Decimal('278.65'), 2, 'overcast clouds'),\n",
       " (datetime.datetime(2017, 1, 1, 4, 0), 45, 1013, Decimal('278.84'), 1, 'light snow')]"
      ]
     },
     "execution_count": 44,
     "metadata": {},
     "output_type": "execute_result"
    }
   ],
   "source": [
    "%%sql\n",
    "select * from weather\n",
    "limit 5"
   ]
  },
  {
   "cell_type": "code",
   "execution_count": 45,
   "metadata": {},
   "outputs": [
    {
     "name": "stdout",
     "output_type": "stream",
     "text": [
      " * postgresql://student@/project4\n",
      "Done.\n"
     ]
    },
    {
     "data": {
      "text/plain": [
       "[]"
      ]
     },
     "execution_count": 45,
     "metadata": {},
     "output_type": "execute_result"
    }
   ],
   "source": [
    "%%sql\n",
    "ALTER TABLE weather\n",
    "ADD key serial"
   ]
  },
  {
   "cell_type": "markdown",
   "metadata": {},
   "source": [
    "#### Create a temporary table, weathertime, to get the split of datetime column."
   ]
  },
  {
   "cell_type": "code",
   "execution_count": 46,
   "metadata": {},
   "outputs": [
    {
     "name": "stdout",
     "output_type": "stream",
     "text": [
      " * postgresql://student@/project4\n",
      "Done.\n",
      "Done.\n"
     ]
    },
    {
     "data": {
      "text/plain": [
       "[]"
      ]
     },
     "execution_count": 46,
     "metadata": {},
     "output_type": "execute_result"
    }
   ],
   "source": [
    "%%sql\n",
    "DROP TABLE IF EXISTS weathertime;\n",
    "\n",
    "CREATE TABLE weathertime (\n",
    "    key serial,\n",
    "    datetime VARCHAR(50),\n",
    "    year VARCHAR(15),\n",
    "    month VARCHAR(15),\n",
    "    day VARCHAR(15),\n",
    "    hour VARCHAR(15)\n",
    ");"
   ]
  },
  {
   "cell_type": "markdown",
   "metadata": {},
   "source": [
    "#### Split datetime into 4 piece"
   ]
  },
  {
   "cell_type": "code",
   "execution_count": 47,
   "metadata": {},
   "outputs": [
    {
     "name": "stdout",
     "output_type": "stream",
     "text": [
      " * postgresql://student@/project4\n",
      "7201 rows affected.\n"
     ]
    },
    {
     "data": {
      "text/plain": [
       "[]"
      ]
     },
     "execution_count": 47,
     "metadata": {},
     "output_type": "execute_result"
    }
   ],
   "source": [
    "%%sql\n",
    "INSERT INTO weathertime (datetime,year,month,day,hour)\n",
    "SELECT DISTINCT \n",
    "    TO_CHAR(datetime, 'MM/DD/YYYY HH24:00:00') AS datetime,\n",
    "    TO_CHAR(datetime, 'YYYY') AS year, \n",
    "    TO_CHAR(datetime, 'MM') AS month,\n",
    "    TO_CHAR(datetime, 'DD') AS day,\n",
    "    TO_CHAR(datetime, 'HH24') AS hour\n",
    "From weather\n",
    "order by datetime"
   ]
  },
  {
   "cell_type": "code",
   "execution_count": 48,
   "metadata": {},
   "outputs": [
    {
     "name": "stdout",
     "output_type": "stream",
     "text": [
      " * postgresql://student@/project4\n",
      "10 rows affected.\n"
     ]
    },
    {
     "data": {
      "text/html": [
       "<table>\n",
       "    <tr>\n",
       "        <th>key</th>\n",
       "        <th>datetime</th>\n",
       "        <th>year</th>\n",
       "        <th>month</th>\n",
       "        <th>day</th>\n",
       "        <th>hour</th>\n",
       "    </tr>\n",
       "    <tr>\n",
       "        <td>1</td>\n",
       "        <td>01/01/2017 00:00:00</td>\n",
       "        <td>2017</td>\n",
       "        <td>01</td>\n",
       "        <td>01</td>\n",
       "        <td>00</td>\n",
       "    </tr>\n",
       "    <tr>\n",
       "        <td>2</td>\n",
       "        <td>01/01/2017 01:00:00</td>\n",
       "        <td>2017</td>\n",
       "        <td>01</td>\n",
       "        <td>01</td>\n",
       "        <td>01</td>\n",
       "    </tr>\n",
       "    <tr>\n",
       "        <td>3</td>\n",
       "        <td>01/01/2017 02:00:00</td>\n",
       "        <td>2017</td>\n",
       "        <td>01</td>\n",
       "        <td>01</td>\n",
       "        <td>02</td>\n",
       "    </tr>\n",
       "    <tr>\n",
       "        <td>4</td>\n",
       "        <td>01/01/2017 03:00:00</td>\n",
       "        <td>2017</td>\n",
       "        <td>01</td>\n",
       "        <td>01</td>\n",
       "        <td>03</td>\n",
       "    </tr>\n",
       "    <tr>\n",
       "        <td>5</td>\n",
       "        <td>01/01/2017 04:00:00</td>\n",
       "        <td>2017</td>\n",
       "        <td>01</td>\n",
       "        <td>01</td>\n",
       "        <td>04</td>\n",
       "    </tr>\n",
       "    <tr>\n",
       "        <td>6</td>\n",
       "        <td>01/01/2017 05:00:00</td>\n",
       "        <td>2017</td>\n",
       "        <td>01</td>\n",
       "        <td>01</td>\n",
       "        <td>05</td>\n",
       "    </tr>\n",
       "    <tr>\n",
       "        <td>7</td>\n",
       "        <td>01/01/2017 06:00:00</td>\n",
       "        <td>2017</td>\n",
       "        <td>01</td>\n",
       "        <td>01</td>\n",
       "        <td>06</td>\n",
       "    </tr>\n",
       "    <tr>\n",
       "        <td>8</td>\n",
       "        <td>01/01/2017 07:00:00</td>\n",
       "        <td>2017</td>\n",
       "        <td>01</td>\n",
       "        <td>01</td>\n",
       "        <td>07</td>\n",
       "    </tr>\n",
       "    <tr>\n",
       "        <td>9</td>\n",
       "        <td>01/01/2017 08:00:00</td>\n",
       "        <td>2017</td>\n",
       "        <td>01</td>\n",
       "        <td>01</td>\n",
       "        <td>08</td>\n",
       "    </tr>\n",
       "    <tr>\n",
       "        <td>10</td>\n",
       "        <td>01/01/2017 09:00:00</td>\n",
       "        <td>2017</td>\n",
       "        <td>01</td>\n",
       "        <td>01</td>\n",
       "        <td>09</td>\n",
       "    </tr>\n",
       "</table>"
      ],
      "text/plain": [
       "[(1, '01/01/2017 00:00:00', '2017', '01', '01', '00'),\n",
       " (2, '01/01/2017 01:00:00', '2017', '01', '01', '01'),\n",
       " (3, '01/01/2017 02:00:00', '2017', '01', '01', '02'),\n",
       " (4, '01/01/2017 03:00:00', '2017', '01', '01', '03'),\n",
       " (5, '01/01/2017 04:00:00', '2017', '01', '01', '04'),\n",
       " (6, '01/01/2017 05:00:00', '2017', '01', '01', '05'),\n",
       " (7, '01/01/2017 06:00:00', '2017', '01', '01', '06'),\n",
       " (8, '01/01/2017 07:00:00', '2017', '01', '01', '07'),\n",
       " (9, '01/01/2017 08:00:00', '2017', '01', '01', '08'),\n",
       " (10, '01/01/2017 09:00:00', '2017', '01', '01', '09')]"
      ]
     },
     "execution_count": 48,
     "metadata": {},
     "output_type": "execute_result"
    }
   ],
   "source": [
    "%%sql\n",
    "select * from weathertime\n",
    "\n",
    "limit 10"
   ]
  },
  {
   "cell_type": "markdown",
   "metadata": {},
   "source": [
    "#### update the weather table, to insert new columns of year, month, day, hour from weathertime table. This will be used to get related with alltime table and collision table."
   ]
  },
  {
   "cell_type": "code",
   "execution_count": 49,
   "metadata": {},
   "outputs": [
    {
     "name": "stdout",
     "output_type": "stream",
     "text": [
      " * postgresql://student@/project4\n",
      "Done.\n"
     ]
    },
    {
     "data": {
      "text/plain": [
       "[]"
      ]
     },
     "execution_count": 49,
     "metadata": {},
     "output_type": "execute_result"
    }
   ],
   "source": [
    "%%sql\n",
    "ALTER TABLE weather\n",
    "ADD year VARCHAR(15),\n",
    "ADD month VARCHAR(15), \n",
    "ADD day VARCHAR(15),\n",
    "ADD hour VARCHAR(15)"
   ]
  },
  {
   "cell_type": "code",
   "execution_count": 50,
   "metadata": {},
   "outputs": [
    {
     "name": "stdout",
     "output_type": "stream",
     "text": [
      " * postgresql://student@/project4\n",
      "10 rows affected.\n"
     ]
    },
    {
     "data": {
      "text/html": [
       "<table>\n",
       "    <tr>\n",
       "        <th>datetime</th>\n",
       "        <th>humidity</th>\n",
       "        <th>pressure</th>\n",
       "        <th>temperature</th>\n",
       "        <th>wind</th>\n",
       "        <th>description</th>\n",
       "        <th>key</th>\n",
       "        <th>year</th>\n",
       "        <th>month</th>\n",
       "        <th>day</th>\n",
       "        <th>hour</th>\n",
       "    </tr>\n",
       "    <tr>\n",
       "        <td>2017-01-01 00:00:00</td>\n",
       "        <td>44</td>\n",
       "        <td>1014</td>\n",
       "        <td>278.76</td>\n",
       "        <td>4</td>\n",
       "        <td>broken clouds</td>\n",
       "        <td>1</td>\n",
       "        <td>None</td>\n",
       "        <td>None</td>\n",
       "        <td>None</td>\n",
       "        <td>None</td>\n",
       "    </tr>\n",
       "    <tr>\n",
       "        <td>2017-01-01 01:00:00</td>\n",
       "        <td>48</td>\n",
       "        <td>1014</td>\n",
       "        <td>278.69</td>\n",
       "        <td>4</td>\n",
       "        <td>broken clouds</td>\n",
       "        <td>2</td>\n",
       "        <td>None</td>\n",
       "        <td>None</td>\n",
       "        <td>None</td>\n",
       "        <td>None</td>\n",
       "    </tr>\n",
       "    <tr>\n",
       "        <td>2017-01-01 02:00:00</td>\n",
       "        <td>48</td>\n",
       "        <td>1013</td>\n",
       "        <td>278.92</td>\n",
       "        <td>3</td>\n",
       "        <td>broken clouds</td>\n",
       "        <td>3</td>\n",
       "        <td>None</td>\n",
       "        <td>None</td>\n",
       "        <td>None</td>\n",
       "        <td>None</td>\n",
       "    </tr>\n",
       "    <tr>\n",
       "        <td>2017-01-01 03:00:00</td>\n",
       "        <td>48</td>\n",
       "        <td>1013</td>\n",
       "        <td>278.65</td>\n",
       "        <td>2</td>\n",
       "        <td>overcast clouds</td>\n",
       "        <td>4</td>\n",
       "        <td>None</td>\n",
       "        <td>None</td>\n",
       "        <td>None</td>\n",
       "        <td>None</td>\n",
       "    </tr>\n",
       "    <tr>\n",
       "        <td>2017-01-01 04:00:00</td>\n",
       "        <td>45</td>\n",
       "        <td>1013</td>\n",
       "        <td>278.84</td>\n",
       "        <td>1</td>\n",
       "        <td>light snow</td>\n",
       "        <td>5</td>\n",
       "        <td>None</td>\n",
       "        <td>None</td>\n",
       "        <td>None</td>\n",
       "        <td>None</td>\n",
       "    </tr>\n",
       "    <tr>\n",
       "        <td>2017-01-01 05:00:00</td>\n",
       "        <td>45</td>\n",
       "        <td>1013</td>\n",
       "        <td>279.07</td>\n",
       "        <td>2</td>\n",
       "        <td>overcast clouds</td>\n",
       "        <td>6</td>\n",
       "        <td>None</td>\n",
       "        <td>None</td>\n",
       "        <td>None</td>\n",
       "        <td>None</td>\n",
       "    </tr>\n",
       "    <tr>\n",
       "        <td>2017-01-01 06:00:00</td>\n",
       "        <td>45</td>\n",
       "        <td>1013</td>\n",
       "        <td>279.14</td>\n",
       "        <td>2</td>\n",
       "        <td>overcast clouds</td>\n",
       "        <td>7</td>\n",
       "        <td>None</td>\n",
       "        <td>None</td>\n",
       "        <td>None</td>\n",
       "        <td>None</td>\n",
       "    </tr>\n",
       "    <tr>\n",
       "        <td>2017-01-01 07:00:00</td>\n",
       "        <td>45</td>\n",
       "        <td>1012</td>\n",
       "        <td>279.21</td>\n",
       "        <td>3</td>\n",
       "        <td>light snow</td>\n",
       "        <td>8</td>\n",
       "        <td>None</td>\n",
       "        <td>None</td>\n",
       "        <td>None</td>\n",
       "        <td>None</td>\n",
       "    </tr>\n",
       "    <tr>\n",
       "        <td>2017-01-01 08:00:00</td>\n",
       "        <td>45</td>\n",
       "        <td>1013</td>\n",
       "        <td>279.43</td>\n",
       "        <td>3</td>\n",
       "        <td>overcast clouds</td>\n",
       "        <td>9</td>\n",
       "        <td>None</td>\n",
       "        <td>None</td>\n",
       "        <td>None</td>\n",
       "        <td>None</td>\n",
       "    </tr>\n",
       "    <tr>\n",
       "        <td>2017-01-01 09:00:00</td>\n",
       "        <td>42</td>\n",
       "        <td>1014</td>\n",
       "        <td>279.5</td>\n",
       "        <td>4</td>\n",
       "        <td>scattered clouds</td>\n",
       "        <td>10</td>\n",
       "        <td>None</td>\n",
       "        <td>None</td>\n",
       "        <td>None</td>\n",
       "        <td>None</td>\n",
       "    </tr>\n",
       "</table>"
      ],
      "text/plain": [
       "[(datetime.datetime(2017, 1, 1, 0, 0), 44, 1014, Decimal('278.76'), 4, 'broken clouds', 1, None, None, None, None),\n",
       " (datetime.datetime(2017, 1, 1, 1, 0), 48, 1014, Decimal('278.69'), 4, 'broken clouds', 2, None, None, None, None),\n",
       " (datetime.datetime(2017, 1, 1, 2, 0), 48, 1013, Decimal('278.92'), 3, 'broken clouds', 3, None, None, None, None),\n",
       " (datetime.datetime(2017, 1, 1, 3, 0), 48, 1013, Decimal('278.65'), 2, 'overcast clouds', 4, None, None, None, None),\n",
       " (datetime.datetime(2017, 1, 1, 4, 0), 45, 1013, Decimal('278.84'), 1, 'light snow', 5, None, None, None, None),\n",
       " (datetime.datetime(2017, 1, 1, 5, 0), 45, 1013, Decimal('279.07'), 2, 'overcast clouds', 6, None, None, None, None),\n",
       " (datetime.datetime(2017, 1, 1, 6, 0), 45, 1013, Decimal('279.14'), 2, 'overcast clouds', 7, None, None, None, None),\n",
       " (datetime.datetime(2017, 1, 1, 7, 0), 45, 1012, Decimal('279.21'), 3, 'light snow', 8, None, None, None, None),\n",
       " (datetime.datetime(2017, 1, 1, 8, 0), 45, 1013, Decimal('279.43'), 3, 'overcast clouds', 9, None, None, None, None),\n",
       " (datetime.datetime(2017, 1, 1, 9, 0), 42, 1014, Decimal('279.5'), 4, 'scattered clouds', 10, None, None, None, None)]"
      ]
     },
     "execution_count": 50,
     "metadata": {},
     "output_type": "execute_result"
    }
   ],
   "source": [
    "%%sql\n",
    "select * from weather\n",
    "limit 10"
   ]
  },
  {
   "cell_type": "code",
   "execution_count": 51,
   "metadata": {},
   "outputs": [
    {
     "name": "stdout",
     "output_type": "stream",
     "text": [
      " * postgresql://student@/project4\n",
      "7201 rows affected.\n"
     ]
    },
    {
     "data": {
      "text/plain": [
       "[]"
      ]
     },
     "execution_count": 51,
     "metadata": {},
     "output_type": "execute_result"
    }
   ],
   "source": [
    "%%sql\n",
    "UPDATE weather \n",
    "SET year = i.year, \n",
    "    month = i.month,\n",
    "    day=i.day,\n",
    "    hour=i.hour\n",
    "FROM (\n",
    "    SELECT key, year, month,day, hour \n",
    "    FROM weathertime) i\n",
    "WHERE \n",
    "    i.key = weather.key"
   ]
  },
  {
   "cell_type": "code",
   "execution_count": 52,
   "metadata": {},
   "outputs": [
    {
     "name": "stdout",
     "output_type": "stream",
     "text": [
      " * postgresql://student@/project4\n",
      "10 rows affected.\n"
     ]
    },
    {
     "data": {
      "text/html": [
       "<table>\n",
       "    <tr>\n",
       "        <th>datetime</th>\n",
       "        <th>humidity</th>\n",
       "        <th>pressure</th>\n",
       "        <th>temperature</th>\n",
       "        <th>wind</th>\n",
       "        <th>description</th>\n",
       "        <th>key</th>\n",
       "        <th>year</th>\n",
       "        <th>month</th>\n",
       "        <th>day</th>\n",
       "        <th>hour</th>\n",
       "    </tr>\n",
       "    <tr>\n",
       "        <td>2017-01-01 00:00:00</td>\n",
       "        <td>44</td>\n",
       "        <td>1014</td>\n",
       "        <td>278.76</td>\n",
       "        <td>4</td>\n",
       "        <td>broken clouds</td>\n",
       "        <td>1</td>\n",
       "        <td>2017</td>\n",
       "        <td>01</td>\n",
       "        <td>01</td>\n",
       "        <td>00</td>\n",
       "    </tr>\n",
       "    <tr>\n",
       "        <td>2017-01-01 01:00:00</td>\n",
       "        <td>48</td>\n",
       "        <td>1014</td>\n",
       "        <td>278.69</td>\n",
       "        <td>4</td>\n",
       "        <td>broken clouds</td>\n",
       "        <td>2</td>\n",
       "        <td>2017</td>\n",
       "        <td>01</td>\n",
       "        <td>01</td>\n",
       "        <td>01</td>\n",
       "    </tr>\n",
       "    <tr>\n",
       "        <td>2017-01-01 02:00:00</td>\n",
       "        <td>48</td>\n",
       "        <td>1013</td>\n",
       "        <td>278.92</td>\n",
       "        <td>3</td>\n",
       "        <td>broken clouds</td>\n",
       "        <td>3</td>\n",
       "        <td>2017</td>\n",
       "        <td>01</td>\n",
       "        <td>01</td>\n",
       "        <td>02</td>\n",
       "    </tr>\n",
       "    <tr>\n",
       "        <td>2017-01-01 03:00:00</td>\n",
       "        <td>48</td>\n",
       "        <td>1013</td>\n",
       "        <td>278.65</td>\n",
       "        <td>2</td>\n",
       "        <td>overcast clouds</td>\n",
       "        <td>4</td>\n",
       "        <td>2017</td>\n",
       "        <td>01</td>\n",
       "        <td>01</td>\n",
       "        <td>03</td>\n",
       "    </tr>\n",
       "    <tr>\n",
       "        <td>2017-01-01 04:00:00</td>\n",
       "        <td>45</td>\n",
       "        <td>1013</td>\n",
       "        <td>278.84</td>\n",
       "        <td>1</td>\n",
       "        <td>light snow</td>\n",
       "        <td>5</td>\n",
       "        <td>2017</td>\n",
       "        <td>01</td>\n",
       "        <td>01</td>\n",
       "        <td>04</td>\n",
       "    </tr>\n",
       "    <tr>\n",
       "        <td>2017-01-01 05:00:00</td>\n",
       "        <td>45</td>\n",
       "        <td>1013</td>\n",
       "        <td>279.07</td>\n",
       "        <td>2</td>\n",
       "        <td>overcast clouds</td>\n",
       "        <td>6</td>\n",
       "        <td>2017</td>\n",
       "        <td>01</td>\n",
       "        <td>01</td>\n",
       "        <td>05</td>\n",
       "    </tr>\n",
       "    <tr>\n",
       "        <td>2017-01-01 06:00:00</td>\n",
       "        <td>45</td>\n",
       "        <td>1013</td>\n",
       "        <td>279.14</td>\n",
       "        <td>2</td>\n",
       "        <td>overcast clouds</td>\n",
       "        <td>7</td>\n",
       "        <td>2017</td>\n",
       "        <td>01</td>\n",
       "        <td>01</td>\n",
       "        <td>06</td>\n",
       "    </tr>\n",
       "    <tr>\n",
       "        <td>2017-01-01 07:00:00</td>\n",
       "        <td>45</td>\n",
       "        <td>1012</td>\n",
       "        <td>279.21</td>\n",
       "        <td>3</td>\n",
       "        <td>light snow</td>\n",
       "        <td>8</td>\n",
       "        <td>2017</td>\n",
       "        <td>01</td>\n",
       "        <td>01</td>\n",
       "        <td>07</td>\n",
       "    </tr>\n",
       "    <tr>\n",
       "        <td>2017-01-01 08:00:00</td>\n",
       "        <td>45</td>\n",
       "        <td>1013</td>\n",
       "        <td>279.43</td>\n",
       "        <td>3</td>\n",
       "        <td>overcast clouds</td>\n",
       "        <td>9</td>\n",
       "        <td>2017</td>\n",
       "        <td>01</td>\n",
       "        <td>01</td>\n",
       "        <td>08</td>\n",
       "    </tr>\n",
       "    <tr>\n",
       "        <td>2017-01-01 09:00:00</td>\n",
       "        <td>42</td>\n",
       "        <td>1014</td>\n",
       "        <td>279.5</td>\n",
       "        <td>4</td>\n",
       "        <td>scattered clouds</td>\n",
       "        <td>10</td>\n",
       "        <td>2017</td>\n",
       "        <td>01</td>\n",
       "        <td>01</td>\n",
       "        <td>09</td>\n",
       "    </tr>\n",
       "</table>"
      ],
      "text/plain": [
       "[(datetime.datetime(2017, 1, 1, 0, 0), 44, 1014, Decimal('278.76'), 4, 'broken clouds', 1, '2017', '01', '01', '00'),\n",
       " (datetime.datetime(2017, 1, 1, 1, 0), 48, 1014, Decimal('278.69'), 4, 'broken clouds', 2, '2017', '01', '01', '01'),\n",
       " (datetime.datetime(2017, 1, 1, 2, 0), 48, 1013, Decimal('278.92'), 3, 'broken clouds', 3, '2017', '01', '01', '02'),\n",
       " (datetime.datetime(2017, 1, 1, 3, 0), 48, 1013, Decimal('278.65'), 2, 'overcast clouds', 4, '2017', '01', '01', '03'),\n",
       " (datetime.datetime(2017, 1, 1, 4, 0), 45, 1013, Decimal('278.84'), 1, 'light snow', 5, '2017', '01', '01', '04'),\n",
       " (datetime.datetime(2017, 1, 1, 5, 0), 45, 1013, Decimal('279.07'), 2, 'overcast clouds', 6, '2017', '01', '01', '05'),\n",
       " (datetime.datetime(2017, 1, 1, 6, 0), 45, 1013, Decimal('279.14'), 2, 'overcast clouds', 7, '2017', '01', '01', '06'),\n",
       " (datetime.datetime(2017, 1, 1, 7, 0), 45, 1012, Decimal('279.21'), 3, 'light snow', 8, '2017', '01', '01', '07'),\n",
       " (datetime.datetime(2017, 1, 1, 8, 0), 45, 1013, Decimal('279.43'), 3, 'overcast clouds', 9, '2017', '01', '01', '08'),\n",
       " (datetime.datetime(2017, 1, 1, 9, 0), 42, 1014, Decimal('279.5'), 4, 'scattered clouds', 10, '2017', '01', '01', '09')]"
      ]
     },
     "execution_count": 52,
     "metadata": {},
     "output_type": "execute_result"
    }
   ],
   "source": [
    "%%sql\n",
    "select * from weather\n",
    "limit 10"
   ]
  },
  {
   "cell_type": "markdown",
   "metadata": {},
   "source": [
    "#### The table and data processing part has finished here. Now we are gonna analyze it with other tables."
   ]
  },
  {
   "cell_type": "markdown",
   "metadata": {},
   "source": [
    "#### 1.What's the relationship between humidity and number of collisions?"
   ]
  },
  {
   "cell_type": "code",
   "execution_count": 141,
   "metadata": {},
   "outputs": [
    {
     "name": "stdout",
     "output_type": "stream",
     "text": [
      " * postgresql://student@/project4\n",
      "Done.\n",
      "88 rows affected.\n"
     ]
    },
    {
     "data": {
      "text/plain": [
       "[]"
      ]
     },
     "execution_count": 141,
     "metadata": {},
     "output_type": "execute_result"
    }
   ],
   "source": [
    "%%sql\n",
    "drop table if exists table1a;\n",
    "create table table1a as\n",
    "(select  humidity,count(collision.*) as a\n",
    "    from (collision join alltime on collision.alltime_key=alltime.alltime_key) join weather on alltime.year=weather.year and alltime.month=weather.month and alltime.day=weather.day and alltime.hour=weather.hour\n",
    "    group by humidity\n",
    "    order by a desc)"
   ]
  },
  {
   "cell_type": "code",
   "execution_count": 142,
   "metadata": {},
   "outputs": [
    {
     "name": "stdout",
     "output_type": "stream",
     "text": [
      " * postgresql://student@/project4\n",
      "Done.\n",
      "88 rows affected.\n"
     ]
    },
    {
     "data": {
      "text/plain": [
       "[]"
      ]
     },
     "execution_count": 142,
     "metadata": {},
     "output_type": "execute_result"
    }
   ],
   "source": [
    "%%sql\n",
    "drop table if exists table1b;\n",
    "create table table1b as\n",
    "(select humidity, count(humidity) as b from weather\n",
    " group by humidity\n",
    ")"
   ]
  },
  {
   "cell_type": "code",
   "execution_count": 149,
   "metadata": {},
   "outputs": [
    {
     "name": "stdout",
     "output_type": "stream",
     "text": [
      " * postgresql://student@/project4\n",
      "10 rows affected.\n"
     ]
    },
    {
     "data": {
      "text/html": [
       "<table>\n",
       "    <tr>\n",
       "        <th>humidity</th>\n",
       "        <th>frequency</th>\n",
       "    </tr>\n",
       "    <tr>\n",
       "        <td>13</td>\n",
       "        <td>39</td>\n",
       "    </tr>\n",
       "    <tr>\n",
       "        <td>14</td>\n",
       "        <td>38</td>\n",
       "    </tr>\n",
       "    <tr>\n",
       "        <td>99</td>\n",
       "        <td>28</td>\n",
       "    </tr>\n",
       "    <tr>\n",
       "        <td>15</td>\n",
       "        <td>28</td>\n",
       "    </tr>\n",
       "    <tr>\n",
       "        <td>17</td>\n",
       "        <td>28</td>\n",
       "    </tr>\n",
       "    <tr>\n",
       "        <td>36</td>\n",
       "        <td>28</td>\n",
       "    </tr>\n",
       "    <tr>\n",
       "        <td>72</td>\n",
       "        <td>27</td>\n",
       "    </tr>\n",
       "    <tr>\n",
       "        <td>45</td>\n",
       "        <td>27</td>\n",
       "    </tr>\n",
       "    <tr>\n",
       "        <td>21</td>\n",
       "        <td>27</td>\n",
       "    </tr>\n",
       "    <tr>\n",
       "        <td>82</td>\n",
       "        <td>27</td>\n",
       "    </tr>\n",
       "</table>"
      ],
      "text/plain": [
       "[(13, 39),\n",
       " (14, 38),\n",
       " (99, 28),\n",
       " (15, 28),\n",
       " (17, 28),\n",
       " (36, 28),\n",
       " (72, 27),\n",
       " (45, 27),\n",
       " (21, 27),\n",
       " (82, 27)]"
      ]
     },
     "execution_count": 149,
     "metadata": {},
     "output_type": "execute_result"
    }
   ],
   "source": [
    "%%sql\n",
    "select table1a.humidity, a/b as frequency from table1a join table1b on table1a.humidity=table1b.humidity\n",
    "order by frequency desc\n",
    "limit 10"
   ]
  },
  {
   "cell_type": "code",
   "execution_count": 150,
   "metadata": {},
   "outputs": [
    {
     "data": {
      "text/plain": [
       "<BarContainer object of 10 artists>"
      ]
     },
     "execution_count": 150,
     "metadata": {},
     "output_type": "execute_result"
    },
    {
     "data": {
      "image/png": "[encoded data removed]",
      "text/plain": [
       "<Figure size 432x288 with 1 Axes>"
      ]
     },
     "metadata": {
      "needs_background": "light"
     },
     "output_type": "display_data"
    }
   ],
   "source": [
    "_.bar()"
   ]
  },
  {
   "cell_type": "markdown",
   "metadata": {},
   "source": [
    "#### From the result, we find that extreme humidity may cause more collisions, and lowest humidity is even more dangerous than extreme high humidity."
   ]
  },
  {
   "cell_type": "markdown",
   "metadata": {},
   "source": [
    "#### 2.What's the relationship between pressure and number of collisions?"
   ]
  },
  {
   "cell_type": "code",
   "execution_count": 153,
   "metadata": {},
   "outputs": [
    {
     "name": "stdout",
     "output_type": "stream",
     "text": [
      " * postgresql://student@/project4\n",
      "Done.\n",
      "56 rows affected.\n"
     ]
    },
    {
     "data": {
      "text/plain": [
       "[]"
      ]
     },
     "execution_count": 153,
     "metadata": {},
     "output_type": "execute_result"
    }
   ],
   "source": [
    "%%sql\n",
    "drop table if exists table2a;\n",
    "create table table2a as\n",
    "(select  pressure,count(collision.*) as a\n",
    "    from (collision join alltime on collision.alltime_key=alltime.alltime_key) join weather on alltime.year=weather.year and alltime.month=weather.month and alltime.day=weather.day and alltime.hour=weather.hour\n",
    "    group by pressure\n",
    "    order by a desc)"
   ]
  },
  {
   "cell_type": "code",
   "execution_count": 154,
   "metadata": {},
   "outputs": [
    {
     "name": "stdout",
     "output_type": "stream",
     "text": [
      " * postgresql://student@/project4\n",
      "Done.\n",
      "56 rows affected.\n"
     ]
    },
    {
     "data": {
      "text/plain": [
       "[]"
      ]
     },
     "execution_count": 154,
     "metadata": {},
     "output_type": "execute_result"
    }
   ],
   "source": [
    "%%sql\n",
    "drop table if exists table2b;\n",
    "create table table2b as\n",
    "(select pressure, count(pressure) as b from weather\n",
    " group by pressure\n",
    ")"
   ]
  },
  {
   "cell_type": "code",
   "execution_count": 155,
   "metadata": {},
   "outputs": [
    {
     "name": "stdout",
     "output_type": "stream",
     "text": [
      " * postgresql://student@/project4\n",
      "10 rows affected.\n"
     ]
    },
    {
     "data": {
      "text/html": [
       "<table>\n",
       "    <tr>\n",
       "        <th>pressure</th>\n",
       "        <th>frequency</th>\n",
       "    </tr>\n",
       "    <tr>\n",
       "        <td>1041</td>\n",
       "        <td>38</td>\n",
       "    </tr>\n",
       "    <tr>\n",
       "        <td>1043</td>\n",
       "        <td>33</td>\n",
       "    </tr>\n",
       "    <tr>\n",
       "        <td>995</td>\n",
       "        <td>33</td>\n",
       "    </tr>\n",
       "    <tr>\n",
       "        <td>1042</td>\n",
       "        <td>30</td>\n",
       "    </tr>\n",
       "    <tr>\n",
       "        <td>994</td>\n",
       "        <td>30</td>\n",
       "    </tr>\n",
       "    <tr>\n",
       "        <td>1001</td>\n",
       "        <td>29</td>\n",
       "    </tr>\n",
       "    <tr>\n",
       "        <td>1002</td>\n",
       "        <td>28</td>\n",
       "    </tr>\n",
       "    <tr>\n",
       "        <td>993</td>\n",
       "        <td>27</td>\n",
       "    </tr>\n",
       "    <tr>\n",
       "        <td>1032</td>\n",
       "        <td>27</td>\n",
       "    </tr>\n",
       "    <tr>\n",
       "        <td>996</td>\n",
       "        <td>27</td>\n",
       "    </tr>\n",
       "</table>"
      ],
      "text/plain": [
       "[(1041, 38),\n",
       " (1043, 33),\n",
       " (995, 33),\n",
       " (1042, 30),\n",
       " (994, 30),\n",
       " (1001, 29),\n",
       " (1002, 28),\n",
       " (993, 27),\n",
       " (1032, 27),\n",
       " (996, 27)]"
      ]
     },
     "execution_count": 155,
     "metadata": {},
     "output_type": "execute_result"
    }
   ],
   "source": [
    "%%sql\n",
    "select table2a.pressure, a/b as frequency from table2a join table2b on table2a.pressure=table2b.pressure\n",
    "order by frequency desc\n",
    "limit 10"
   ]
  },
  {
   "cell_type": "code",
   "execution_count": 156,
   "metadata": {},
   "outputs": [
    {
     "data": {
      "text/plain": [
       "<BarContainer object of 10 artists>"
      ]
     },
     "execution_count": 156,
     "metadata": {},
     "output_type": "execute_result"
    },
    {
     "data": {
      "image/png": "[encoded data removed]",
      "text/plain": [
       "<Figure size 432x288 with 1 Axes>"
      ]
     },
     "metadata": {
      "needs_background": "light"
     },
     "output_type": "display_data"
    }
   ],
   "source": [
    "_.bar()"
   ]
  },
  {
   "cell_type": "markdown",
   "metadata": {},
   "source": [
    "#### From the result, we find that higher pressure (1041,1042,1043) have more probability to have collisions. "
   ]
  },
  {
   "cell_type": "markdown",
   "metadata": {},
   "source": [
    "#### 3. Which kind of weather occurs more collision?"
   ]
  },
  {
   "cell_type": "code",
   "execution_count": 157,
   "metadata": {},
   "outputs": [
    {
     "name": "stdout",
     "output_type": "stream",
     "text": [
      " * postgresql://student@/project4\n",
      "Done.\n",
      "32 rows affected.\n"
     ]
    },
    {
     "data": {
      "text/plain": [
       "[]"
      ]
     },
     "execution_count": 157,
     "metadata": {},
     "output_type": "execute_result"
    }
   ],
   "source": [
    "%%sql\n",
    "drop table if exists table3a;\n",
    "create table table3a as\n",
    "(select  description,count(collision.*) as a\n",
    "    from (collision join alltime on collision.alltime_key=alltime.alltime_key) join weather on alltime.year=weather.year and alltime.month=weather.month and alltime.day=weather.day and alltime.hour=weather.hour\n",
    "    group by description\n",
    "    order by a desc)\n",
    " "
   ]
  },
  {
   "cell_type": "code",
   "execution_count": 158,
   "metadata": {},
   "outputs": [
    {
     "name": "stdout",
     "output_type": "stream",
     "text": [
      " * postgresql://student@/project4\n",
      "Done.\n",
      "32 rows affected.\n"
     ]
    },
    {
     "data": {
      "text/plain": [
       "[]"
      ]
     },
     "execution_count": 158,
     "metadata": {},
     "output_type": "execute_result"
    }
   ],
   "source": [
    "%%sql\n",
    "drop table if exists table3b;\n",
    "create table table3b as\n",
    "(select description, count(description) as b from weather\n",
    " group by description\n",
    ")"
   ]
  },
  {
   "cell_type": "code",
   "execution_count": 159,
   "metadata": {},
   "outputs": [
    {
     "name": "stdout",
     "output_type": "stream",
     "text": [
      " * postgresql://student@/project4\n",
      "10 rows affected.\n"
     ]
    },
    {
     "data": {
      "text/html": [
       "<table>\n",
       "    <tr>\n",
       "        <th>description</th>\n",
       "        <th>frequency</th>\n",
       "    </tr>\n",
       "    <tr>\n",
       "        <td>proximity thunderstorm with rain</td>\n",
       "        <td>41</td>\n",
       "    </tr>\n",
       "    <tr>\n",
       "        <td>proximity thunderstorm with drizzle</td>\n",
       "        <td>36</td>\n",
       "    </tr>\n",
       "    <tr>\n",
       "        <td>haze</td>\n",
       "        <td>28</td>\n",
       "    </tr>\n",
       "    <tr>\n",
       "        <td>few clouds</td>\n",
       "        <td>26</td>\n",
       "    </tr>\n",
       "    <tr>\n",
       "        <td>heavy thunderstorm</td>\n",
       "        <td>26</td>\n",
       "    </tr>\n",
       "    <tr>\n",
       "        <td>heavy intensity rain</td>\n",
       "        <td>26</td>\n",
       "    </tr>\n",
       "    <tr>\n",
       "        <td>broken clouds</td>\n",
       "        <td>25</td>\n",
       "    </tr>\n",
       "    <tr>\n",
       "        <td>proximity thunderstorm</td>\n",
       "        <td>25</td>\n",
       "    </tr>\n",
       "    <tr>\n",
       "        <td>heavy intensity drizzle</td>\n",
       "        <td>25</td>\n",
       "    </tr>\n",
       "    <tr>\n",
       "        <td>scattered clouds</td>\n",
       "        <td>25</td>\n",
       "    </tr>\n",
       "</table>"
      ],
      "text/plain": [
       "[('proximity thunderstorm with rain', 41),\n",
       " ('proximity thunderstorm with drizzle', 36),\n",
       " ('haze', 28),\n",
       " ('few clouds', 26),\n",
       " ('heavy thunderstorm', 26),\n",
       " ('heavy intensity rain', 26),\n",
       " ('broken clouds', 25),\n",
       " ('proximity thunderstorm', 25),\n",
       " ('heavy intensity drizzle', 25),\n",
       " ('scattered clouds', 25)]"
      ]
     },
     "execution_count": 159,
     "metadata": {},
     "output_type": "execute_result"
    }
   ],
   "source": [
    "%%sql\n",
    "select table3a.description, a/b as frequency from table3a join table3b on table3a.description=table3b.description\n",
    "order by frequency desc\n",
    "limit 10"
   ]
  },
  {
   "cell_type": "code",
   "execution_count": 160,
   "metadata": {},
   "outputs": [
    {
     "data": {
      "text/plain": [
       "<BarContainer object of 10 artists>"
      ]
     },
     "execution_count": 160,
     "metadata": {},
     "output_type": "execute_result"
    },
    {
     "data": {
      "image/png": "[encoded data removed]",
      "text/plain": [
       "<Figure size 432x288 with 1 Axes>"
      ]
     },
     "metadata": {
      "needs_background": "light"
     },
     "output_type": "display_data"
    }
   ],
   "source": [
    "_.bar()"
   ]
  },
  {
   "cell_type": "markdown",
   "metadata": {},
   "source": [
    "#### Bad weather are more likely to have collisions, such as thunderstorm, haze and intensity rain. "
   ]
  },
  {
   "cell_type": "markdown",
   "metadata": {},
   "source": [
    "#### Conclusion: Adding another dataset to our original one is really a useful way to broaden our analysis, and make our insights more comprehensive and valueable. We find that bad weather really make more collisions, so drivers should avoid driving under bad weathers(extreme humidity,high pressure and bad description)."
   ]
  }
 ],
 "metadata": {
  "kernelspec": {
   "display_name": "Python 3",
   "language": "python",
   "name": "python3"
  },
  "language_info": {
   "codemirror_mode": {
    "name": "ipython",
    "version": 3
   },
   "file_extension": ".py",
   "mimetype": "text/x-python",
   "name": "python",
   "nbconvert_exporter": "python",
   "pygments_lexer": "ipython3",
   "version": "3.7.3"
  }
 },
 "nbformat": 4,
 "nbformat_minor": 2
}
